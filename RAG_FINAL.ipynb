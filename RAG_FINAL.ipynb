{
  "nbformat": 4,
  "nbformat_minor": 0,
  "metadata": {
    "colab": {
      "provenance": []
    },
    "kernelspec": {
      "name": "python3",
      "display_name": "Python 3"
    },
    "language_info": {
      "name": "python"
    },
    "widgets": {
      "application/vnd.jupyter.widget-state+json": {
        "ad807ff8c70b4d498c919155f14e8b30": {
          "model_module": "@jupyter-widgets/controls",
          "model_name": "HBoxModel",
          "model_module_version": "1.5.0",
          "state": {
            "_dom_classes": [],
            "_model_module": "@jupyter-widgets/controls",
            "_model_module_version": "1.5.0",
            "_model_name": "HBoxModel",
            "_view_count": null,
            "_view_module": "@jupyter-widgets/controls",
            "_view_module_version": "1.5.0",
            "_view_name": "HBoxView",
            "box_style": "",
            "children": [
              "IPY_MODEL_46f06fe1658c4651acd94e20166d81b2",
              "IPY_MODEL_cf269fa2124f487399d453a970a43fc1",
              "IPY_MODEL_78c19fee2d1e4181b1b23f21a476b1f3"
            ],
            "layout": "IPY_MODEL_0d9a469619bd4dbfad50b4258f593c45"
          }
        },
        "46f06fe1658c4651acd94e20166d81b2": {
          "model_module": "@jupyter-widgets/controls",
          "model_name": "HTMLModel",
          "model_module_version": "1.5.0",
          "state": {
            "_dom_classes": [],
            "_model_module": "@jupyter-widgets/controls",
            "_model_module_version": "1.5.0",
            "_model_name": "HTMLModel",
            "_view_count": null,
            "_view_module": "@jupyter-widgets/controls",
            "_view_module_version": "1.5.0",
            "_view_name": "HTMLView",
            "description": "",
            "description_tooltip": null,
            "layout": "IPY_MODEL_4c38814747ea419295e807c10ef1697a",
            "placeholder": "​",
            "style": "IPY_MODEL_257e1852c82f424a970785e3982a8a5b",
            "value": "config.json: 100%"
          }
        },
        "cf269fa2124f487399d453a970a43fc1": {
          "model_module": "@jupyter-widgets/controls",
          "model_name": "FloatProgressModel",
          "model_module_version": "1.5.0",
          "state": {
            "_dom_classes": [],
            "_model_module": "@jupyter-widgets/controls",
            "_model_module_version": "1.5.0",
            "_model_name": "FloatProgressModel",
            "_view_count": null,
            "_view_module": "@jupyter-widgets/controls",
            "_view_module_version": "1.5.0",
            "_view_name": "ProgressView",
            "bar_style": "success",
            "description": "",
            "description_tooltip": null,
            "layout": "IPY_MODEL_bbfdf2e6203a4035b6c9600af1076837",
            "max": 1585,
            "min": 0,
            "orientation": "horizontal",
            "style": "IPY_MODEL_405bbd8be0e94293945d79b5309bdb5d",
            "value": 1585
          }
        },
        "78c19fee2d1e4181b1b23f21a476b1f3": {
          "model_module": "@jupyter-widgets/controls",
          "model_name": "HTMLModel",
          "model_module_version": "1.5.0",
          "state": {
            "_dom_classes": [],
            "_model_module": "@jupyter-widgets/controls",
            "_model_module_version": "1.5.0",
            "_model_name": "HTMLModel",
            "_view_count": null,
            "_view_module": "@jupyter-widgets/controls",
            "_view_module_version": "1.5.0",
            "_view_name": "HTMLView",
            "description": "",
            "description_tooltip": null,
            "layout": "IPY_MODEL_916fcfd0f885495597676a2ca2ab26fe",
            "placeholder": "​",
            "style": "IPY_MODEL_a54ad39fa8ba42f4bb4b4b535536964b",
            "value": " 1.58k/1.58k [00:00&lt;00:00, 18.5kB/s]"
          }
        },
        "0d9a469619bd4dbfad50b4258f593c45": {
          "model_module": "@jupyter-widgets/base",
          "model_name": "LayoutModel",
          "model_module_version": "1.2.0",
          "state": {
            "_model_module": "@jupyter-widgets/base",
            "_model_module_version": "1.2.0",
            "_model_name": "LayoutModel",
            "_view_count": null,
            "_view_module": "@jupyter-widgets/base",
            "_view_module_version": "1.2.0",
            "_view_name": "LayoutView",
            "align_content": null,
            "align_items": null,
            "align_self": null,
            "border": null,
            "bottom": null,
            "display": null,
            "flex": null,
            "flex_flow": null,
            "grid_area": null,
            "grid_auto_columns": null,
            "grid_auto_flow": null,
            "grid_auto_rows": null,
            "grid_column": null,
            "grid_gap": null,
            "grid_row": null,
            "grid_template_areas": null,
            "grid_template_columns": null,
            "grid_template_rows": null,
            "height": null,
            "justify_content": null,
            "justify_items": null,
            "left": null,
            "margin": null,
            "max_height": null,
            "max_width": null,
            "min_height": null,
            "min_width": null,
            "object_fit": null,
            "object_position": null,
            "order": null,
            "overflow": null,
            "overflow_x": null,
            "overflow_y": null,
            "padding": null,
            "right": null,
            "top": null,
            "visibility": null,
            "width": null
          }
        },
        "4c38814747ea419295e807c10ef1697a": {
          "model_module": "@jupyter-widgets/base",
          "model_name": "LayoutModel",
          "model_module_version": "1.2.0",
          "state": {
            "_model_module": "@jupyter-widgets/base",
            "_model_module_version": "1.2.0",
            "_model_name": "LayoutModel",
            "_view_count": null,
            "_view_module": "@jupyter-widgets/base",
            "_view_module_version": "1.2.0",
            "_view_name": "LayoutView",
            "align_content": null,
            "align_items": null,
            "align_self": null,
            "border": null,
            "bottom": null,
            "display": null,
            "flex": null,
            "flex_flow": null,
            "grid_area": null,
            "grid_auto_columns": null,
            "grid_auto_flow": null,
            "grid_auto_rows": null,
            "grid_column": null,
            "grid_gap": null,
            "grid_row": null,
            "grid_template_areas": null,
            "grid_template_columns": null,
            "grid_template_rows": null,
            "height": null,
            "justify_content": null,
            "justify_items": null,
            "left": null,
            "margin": null,
            "max_height": null,
            "max_width": null,
            "min_height": null,
            "min_width": null,
            "object_fit": null,
            "object_position": null,
            "order": null,
            "overflow": null,
            "overflow_x": null,
            "overflow_y": null,
            "padding": null,
            "right": null,
            "top": null,
            "visibility": null,
            "width": null
          }
        },
        "257e1852c82f424a970785e3982a8a5b": {
          "model_module": "@jupyter-widgets/controls",
          "model_name": "DescriptionStyleModel",
          "model_module_version": "1.5.0",
          "state": {
            "_model_module": "@jupyter-widgets/controls",
            "_model_module_version": "1.5.0",
            "_model_name": "DescriptionStyleModel",
            "_view_count": null,
            "_view_module": "@jupyter-widgets/base",
            "_view_module_version": "1.2.0",
            "_view_name": "StyleView",
            "description_width": ""
          }
        },
        "bbfdf2e6203a4035b6c9600af1076837": {
          "model_module": "@jupyter-widgets/base",
          "model_name": "LayoutModel",
          "model_module_version": "1.2.0",
          "state": {
            "_model_module": "@jupyter-widgets/base",
            "_model_module_version": "1.2.0",
            "_model_name": "LayoutModel",
            "_view_count": null,
            "_view_module": "@jupyter-widgets/base",
            "_view_module_version": "1.2.0",
            "_view_name": "LayoutView",
            "align_content": null,
            "align_items": null,
            "align_self": null,
            "border": null,
            "bottom": null,
            "display": null,
            "flex": null,
            "flex_flow": null,
            "grid_area": null,
            "grid_auto_columns": null,
            "grid_auto_flow": null,
            "grid_auto_rows": null,
            "grid_column": null,
            "grid_gap": null,
            "grid_row": null,
            "grid_template_areas": null,
            "grid_template_columns": null,
            "grid_template_rows": null,
            "height": null,
            "justify_content": null,
            "justify_items": null,
            "left": null,
            "margin": null,
            "max_height": null,
            "max_width": null,
            "min_height": null,
            "min_width": null,
            "object_fit": null,
            "object_position": null,
            "order": null,
            "overflow": null,
            "overflow_x": null,
            "overflow_y": null,
            "padding": null,
            "right": null,
            "top": null,
            "visibility": null,
            "width": null
          }
        },
        "405bbd8be0e94293945d79b5309bdb5d": {
          "model_module": "@jupyter-widgets/controls",
          "model_name": "ProgressStyleModel",
          "model_module_version": "1.5.0",
          "state": {
            "_model_module": "@jupyter-widgets/controls",
            "_model_module_version": "1.5.0",
            "_model_name": "ProgressStyleModel",
            "_view_count": null,
            "_view_module": "@jupyter-widgets/base",
            "_view_module_version": "1.2.0",
            "_view_name": "StyleView",
            "bar_color": null,
            "description_width": ""
          }
        },
        "916fcfd0f885495597676a2ca2ab26fe": {
          "model_module": "@jupyter-widgets/base",
          "model_name": "LayoutModel",
          "model_module_version": "1.2.0",
          "state": {
            "_model_module": "@jupyter-widgets/base",
            "_model_module_version": "1.2.0",
            "_model_name": "LayoutModel",
            "_view_count": null,
            "_view_module": "@jupyter-widgets/base",
            "_view_module_version": "1.2.0",
            "_view_name": "LayoutView",
            "align_content": null,
            "align_items": null,
            "align_self": null,
            "border": null,
            "bottom": null,
            "display": null,
            "flex": null,
            "flex_flow": null,
            "grid_area": null,
            "grid_auto_columns": null,
            "grid_auto_flow": null,
            "grid_auto_rows": null,
            "grid_column": null,
            "grid_gap": null,
            "grid_row": null,
            "grid_template_areas": null,
            "grid_template_columns": null,
            "grid_template_rows": null,
            "height": null,
            "justify_content": null,
            "justify_items": null,
            "left": null,
            "margin": null,
            "max_height": null,
            "max_width": null,
            "min_height": null,
            "min_width": null,
            "object_fit": null,
            "object_position": null,
            "order": null,
            "overflow": null,
            "overflow_x": null,
            "overflow_y": null,
            "padding": null,
            "right": null,
            "top": null,
            "visibility": null,
            "width": null
          }
        },
        "a54ad39fa8ba42f4bb4b4b535536964b": {
          "model_module": "@jupyter-widgets/controls",
          "model_name": "DescriptionStyleModel",
          "model_module_version": "1.5.0",
          "state": {
            "_model_module": "@jupyter-widgets/controls",
            "_model_module_version": "1.5.0",
            "_model_name": "DescriptionStyleModel",
            "_view_count": null,
            "_view_module": "@jupyter-widgets/base",
            "_view_module_version": "1.2.0",
            "_view_name": "StyleView",
            "description_width": ""
          }
        },
        "9c00d700e0a940f49b7e0fcb62028f33": {
          "model_module": "@jupyter-widgets/controls",
          "model_name": "HBoxModel",
          "model_module_version": "1.5.0",
          "state": {
            "_dom_classes": [],
            "_model_module": "@jupyter-widgets/controls",
            "_model_module_version": "1.5.0",
            "_model_name": "HBoxModel",
            "_view_count": null,
            "_view_module": "@jupyter-widgets/controls",
            "_view_module_version": "1.5.0",
            "_view_name": "HBoxView",
            "box_style": "",
            "children": [
              "IPY_MODEL_90df0c0e1ea74a3fb88a8fe618be05f9",
              "IPY_MODEL_068f79f5db264da6ba9de20a43bb1ed9",
              "IPY_MODEL_c0a5257438874cb2b0b6cba1dd7936c3"
            ],
            "layout": "IPY_MODEL_3b32c97430d54f0c9635426ef9a20002"
          }
        },
        "90df0c0e1ea74a3fb88a8fe618be05f9": {
          "model_module": "@jupyter-widgets/controls",
          "model_name": "HTMLModel",
          "model_module_version": "1.5.0",
          "state": {
            "_dom_classes": [],
            "_model_module": "@jupyter-widgets/controls",
            "_model_module_version": "1.5.0",
            "_model_name": "HTMLModel",
            "_view_count": null,
            "_view_module": "@jupyter-widgets/controls",
            "_view_module_version": "1.5.0",
            "_view_name": "HTMLView",
            "description": "",
            "description_tooltip": null,
            "layout": "IPY_MODEL_8dc949832e254b08ba0348a90d8c8fc2",
            "placeholder": "​",
            "style": "IPY_MODEL_36b97583544c4c38bf76489115f7fd91",
            "value": "model.safetensors: 100%"
          }
        },
        "068f79f5db264da6ba9de20a43bb1ed9": {
          "model_module": "@jupyter-widgets/controls",
          "model_name": "FloatProgressModel",
          "model_module_version": "1.5.0",
          "state": {
            "_dom_classes": [],
            "_model_module": "@jupyter-widgets/controls",
            "_model_module_version": "1.5.0",
            "_model_name": "FloatProgressModel",
            "_view_count": null,
            "_view_module": "@jupyter-widgets/controls",
            "_view_module_version": "1.5.0",
            "_view_name": "ProgressView",
            "bar_style": "success",
            "description": "",
            "description_tooltip": null,
            "layout": "IPY_MODEL_95cf6b80ac594e8cafcbea2499089f64",
            "max": 1625222120,
            "min": 0,
            "orientation": "horizontal",
            "style": "IPY_MODEL_074f7b6f6552409c83ed8464080b13e5",
            "value": 1625222120
          }
        },
        "c0a5257438874cb2b0b6cba1dd7936c3": {
          "model_module": "@jupyter-widgets/controls",
          "model_name": "HTMLModel",
          "model_module_version": "1.5.0",
          "state": {
            "_dom_classes": [],
            "_model_module": "@jupyter-widgets/controls",
            "_model_module_version": "1.5.0",
            "_model_name": "HTMLModel",
            "_view_count": null,
            "_view_module": "@jupyter-widgets/controls",
            "_view_module_version": "1.5.0",
            "_view_name": "HTMLView",
            "description": "",
            "description_tooltip": null,
            "layout": "IPY_MODEL_d7d63b345b0b4279af55f9ac6d4b2994",
            "placeholder": "​",
            "style": "IPY_MODEL_9ed774f98d9946c29079fea17bdfbfe6",
            "value": " 1.63G/1.63G [00:19&lt;00:00, 96.3MB/s]"
          }
        },
        "3b32c97430d54f0c9635426ef9a20002": {
          "model_module": "@jupyter-widgets/base",
          "model_name": "LayoutModel",
          "model_module_version": "1.2.0",
          "state": {
            "_model_module": "@jupyter-widgets/base",
            "_model_module_version": "1.2.0",
            "_model_name": "LayoutModel",
            "_view_count": null,
            "_view_module": "@jupyter-widgets/base",
            "_view_module_version": "1.2.0",
            "_view_name": "LayoutView",
            "align_content": null,
            "align_items": null,
            "align_self": null,
            "border": null,
            "bottom": null,
            "display": null,
            "flex": null,
            "flex_flow": null,
            "grid_area": null,
            "grid_auto_columns": null,
            "grid_auto_flow": null,
            "grid_auto_rows": null,
            "grid_column": null,
            "grid_gap": null,
            "grid_row": null,
            "grid_template_areas": null,
            "grid_template_columns": null,
            "grid_template_rows": null,
            "height": null,
            "justify_content": null,
            "justify_items": null,
            "left": null,
            "margin": null,
            "max_height": null,
            "max_width": null,
            "min_height": null,
            "min_width": null,
            "object_fit": null,
            "object_position": null,
            "order": null,
            "overflow": null,
            "overflow_x": null,
            "overflow_y": null,
            "padding": null,
            "right": null,
            "top": null,
            "visibility": null,
            "width": null
          }
        },
        "8dc949832e254b08ba0348a90d8c8fc2": {
          "model_module": "@jupyter-widgets/base",
          "model_name": "LayoutModel",
          "model_module_version": "1.2.0",
          "state": {
            "_model_module": "@jupyter-widgets/base",
            "_model_module_version": "1.2.0",
            "_model_name": "LayoutModel",
            "_view_count": null,
            "_view_module": "@jupyter-widgets/base",
            "_view_module_version": "1.2.0",
            "_view_name": "LayoutView",
            "align_content": null,
            "align_items": null,
            "align_self": null,
            "border": null,
            "bottom": null,
            "display": null,
            "flex": null,
            "flex_flow": null,
            "grid_area": null,
            "grid_auto_columns": null,
            "grid_auto_flow": null,
            "grid_auto_rows": null,
            "grid_column": null,
            "grid_gap": null,
            "grid_row": null,
            "grid_template_areas": null,
            "grid_template_columns": null,
            "grid_template_rows": null,
            "height": null,
            "justify_content": null,
            "justify_items": null,
            "left": null,
            "margin": null,
            "max_height": null,
            "max_width": null,
            "min_height": null,
            "min_width": null,
            "object_fit": null,
            "object_position": null,
            "order": null,
            "overflow": null,
            "overflow_x": null,
            "overflow_y": null,
            "padding": null,
            "right": null,
            "top": null,
            "visibility": null,
            "width": null
          }
        },
        "36b97583544c4c38bf76489115f7fd91": {
          "model_module": "@jupyter-widgets/controls",
          "model_name": "DescriptionStyleModel",
          "model_module_version": "1.5.0",
          "state": {
            "_model_module": "@jupyter-widgets/controls",
            "_model_module_version": "1.5.0",
            "_model_name": "DescriptionStyleModel",
            "_view_count": null,
            "_view_module": "@jupyter-widgets/base",
            "_view_module_version": "1.2.0",
            "_view_name": "StyleView",
            "description_width": ""
          }
        },
        "95cf6b80ac594e8cafcbea2499089f64": {
          "model_module": "@jupyter-widgets/base",
          "model_name": "LayoutModel",
          "model_module_version": "1.2.0",
          "state": {
            "_model_module": "@jupyter-widgets/base",
            "_model_module_version": "1.2.0",
            "_model_name": "LayoutModel",
            "_view_count": null,
            "_view_module": "@jupyter-widgets/base",
            "_view_module_version": "1.2.0",
            "_view_name": "LayoutView",
            "align_content": null,
            "align_items": null,
            "align_self": null,
            "border": null,
            "bottom": null,
            "display": null,
            "flex": null,
            "flex_flow": null,
            "grid_area": null,
            "grid_auto_columns": null,
            "grid_auto_flow": null,
            "grid_auto_rows": null,
            "grid_column": null,
            "grid_gap": null,
            "grid_row": null,
            "grid_template_areas": null,
            "grid_template_columns": null,
            "grid_template_rows": null,
            "height": null,
            "justify_content": null,
            "justify_items": null,
            "left": null,
            "margin": null,
            "max_height": null,
            "max_width": null,
            "min_height": null,
            "min_width": null,
            "object_fit": null,
            "object_position": null,
            "order": null,
            "overflow": null,
            "overflow_x": null,
            "overflow_y": null,
            "padding": null,
            "right": null,
            "top": null,
            "visibility": null,
            "width": null
          }
        },
        "074f7b6f6552409c83ed8464080b13e5": {
          "model_module": "@jupyter-widgets/controls",
          "model_name": "ProgressStyleModel",
          "model_module_version": "1.5.0",
          "state": {
            "_model_module": "@jupyter-widgets/controls",
            "_model_module_version": "1.5.0",
            "_model_name": "ProgressStyleModel",
            "_view_count": null,
            "_view_module": "@jupyter-widgets/base",
            "_view_module_version": "1.2.0",
            "_view_name": "StyleView",
            "bar_color": null,
            "description_width": ""
          }
        },
        "d7d63b345b0b4279af55f9ac6d4b2994": {
          "model_module": "@jupyter-widgets/base",
          "model_name": "LayoutModel",
          "model_module_version": "1.2.0",
          "state": {
            "_model_module": "@jupyter-widgets/base",
            "_model_module_version": "1.2.0",
            "_model_name": "LayoutModel",
            "_view_count": null,
            "_view_module": "@jupyter-widgets/base",
            "_view_module_version": "1.2.0",
            "_view_name": "LayoutView",
            "align_content": null,
            "align_items": null,
            "align_self": null,
            "border": null,
            "bottom": null,
            "display": null,
            "flex": null,
            "flex_flow": null,
            "grid_area": null,
            "grid_auto_columns": null,
            "grid_auto_flow": null,
            "grid_auto_rows": null,
            "grid_column": null,
            "grid_gap": null,
            "grid_row": null,
            "grid_template_areas": null,
            "grid_template_columns": null,
            "grid_template_rows": null,
            "height": null,
            "justify_content": null,
            "justify_items": null,
            "left": null,
            "margin": null,
            "max_height": null,
            "max_width": null,
            "min_height": null,
            "min_width": null,
            "object_fit": null,
            "object_position": null,
            "order": null,
            "overflow": null,
            "overflow_x": null,
            "overflow_y": null,
            "padding": null,
            "right": null,
            "top": null,
            "visibility": null,
            "width": null
          }
        },
        "9ed774f98d9946c29079fea17bdfbfe6": {
          "model_module": "@jupyter-widgets/controls",
          "model_name": "DescriptionStyleModel",
          "model_module_version": "1.5.0",
          "state": {
            "_model_module": "@jupyter-widgets/controls",
            "_model_module_version": "1.5.0",
            "_model_name": "DescriptionStyleModel",
            "_view_count": null,
            "_view_module": "@jupyter-widgets/base",
            "_view_module_version": "1.2.0",
            "_view_name": "StyleView",
            "description_width": ""
          }
        },
        "aa1f1a0664c7467294552e5f3da6dd2b": {
          "model_module": "@jupyter-widgets/controls",
          "model_name": "HBoxModel",
          "model_module_version": "1.5.0",
          "state": {
            "_dom_classes": [],
            "_model_module": "@jupyter-widgets/controls",
            "_model_module_version": "1.5.0",
            "_model_name": "HBoxModel",
            "_view_count": null,
            "_view_module": "@jupyter-widgets/controls",
            "_view_module_version": "1.5.0",
            "_view_name": "HBoxView",
            "box_style": "",
            "children": [
              "IPY_MODEL_0a64da69b8264097bedae588f2b5a3c8",
              "IPY_MODEL_4eb1d402f99c4b8f8d96a7f583019005",
              "IPY_MODEL_2475253cf4924596bb01f862d0cf132a"
            ],
            "layout": "IPY_MODEL_c4203a14d18b41eaa3a2ecf1a636cff0"
          }
        },
        "0a64da69b8264097bedae588f2b5a3c8": {
          "model_module": "@jupyter-widgets/controls",
          "model_name": "HTMLModel",
          "model_module_version": "1.5.0",
          "state": {
            "_dom_classes": [],
            "_model_module": "@jupyter-widgets/controls",
            "_model_module_version": "1.5.0",
            "_model_name": "HTMLModel",
            "_view_count": null,
            "_view_module": "@jupyter-widgets/controls",
            "_view_module_version": "1.5.0",
            "_view_name": "HTMLView",
            "description": "",
            "description_tooltip": null,
            "layout": "IPY_MODEL_b99a805b092e447da4e9379318338144",
            "placeholder": "​",
            "style": "IPY_MODEL_0417f541db81435f9318802a08510bd8",
            "value": "generation_config.json: 100%"
          }
        },
        "4eb1d402f99c4b8f8d96a7f583019005": {
          "model_module": "@jupyter-widgets/controls",
          "model_name": "FloatProgressModel",
          "model_module_version": "1.5.0",
          "state": {
            "_dom_classes": [],
            "_model_module": "@jupyter-widgets/controls",
            "_model_module_version": "1.5.0",
            "_model_name": "FloatProgressModel",
            "_view_count": null,
            "_view_module": "@jupyter-widgets/controls",
            "_view_module_version": "1.5.0",
            "_view_name": "ProgressView",
            "bar_style": "success",
            "description": "",
            "description_tooltip": null,
            "layout": "IPY_MODEL_56f4e26bad1b44ecb0c7604bce5b5e8a",
            "max": 363,
            "min": 0,
            "orientation": "horizontal",
            "style": "IPY_MODEL_98c01c5364784efc9db0bd7368e731f2",
            "value": 363
          }
        },
        "2475253cf4924596bb01f862d0cf132a": {
          "model_module": "@jupyter-widgets/controls",
          "model_name": "HTMLModel",
          "model_module_version": "1.5.0",
          "state": {
            "_dom_classes": [],
            "_model_module": "@jupyter-widgets/controls",
            "_model_module_version": "1.5.0",
            "_model_name": "HTMLModel",
            "_view_count": null,
            "_view_module": "@jupyter-widgets/controls",
            "_view_module_version": "1.5.0",
            "_view_name": "HTMLView",
            "description": "",
            "description_tooltip": null,
            "layout": "IPY_MODEL_1986ddf590d740a99f4eec58e7e1705f",
            "placeholder": "​",
            "style": "IPY_MODEL_4bca58dd70bb4245aafe0dc6f8ec140a",
            "value": " 363/363 [00:00&lt;00:00, 20.5kB/s]"
          }
        },
        "c4203a14d18b41eaa3a2ecf1a636cff0": {
          "model_module": "@jupyter-widgets/base",
          "model_name": "LayoutModel",
          "model_module_version": "1.2.0",
          "state": {
            "_model_module": "@jupyter-widgets/base",
            "_model_module_version": "1.2.0",
            "_model_name": "LayoutModel",
            "_view_count": null,
            "_view_module": "@jupyter-widgets/base",
            "_view_module_version": "1.2.0",
            "_view_name": "LayoutView",
            "align_content": null,
            "align_items": null,
            "align_self": null,
            "border": null,
            "bottom": null,
            "display": null,
            "flex": null,
            "flex_flow": null,
            "grid_area": null,
            "grid_auto_columns": null,
            "grid_auto_flow": null,
            "grid_auto_rows": null,
            "grid_column": null,
            "grid_gap": null,
            "grid_row": null,
            "grid_template_areas": null,
            "grid_template_columns": null,
            "grid_template_rows": null,
            "height": null,
            "justify_content": null,
            "justify_items": null,
            "left": null,
            "margin": null,
            "max_height": null,
            "max_width": null,
            "min_height": null,
            "min_width": null,
            "object_fit": null,
            "object_position": null,
            "order": null,
            "overflow": null,
            "overflow_x": null,
            "overflow_y": null,
            "padding": null,
            "right": null,
            "top": null,
            "visibility": null,
            "width": null
          }
        },
        "b99a805b092e447da4e9379318338144": {
          "model_module": "@jupyter-widgets/base",
          "model_name": "LayoutModel",
          "model_module_version": "1.2.0",
          "state": {
            "_model_module": "@jupyter-widgets/base",
            "_model_module_version": "1.2.0",
            "_model_name": "LayoutModel",
            "_view_count": null,
            "_view_module": "@jupyter-widgets/base",
            "_view_module_version": "1.2.0",
            "_view_name": "LayoutView",
            "align_content": null,
            "align_items": null,
            "align_self": null,
            "border": null,
            "bottom": null,
            "display": null,
            "flex": null,
            "flex_flow": null,
            "grid_area": null,
            "grid_auto_columns": null,
            "grid_auto_flow": null,
            "grid_auto_rows": null,
            "grid_column": null,
            "grid_gap": null,
            "grid_row": null,
            "grid_template_areas": null,
            "grid_template_columns": null,
            "grid_template_rows": null,
            "height": null,
            "justify_content": null,
            "justify_items": null,
            "left": null,
            "margin": null,
            "max_height": null,
            "max_width": null,
            "min_height": null,
            "min_width": null,
            "object_fit": null,
            "object_position": null,
            "order": null,
            "overflow": null,
            "overflow_x": null,
            "overflow_y": null,
            "padding": null,
            "right": null,
            "top": null,
            "visibility": null,
            "width": null
          }
        },
        "0417f541db81435f9318802a08510bd8": {
          "model_module": "@jupyter-widgets/controls",
          "model_name": "DescriptionStyleModel",
          "model_module_version": "1.5.0",
          "state": {
            "_model_module": "@jupyter-widgets/controls",
            "_model_module_version": "1.5.0",
            "_model_name": "DescriptionStyleModel",
            "_view_count": null,
            "_view_module": "@jupyter-widgets/base",
            "_view_module_version": "1.2.0",
            "_view_name": "StyleView",
            "description_width": ""
          }
        },
        "56f4e26bad1b44ecb0c7604bce5b5e8a": {
          "model_module": "@jupyter-widgets/base",
          "model_name": "LayoutModel",
          "model_module_version": "1.2.0",
          "state": {
            "_model_module": "@jupyter-widgets/base",
            "_model_module_version": "1.2.0",
            "_model_name": "LayoutModel",
            "_view_count": null,
            "_view_module": "@jupyter-widgets/base",
            "_view_module_version": "1.2.0",
            "_view_name": "LayoutView",
            "align_content": null,
            "align_items": null,
            "align_self": null,
            "border": null,
            "bottom": null,
            "display": null,
            "flex": null,
            "flex_flow": null,
            "grid_area": null,
            "grid_auto_columns": null,
            "grid_auto_flow": null,
            "grid_auto_rows": null,
            "grid_column": null,
            "grid_gap": null,
            "grid_row": null,
            "grid_template_areas": null,
            "grid_template_columns": null,
            "grid_template_rows": null,
            "height": null,
            "justify_content": null,
            "justify_items": null,
            "left": null,
            "margin": null,
            "max_height": null,
            "max_width": null,
            "min_height": null,
            "min_width": null,
            "object_fit": null,
            "object_position": null,
            "order": null,
            "overflow": null,
            "overflow_x": null,
            "overflow_y": null,
            "padding": null,
            "right": null,
            "top": null,
            "visibility": null,
            "width": null
          }
        },
        "98c01c5364784efc9db0bd7368e731f2": {
          "model_module": "@jupyter-widgets/controls",
          "model_name": "ProgressStyleModel",
          "model_module_version": "1.5.0",
          "state": {
            "_model_module": "@jupyter-widgets/controls",
            "_model_module_version": "1.5.0",
            "_model_name": "ProgressStyleModel",
            "_view_count": null,
            "_view_module": "@jupyter-widgets/base",
            "_view_module_version": "1.2.0",
            "_view_name": "StyleView",
            "bar_color": null,
            "description_width": ""
          }
        },
        "1986ddf590d740a99f4eec58e7e1705f": {
          "model_module": "@jupyter-widgets/base",
          "model_name": "LayoutModel",
          "model_module_version": "1.2.0",
          "state": {
            "_model_module": "@jupyter-widgets/base",
            "_model_module_version": "1.2.0",
            "_model_name": "LayoutModel",
            "_view_count": null,
            "_view_module": "@jupyter-widgets/base",
            "_view_module_version": "1.2.0",
            "_view_name": "LayoutView",
            "align_content": null,
            "align_items": null,
            "align_self": null,
            "border": null,
            "bottom": null,
            "display": null,
            "flex": null,
            "flex_flow": null,
            "grid_area": null,
            "grid_auto_columns": null,
            "grid_auto_flow": null,
            "grid_auto_rows": null,
            "grid_column": null,
            "grid_gap": null,
            "grid_row": null,
            "grid_template_areas": null,
            "grid_template_columns": null,
            "grid_template_rows": null,
            "height": null,
            "justify_content": null,
            "justify_items": null,
            "left": null,
            "margin": null,
            "max_height": null,
            "max_width": null,
            "min_height": null,
            "min_width": null,
            "object_fit": null,
            "object_position": null,
            "order": null,
            "overflow": null,
            "overflow_x": null,
            "overflow_y": null,
            "padding": null,
            "right": null,
            "top": null,
            "visibility": null,
            "width": null
          }
        },
        "4bca58dd70bb4245aafe0dc6f8ec140a": {
          "model_module": "@jupyter-widgets/controls",
          "model_name": "DescriptionStyleModel",
          "model_module_version": "1.5.0",
          "state": {
            "_model_module": "@jupyter-widgets/controls",
            "_model_module_version": "1.5.0",
            "_model_name": "DescriptionStyleModel",
            "_view_count": null,
            "_view_module": "@jupyter-widgets/base",
            "_view_module_version": "1.2.0",
            "_view_name": "StyleView",
            "description_width": ""
          }
        },
        "8146cbaf63d74d2ab737ea3ce28653d2": {
          "model_module": "@jupyter-widgets/controls",
          "model_name": "HBoxModel",
          "model_module_version": "1.5.0",
          "state": {
            "_dom_classes": [],
            "_model_module": "@jupyter-widgets/controls",
            "_model_module_version": "1.5.0",
            "_model_name": "HBoxModel",
            "_view_count": null,
            "_view_module": "@jupyter-widgets/controls",
            "_view_module_version": "1.5.0",
            "_view_name": "HBoxView",
            "box_style": "",
            "children": [
              "IPY_MODEL_54688ba75f5e4ed1ad4a0576384fbc48",
              "IPY_MODEL_bf9e8edfe6694220a5f5a1557a77d406",
              "IPY_MODEL_23c863b49670429591cce2f6056574e8"
            ],
            "layout": "IPY_MODEL_2546736a85294382b53d11f2a506e029"
          }
        },
        "54688ba75f5e4ed1ad4a0576384fbc48": {
          "model_module": "@jupyter-widgets/controls",
          "model_name": "HTMLModel",
          "model_module_version": "1.5.0",
          "state": {
            "_dom_classes": [],
            "_model_module": "@jupyter-widgets/controls",
            "_model_module_version": "1.5.0",
            "_model_name": "HTMLModel",
            "_view_count": null,
            "_view_module": "@jupyter-widgets/controls",
            "_view_module_version": "1.5.0",
            "_view_name": "HTMLView",
            "description": "",
            "description_tooltip": null,
            "layout": "IPY_MODEL_148554247f874a20a6611cd12c9cea75",
            "placeholder": "​",
            "style": "IPY_MODEL_e02828b53b134b799e60e7767c073648",
            "value": "vocab.json: 100%"
          }
        },
        "bf9e8edfe6694220a5f5a1557a77d406": {
          "model_module": "@jupyter-widgets/controls",
          "model_name": "FloatProgressModel",
          "model_module_version": "1.5.0",
          "state": {
            "_dom_classes": [],
            "_model_module": "@jupyter-widgets/controls",
            "_model_module_version": "1.5.0",
            "_model_name": "FloatProgressModel",
            "_view_count": null,
            "_view_module": "@jupyter-widgets/controls",
            "_view_module_version": "1.5.0",
            "_view_name": "ProgressView",
            "bar_style": "success",
            "description": "",
            "description_tooltip": null,
            "layout": "IPY_MODEL_88d37a933f394e0e92a240c4508f6ad4",
            "max": 898823,
            "min": 0,
            "orientation": "horizontal",
            "style": "IPY_MODEL_c43b40ed85f04551bcd55e7b491f9659",
            "value": 898823
          }
        },
        "23c863b49670429591cce2f6056574e8": {
          "model_module": "@jupyter-widgets/controls",
          "model_name": "HTMLModel",
          "model_module_version": "1.5.0",
          "state": {
            "_dom_classes": [],
            "_model_module": "@jupyter-widgets/controls",
            "_model_module_version": "1.5.0",
            "_model_name": "HTMLModel",
            "_view_count": null,
            "_view_module": "@jupyter-widgets/controls",
            "_view_module_version": "1.5.0",
            "_view_name": "HTMLView",
            "description": "",
            "description_tooltip": null,
            "layout": "IPY_MODEL_b1a5df2d1ddd4c0fbf6985dc6e65ec8a",
            "placeholder": "​",
            "style": "IPY_MODEL_3bcbad2bfda34824ac6e4dca26444782",
            "value": " 899k/899k [00:00&lt;00:00, 11.8MB/s]"
          }
        },
        "2546736a85294382b53d11f2a506e029": {
          "model_module": "@jupyter-widgets/base",
          "model_name": "LayoutModel",
          "model_module_version": "1.2.0",
          "state": {
            "_model_module": "@jupyter-widgets/base",
            "_model_module_version": "1.2.0",
            "_model_name": "LayoutModel",
            "_view_count": null,
            "_view_module": "@jupyter-widgets/base",
            "_view_module_version": "1.2.0",
            "_view_name": "LayoutView",
            "align_content": null,
            "align_items": null,
            "align_self": null,
            "border": null,
            "bottom": null,
            "display": null,
            "flex": null,
            "flex_flow": null,
            "grid_area": null,
            "grid_auto_columns": null,
            "grid_auto_flow": null,
            "grid_auto_rows": null,
            "grid_column": null,
            "grid_gap": null,
            "grid_row": null,
            "grid_template_areas": null,
            "grid_template_columns": null,
            "grid_template_rows": null,
            "height": null,
            "justify_content": null,
            "justify_items": null,
            "left": null,
            "margin": null,
            "max_height": null,
            "max_width": null,
            "min_height": null,
            "min_width": null,
            "object_fit": null,
            "object_position": null,
            "order": null,
            "overflow": null,
            "overflow_x": null,
            "overflow_y": null,
            "padding": null,
            "right": null,
            "top": null,
            "visibility": null,
            "width": null
          }
        },
        "148554247f874a20a6611cd12c9cea75": {
          "model_module": "@jupyter-widgets/base",
          "model_name": "LayoutModel",
          "model_module_version": "1.2.0",
          "state": {
            "_model_module": "@jupyter-widgets/base",
            "_model_module_version": "1.2.0",
            "_model_name": "LayoutModel",
            "_view_count": null,
            "_view_module": "@jupyter-widgets/base",
            "_view_module_version": "1.2.0",
            "_view_name": "LayoutView",
            "align_content": null,
            "align_items": null,
            "align_self": null,
            "border": null,
            "bottom": null,
            "display": null,
            "flex": null,
            "flex_flow": null,
            "grid_area": null,
            "grid_auto_columns": null,
            "grid_auto_flow": null,
            "grid_auto_rows": null,
            "grid_column": null,
            "grid_gap": null,
            "grid_row": null,
            "grid_template_areas": null,
            "grid_template_columns": null,
            "grid_template_rows": null,
            "height": null,
            "justify_content": null,
            "justify_items": null,
            "left": null,
            "margin": null,
            "max_height": null,
            "max_width": null,
            "min_height": null,
            "min_width": null,
            "object_fit": null,
            "object_position": null,
            "order": null,
            "overflow": null,
            "overflow_x": null,
            "overflow_y": null,
            "padding": null,
            "right": null,
            "top": null,
            "visibility": null,
            "width": null
          }
        },
        "e02828b53b134b799e60e7767c073648": {
          "model_module": "@jupyter-widgets/controls",
          "model_name": "DescriptionStyleModel",
          "model_module_version": "1.5.0",
          "state": {
            "_model_module": "@jupyter-widgets/controls",
            "_model_module_version": "1.5.0",
            "_model_name": "DescriptionStyleModel",
            "_view_count": null,
            "_view_module": "@jupyter-widgets/base",
            "_view_module_version": "1.2.0",
            "_view_name": "StyleView",
            "description_width": ""
          }
        },
        "88d37a933f394e0e92a240c4508f6ad4": {
          "model_module": "@jupyter-widgets/base",
          "model_name": "LayoutModel",
          "model_module_version": "1.2.0",
          "state": {
            "_model_module": "@jupyter-widgets/base",
            "_model_module_version": "1.2.0",
            "_model_name": "LayoutModel",
            "_view_count": null,
            "_view_module": "@jupyter-widgets/base",
            "_view_module_version": "1.2.0",
            "_view_name": "LayoutView",
            "align_content": null,
            "align_items": null,
            "align_self": null,
            "border": null,
            "bottom": null,
            "display": null,
            "flex": null,
            "flex_flow": null,
            "grid_area": null,
            "grid_auto_columns": null,
            "grid_auto_flow": null,
            "grid_auto_rows": null,
            "grid_column": null,
            "grid_gap": null,
            "grid_row": null,
            "grid_template_areas": null,
            "grid_template_columns": null,
            "grid_template_rows": null,
            "height": null,
            "justify_content": null,
            "justify_items": null,
            "left": null,
            "margin": null,
            "max_height": null,
            "max_width": null,
            "min_height": null,
            "min_width": null,
            "object_fit": null,
            "object_position": null,
            "order": null,
            "overflow": null,
            "overflow_x": null,
            "overflow_y": null,
            "padding": null,
            "right": null,
            "top": null,
            "visibility": null,
            "width": null
          }
        },
        "c43b40ed85f04551bcd55e7b491f9659": {
          "model_module": "@jupyter-widgets/controls",
          "model_name": "ProgressStyleModel",
          "model_module_version": "1.5.0",
          "state": {
            "_model_module": "@jupyter-widgets/controls",
            "_model_module_version": "1.5.0",
            "_model_name": "ProgressStyleModel",
            "_view_count": null,
            "_view_module": "@jupyter-widgets/base",
            "_view_module_version": "1.2.0",
            "_view_name": "StyleView",
            "bar_color": null,
            "description_width": ""
          }
        },
        "b1a5df2d1ddd4c0fbf6985dc6e65ec8a": {
          "model_module": "@jupyter-widgets/base",
          "model_name": "LayoutModel",
          "model_module_version": "1.2.0",
          "state": {
            "_model_module": "@jupyter-widgets/base",
            "_model_module_version": "1.2.0",
            "_model_name": "LayoutModel",
            "_view_count": null,
            "_view_module": "@jupyter-widgets/base",
            "_view_module_version": "1.2.0",
            "_view_name": "LayoutView",
            "align_content": null,
            "align_items": null,
            "align_self": null,
            "border": null,
            "bottom": null,
            "display": null,
            "flex": null,
            "flex_flow": null,
            "grid_area": null,
            "grid_auto_columns": null,
            "grid_auto_flow": null,
            "grid_auto_rows": null,
            "grid_column": null,
            "grid_gap": null,
            "grid_row": null,
            "grid_template_areas": null,
            "grid_template_columns": null,
            "grid_template_rows": null,
            "height": null,
            "justify_content": null,
            "justify_items": null,
            "left": null,
            "margin": null,
            "max_height": null,
            "max_width": null,
            "min_height": null,
            "min_width": null,
            "object_fit": null,
            "object_position": null,
            "order": null,
            "overflow": null,
            "overflow_x": null,
            "overflow_y": null,
            "padding": null,
            "right": null,
            "top": null,
            "visibility": null,
            "width": null
          }
        },
        "3bcbad2bfda34824ac6e4dca26444782": {
          "model_module": "@jupyter-widgets/controls",
          "model_name": "DescriptionStyleModel",
          "model_module_version": "1.5.0",
          "state": {
            "_model_module": "@jupyter-widgets/controls",
            "_model_module_version": "1.5.0",
            "_model_name": "DescriptionStyleModel",
            "_view_count": null,
            "_view_module": "@jupyter-widgets/base",
            "_view_module_version": "1.2.0",
            "_view_name": "StyleView",
            "description_width": ""
          }
        },
        "2aea2c780ccf43f0bfcc60d2dd37337d": {
          "model_module": "@jupyter-widgets/controls",
          "model_name": "HBoxModel",
          "model_module_version": "1.5.0",
          "state": {
            "_dom_classes": [],
            "_model_module": "@jupyter-widgets/controls",
            "_model_module_version": "1.5.0",
            "_model_name": "HBoxModel",
            "_view_count": null,
            "_view_module": "@jupyter-widgets/controls",
            "_view_module_version": "1.5.0",
            "_view_name": "HBoxView",
            "box_style": "",
            "children": [
              "IPY_MODEL_41a6caeedfbe4a07a18e2beea87fbb7e",
              "IPY_MODEL_118390cdb04742b99ae7e827609db484",
              "IPY_MODEL_807a42de8ead4fd1903de7df56deace4"
            ],
            "layout": "IPY_MODEL_5a4443c0e32e4294b2fd786a86810c66"
          }
        },
        "41a6caeedfbe4a07a18e2beea87fbb7e": {
          "model_module": "@jupyter-widgets/controls",
          "model_name": "HTMLModel",
          "model_module_version": "1.5.0",
          "state": {
            "_dom_classes": [],
            "_model_module": "@jupyter-widgets/controls",
            "_model_module_version": "1.5.0",
            "_model_name": "HTMLModel",
            "_view_count": null,
            "_view_module": "@jupyter-widgets/controls",
            "_view_module_version": "1.5.0",
            "_view_name": "HTMLView",
            "description": "",
            "description_tooltip": null,
            "layout": "IPY_MODEL_0e0bab4a14c34a848b1dcf0b6b38f002",
            "placeholder": "​",
            "style": "IPY_MODEL_db2dd36f0107458c8143a24ba544c4af",
            "value": "merges.txt: 100%"
          }
        },
        "118390cdb04742b99ae7e827609db484": {
          "model_module": "@jupyter-widgets/controls",
          "model_name": "FloatProgressModel",
          "model_module_version": "1.5.0",
          "state": {
            "_dom_classes": [],
            "_model_module": "@jupyter-widgets/controls",
            "_model_module_version": "1.5.0",
            "_model_name": "FloatProgressModel",
            "_view_count": null,
            "_view_module": "@jupyter-widgets/controls",
            "_view_module_version": "1.5.0",
            "_view_name": "ProgressView",
            "bar_style": "success",
            "description": "",
            "description_tooltip": null,
            "layout": "IPY_MODEL_24964d3216da4142824791b198ae58f6",
            "max": 456318,
            "min": 0,
            "orientation": "horizontal",
            "style": "IPY_MODEL_d904c55083af45ddbe6ec7585a2c707f",
            "value": 456318
          }
        },
        "807a42de8ead4fd1903de7df56deace4": {
          "model_module": "@jupyter-widgets/controls",
          "model_name": "HTMLModel",
          "model_module_version": "1.5.0",
          "state": {
            "_dom_classes": [],
            "_model_module": "@jupyter-widgets/controls",
            "_model_module_version": "1.5.0",
            "_model_name": "HTMLModel",
            "_view_count": null,
            "_view_module": "@jupyter-widgets/controls",
            "_view_module_version": "1.5.0",
            "_view_name": "HTMLView",
            "description": "",
            "description_tooltip": null,
            "layout": "IPY_MODEL_c9df0fce10ac41f0962ab057c302c2cb",
            "placeholder": "​",
            "style": "IPY_MODEL_896bd339f3134872816677c883825f07",
            "value": " 456k/456k [00:00&lt;00:00, 11.4MB/s]"
          }
        },
        "5a4443c0e32e4294b2fd786a86810c66": {
          "model_module": "@jupyter-widgets/base",
          "model_name": "LayoutModel",
          "model_module_version": "1.2.0",
          "state": {
            "_model_module": "@jupyter-widgets/base",
            "_model_module_version": "1.2.0",
            "_model_name": "LayoutModel",
            "_view_count": null,
            "_view_module": "@jupyter-widgets/base",
            "_view_module_version": "1.2.0",
            "_view_name": "LayoutView",
            "align_content": null,
            "align_items": null,
            "align_self": null,
            "border": null,
            "bottom": null,
            "display": null,
            "flex": null,
            "flex_flow": null,
            "grid_area": null,
            "grid_auto_columns": null,
            "grid_auto_flow": null,
            "grid_auto_rows": null,
            "grid_column": null,
            "grid_gap": null,
            "grid_row": null,
            "grid_template_areas": null,
            "grid_template_columns": null,
            "grid_template_rows": null,
            "height": null,
            "justify_content": null,
            "justify_items": null,
            "left": null,
            "margin": null,
            "max_height": null,
            "max_width": null,
            "min_height": null,
            "min_width": null,
            "object_fit": null,
            "object_position": null,
            "order": null,
            "overflow": null,
            "overflow_x": null,
            "overflow_y": null,
            "padding": null,
            "right": null,
            "top": null,
            "visibility": null,
            "width": null
          }
        },
        "0e0bab4a14c34a848b1dcf0b6b38f002": {
          "model_module": "@jupyter-widgets/base",
          "model_name": "LayoutModel",
          "model_module_version": "1.2.0",
          "state": {
            "_model_module": "@jupyter-widgets/base",
            "_model_module_version": "1.2.0",
            "_model_name": "LayoutModel",
            "_view_count": null,
            "_view_module": "@jupyter-widgets/base",
            "_view_module_version": "1.2.0",
            "_view_name": "LayoutView",
            "align_content": null,
            "align_items": null,
            "align_self": null,
            "border": null,
            "bottom": null,
            "display": null,
            "flex": null,
            "flex_flow": null,
            "grid_area": null,
            "grid_auto_columns": null,
            "grid_auto_flow": null,
            "grid_auto_rows": null,
            "grid_column": null,
            "grid_gap": null,
            "grid_row": null,
            "grid_template_areas": null,
            "grid_template_columns": null,
            "grid_template_rows": null,
            "height": null,
            "justify_content": null,
            "justify_items": null,
            "left": null,
            "margin": null,
            "max_height": null,
            "max_width": null,
            "min_height": null,
            "min_width": null,
            "object_fit": null,
            "object_position": null,
            "order": null,
            "overflow": null,
            "overflow_x": null,
            "overflow_y": null,
            "padding": null,
            "right": null,
            "top": null,
            "visibility": null,
            "width": null
          }
        },
        "db2dd36f0107458c8143a24ba544c4af": {
          "model_module": "@jupyter-widgets/controls",
          "model_name": "DescriptionStyleModel",
          "model_module_version": "1.5.0",
          "state": {
            "_model_module": "@jupyter-widgets/controls",
            "_model_module_version": "1.5.0",
            "_model_name": "DescriptionStyleModel",
            "_view_count": null,
            "_view_module": "@jupyter-widgets/base",
            "_view_module_version": "1.2.0",
            "_view_name": "StyleView",
            "description_width": ""
          }
        },
        "24964d3216da4142824791b198ae58f6": {
          "model_module": "@jupyter-widgets/base",
          "model_name": "LayoutModel",
          "model_module_version": "1.2.0",
          "state": {
            "_model_module": "@jupyter-widgets/base",
            "_model_module_version": "1.2.0",
            "_model_name": "LayoutModel",
            "_view_count": null,
            "_view_module": "@jupyter-widgets/base",
            "_view_module_version": "1.2.0",
            "_view_name": "LayoutView",
            "align_content": null,
            "align_items": null,
            "align_self": null,
            "border": null,
            "bottom": null,
            "display": null,
            "flex": null,
            "flex_flow": null,
            "grid_area": null,
            "grid_auto_columns": null,
            "grid_auto_flow": null,
            "grid_auto_rows": null,
            "grid_column": null,
            "grid_gap": null,
            "grid_row": null,
            "grid_template_areas": null,
            "grid_template_columns": null,
            "grid_template_rows": null,
            "height": null,
            "justify_content": null,
            "justify_items": null,
            "left": null,
            "margin": null,
            "max_height": null,
            "max_width": null,
            "min_height": null,
            "min_width": null,
            "object_fit": null,
            "object_position": null,
            "order": null,
            "overflow": null,
            "overflow_x": null,
            "overflow_y": null,
            "padding": null,
            "right": null,
            "top": null,
            "visibility": null,
            "width": null
          }
        },
        "d904c55083af45ddbe6ec7585a2c707f": {
          "model_module": "@jupyter-widgets/controls",
          "model_name": "ProgressStyleModel",
          "model_module_version": "1.5.0",
          "state": {
            "_model_module": "@jupyter-widgets/controls",
            "_model_module_version": "1.5.0",
            "_model_name": "ProgressStyleModel",
            "_view_count": null,
            "_view_module": "@jupyter-widgets/base",
            "_view_module_version": "1.2.0",
            "_view_name": "StyleView",
            "bar_color": null,
            "description_width": ""
          }
        },
        "c9df0fce10ac41f0962ab057c302c2cb": {
          "model_module": "@jupyter-widgets/base",
          "model_name": "LayoutModel",
          "model_module_version": "1.2.0",
          "state": {
            "_model_module": "@jupyter-widgets/base",
            "_model_module_version": "1.2.0",
            "_model_name": "LayoutModel",
            "_view_count": null,
            "_view_module": "@jupyter-widgets/base",
            "_view_module_version": "1.2.0",
            "_view_name": "LayoutView",
            "align_content": null,
            "align_items": null,
            "align_self": null,
            "border": null,
            "bottom": null,
            "display": null,
            "flex": null,
            "flex_flow": null,
            "grid_area": null,
            "grid_auto_columns": null,
            "grid_auto_flow": null,
            "grid_auto_rows": null,
            "grid_column": null,
            "grid_gap": null,
            "grid_row": null,
            "grid_template_areas": null,
            "grid_template_columns": null,
            "grid_template_rows": null,
            "height": null,
            "justify_content": null,
            "justify_items": null,
            "left": null,
            "margin": null,
            "max_height": null,
            "max_width": null,
            "min_height": null,
            "min_width": null,
            "object_fit": null,
            "object_position": null,
            "order": null,
            "overflow": null,
            "overflow_x": null,
            "overflow_y": null,
            "padding": null,
            "right": null,
            "top": null,
            "visibility": null,
            "width": null
          }
        },
        "896bd339f3134872816677c883825f07": {
          "model_module": "@jupyter-widgets/controls",
          "model_name": "DescriptionStyleModel",
          "model_module_version": "1.5.0",
          "state": {
            "_model_module": "@jupyter-widgets/controls",
            "_model_module_version": "1.5.0",
            "_model_name": "DescriptionStyleModel",
            "_view_count": null,
            "_view_module": "@jupyter-widgets/base",
            "_view_module_version": "1.2.0",
            "_view_name": "StyleView",
            "description_width": ""
          }
        },
        "75f9056a70204c15b61437ad22fa2193": {
          "model_module": "@jupyter-widgets/controls",
          "model_name": "HBoxModel",
          "model_module_version": "1.5.0",
          "state": {
            "_dom_classes": [],
            "_model_module": "@jupyter-widgets/controls",
            "_model_module_version": "1.5.0",
            "_model_name": "HBoxModel",
            "_view_count": null,
            "_view_module": "@jupyter-widgets/controls",
            "_view_module_version": "1.5.0",
            "_view_name": "HBoxView",
            "box_style": "",
            "children": [
              "IPY_MODEL_81b241e4b2e84b559c733b9f5c6a100b",
              "IPY_MODEL_4cc45ff4cb844aaea94e0f556ba40df0",
              "IPY_MODEL_62277edf071e47c2b58fc29a9797a23b"
            ],
            "layout": "IPY_MODEL_f3c20fdf7ab34fcdab768111faf4a5b2"
          }
        },
        "81b241e4b2e84b559c733b9f5c6a100b": {
          "model_module": "@jupyter-widgets/controls",
          "model_name": "HTMLModel",
          "model_module_version": "1.5.0",
          "state": {
            "_dom_classes": [],
            "_model_module": "@jupyter-widgets/controls",
            "_model_module_version": "1.5.0",
            "_model_name": "HTMLModel",
            "_view_count": null,
            "_view_module": "@jupyter-widgets/controls",
            "_view_module_version": "1.5.0",
            "_view_name": "HTMLView",
            "description": "",
            "description_tooltip": null,
            "layout": "IPY_MODEL_ab8546ea515848578cffc1d9e9216bf1",
            "placeholder": "​",
            "style": "IPY_MODEL_7057988bd86042898243d97e60ff3fd3",
            "value": "tokenizer.json: 100%"
          }
        },
        "4cc45ff4cb844aaea94e0f556ba40df0": {
          "model_module": "@jupyter-widgets/controls",
          "model_name": "FloatProgressModel",
          "model_module_version": "1.5.0",
          "state": {
            "_dom_classes": [],
            "_model_module": "@jupyter-widgets/controls",
            "_model_module_version": "1.5.0",
            "_model_name": "FloatProgressModel",
            "_view_count": null,
            "_view_module": "@jupyter-widgets/controls",
            "_view_module_version": "1.5.0",
            "_view_name": "ProgressView",
            "bar_style": "success",
            "description": "",
            "description_tooltip": null,
            "layout": "IPY_MODEL_2987e06d996a4d9a8085f30e0f0a79cc",
            "max": 1355863,
            "min": 0,
            "orientation": "horizontal",
            "style": "IPY_MODEL_d82158815d4548b5ae282d2ae1b669ba",
            "value": 1355863
          }
        },
        "62277edf071e47c2b58fc29a9797a23b": {
          "model_module": "@jupyter-widgets/controls",
          "model_name": "HTMLModel",
          "model_module_version": "1.5.0",
          "state": {
            "_dom_classes": [],
            "_model_module": "@jupyter-widgets/controls",
            "_model_module_version": "1.5.0",
            "_model_name": "HTMLModel",
            "_view_count": null,
            "_view_module": "@jupyter-widgets/controls",
            "_view_module_version": "1.5.0",
            "_view_name": "HTMLView",
            "description": "",
            "description_tooltip": null,
            "layout": "IPY_MODEL_b6661f7836634bc6a6da81055243c390",
            "placeholder": "​",
            "style": "IPY_MODEL_023589f7814842289a82bdabba8c5a06",
            "value": " 1.36M/1.36M [00:00&lt;00:00, 17.0MB/s]"
          }
        },
        "f3c20fdf7ab34fcdab768111faf4a5b2": {
          "model_module": "@jupyter-widgets/base",
          "model_name": "LayoutModel",
          "model_module_version": "1.2.0",
          "state": {
            "_model_module": "@jupyter-widgets/base",
            "_model_module_version": "1.2.0",
            "_model_name": "LayoutModel",
            "_view_count": null,
            "_view_module": "@jupyter-widgets/base",
            "_view_module_version": "1.2.0",
            "_view_name": "LayoutView",
            "align_content": null,
            "align_items": null,
            "align_self": null,
            "border": null,
            "bottom": null,
            "display": null,
            "flex": null,
            "flex_flow": null,
            "grid_area": null,
            "grid_auto_columns": null,
            "grid_auto_flow": null,
            "grid_auto_rows": null,
            "grid_column": null,
            "grid_gap": null,
            "grid_row": null,
            "grid_template_areas": null,
            "grid_template_columns": null,
            "grid_template_rows": null,
            "height": null,
            "justify_content": null,
            "justify_items": null,
            "left": null,
            "margin": null,
            "max_height": null,
            "max_width": null,
            "min_height": null,
            "min_width": null,
            "object_fit": null,
            "object_position": null,
            "order": null,
            "overflow": null,
            "overflow_x": null,
            "overflow_y": null,
            "padding": null,
            "right": null,
            "top": null,
            "visibility": null,
            "width": null
          }
        },
        "ab8546ea515848578cffc1d9e9216bf1": {
          "model_module": "@jupyter-widgets/base",
          "model_name": "LayoutModel",
          "model_module_version": "1.2.0",
          "state": {
            "_model_module": "@jupyter-widgets/base",
            "_model_module_version": "1.2.0",
            "_model_name": "LayoutModel",
            "_view_count": null,
            "_view_module": "@jupyter-widgets/base",
            "_view_module_version": "1.2.0",
            "_view_name": "LayoutView",
            "align_content": null,
            "align_items": null,
            "align_self": null,
            "border": null,
            "bottom": null,
            "display": null,
            "flex": null,
            "flex_flow": null,
            "grid_area": null,
            "grid_auto_columns": null,
            "grid_auto_flow": null,
            "grid_auto_rows": null,
            "grid_column": null,
            "grid_gap": null,
            "grid_row": null,
            "grid_template_areas": null,
            "grid_template_columns": null,
            "grid_template_rows": null,
            "height": null,
            "justify_content": null,
            "justify_items": null,
            "left": null,
            "margin": null,
            "max_height": null,
            "max_width": null,
            "min_height": null,
            "min_width": null,
            "object_fit": null,
            "object_position": null,
            "order": null,
            "overflow": null,
            "overflow_x": null,
            "overflow_y": null,
            "padding": null,
            "right": null,
            "top": null,
            "visibility": null,
            "width": null
          }
        },
        "7057988bd86042898243d97e60ff3fd3": {
          "model_module": "@jupyter-widgets/controls",
          "model_name": "DescriptionStyleModel",
          "model_module_version": "1.5.0",
          "state": {
            "_model_module": "@jupyter-widgets/controls",
            "_model_module_version": "1.5.0",
            "_model_name": "DescriptionStyleModel",
            "_view_count": null,
            "_view_module": "@jupyter-widgets/base",
            "_view_module_version": "1.2.0",
            "_view_name": "StyleView",
            "description_width": ""
          }
        },
        "2987e06d996a4d9a8085f30e0f0a79cc": {
          "model_module": "@jupyter-widgets/base",
          "model_name": "LayoutModel",
          "model_module_version": "1.2.0",
          "state": {
            "_model_module": "@jupyter-widgets/base",
            "_model_module_version": "1.2.0",
            "_model_name": "LayoutModel",
            "_view_count": null,
            "_view_module": "@jupyter-widgets/base",
            "_view_module_version": "1.2.0",
            "_view_name": "LayoutView",
            "align_content": null,
            "align_items": null,
            "align_self": null,
            "border": null,
            "bottom": null,
            "display": null,
            "flex": null,
            "flex_flow": null,
            "grid_area": null,
            "grid_auto_columns": null,
            "grid_auto_flow": null,
            "grid_auto_rows": null,
            "grid_column": null,
            "grid_gap": null,
            "grid_row": null,
            "grid_template_areas": null,
            "grid_template_columns": null,
            "grid_template_rows": null,
            "height": null,
            "justify_content": null,
            "justify_items": null,
            "left": null,
            "margin": null,
            "max_height": null,
            "max_width": null,
            "min_height": null,
            "min_width": null,
            "object_fit": null,
            "object_position": null,
            "order": null,
            "overflow": null,
            "overflow_x": null,
            "overflow_y": null,
            "padding": null,
            "right": null,
            "top": null,
            "visibility": null,
            "width": null
          }
        },
        "d82158815d4548b5ae282d2ae1b669ba": {
          "model_module": "@jupyter-widgets/controls",
          "model_name": "ProgressStyleModel",
          "model_module_version": "1.5.0",
          "state": {
            "_model_module": "@jupyter-widgets/controls",
            "_model_module_version": "1.5.0",
            "_model_name": "ProgressStyleModel",
            "_view_count": null,
            "_view_module": "@jupyter-widgets/base",
            "_view_module_version": "1.2.0",
            "_view_name": "StyleView",
            "bar_color": null,
            "description_width": ""
          }
        },
        "b6661f7836634bc6a6da81055243c390": {
          "model_module": "@jupyter-widgets/base",
          "model_name": "LayoutModel",
          "model_module_version": "1.2.0",
          "state": {
            "_model_module": "@jupyter-widgets/base",
            "_model_module_version": "1.2.0",
            "_model_name": "LayoutModel",
            "_view_count": null,
            "_view_module": "@jupyter-widgets/base",
            "_view_module_version": "1.2.0",
            "_view_name": "LayoutView",
            "align_content": null,
            "align_items": null,
            "align_self": null,
            "border": null,
            "bottom": null,
            "display": null,
            "flex": null,
            "flex_flow": null,
            "grid_area": null,
            "grid_auto_columns": null,
            "grid_auto_flow": null,
            "grid_auto_rows": null,
            "grid_column": null,
            "grid_gap": null,
            "grid_row": null,
            "grid_template_areas": null,
            "grid_template_columns": null,
            "grid_template_rows": null,
            "height": null,
            "justify_content": null,
            "justify_items": null,
            "left": null,
            "margin": null,
            "max_height": null,
            "max_width": null,
            "min_height": null,
            "min_width": null,
            "object_fit": null,
            "object_position": null,
            "order": null,
            "overflow": null,
            "overflow_x": null,
            "overflow_y": null,
            "padding": null,
            "right": null,
            "top": null,
            "visibility": null,
            "width": null
          }
        },
        "023589f7814842289a82bdabba8c5a06": {
          "model_module": "@jupyter-widgets/controls",
          "model_name": "DescriptionStyleModel",
          "model_module_version": "1.5.0",
          "state": {
            "_model_module": "@jupyter-widgets/controls",
            "_model_module_version": "1.5.0",
            "_model_name": "DescriptionStyleModel",
            "_view_count": null,
            "_view_module": "@jupyter-widgets/base",
            "_view_module_version": "1.2.0",
            "_view_name": "StyleView",
            "description_width": ""
          }
        }
      }
    }
  },
  "cells": [
    {
      "cell_type": "markdown",
      "source": [
        "Create a virtual environment:\n"
      ],
      "metadata": {
        "id": "juh4ufxeXmfk"
      }
    },
    {
      "cell_type": "code",
      "execution_count": null,
      "metadata": {
        "colab": {
          "base_uri": "https://localhost:8080/"
        },
        "collapsed": true,
        "id": "6vKRHQZdXiwW",
        "outputId": "48e690c4-9e38-46b3-bfd5-90f5d5a0c7ed"
      },
      "outputs": [
        {
          "output_type": "stream",
          "name": "stdout",
          "text": [
            "The virtual environment was not created successfully because ensurepip is not\n",
            "available.  On Debian/Ubuntu systems, you need to install the python3-venv\n",
            "package using the following command.\n",
            "\n",
            "    apt install python3.10-venv\n",
            "\n",
            "You may need to use sudo with that command.  After installing the python3-venv\n",
            "package, recreate your virtual environment.\n",
            "\n",
            "Failing command: /content/rag_env/bin/python3\n",
            "\n",
            "/bin/bash: line 1: rag_env/bin/activate: No such file or directory\n"
          ]
        }
      ],
      "source": [
        "!python -m venv rag_env\n",
        "!source rag_env/bin/activate"
      ]
    },
    {
      "cell_type": "code",
      "source": [
        "pip install pandas numpy streamlit sentence-transformers langchain milvus pymilvus openai PyPDF2 SpeechRecognition ffmpeg\n"
      ],
      "metadata": {
        "colab": {
          "base_uri": "https://localhost:8080/"
        },
        "collapsed": true,
        "id": "caJQ867UXymz",
        "outputId": "644470c7-cbad-4e07-b1b5-49e0ea93470c"
      },
      "execution_count": null,
      "outputs": [
        {
          "output_type": "stream",
          "name": "stdout",
          "text": [
            "Requirement already satisfied: pandas in /usr/local/lib/python3.10/dist-packages (2.2.2)\n",
            "Requirement already satisfied: numpy in /usr/local/lib/python3.10/dist-packages (1.26.4)\n",
            "Collecting streamlit\n",
            "  Downloading streamlit-1.40.2-py2.py3-none-any.whl.metadata (8.4 kB)\n",
            "Requirement already satisfied: sentence-transformers in /usr/local/lib/python3.10/dist-packages (3.2.1)\n",
            "Requirement already satisfied: langchain in /usr/local/lib/python3.10/dist-packages (0.3.7)\n",
            "Collecting milvus\n",
            "  Downloading milvus-2.3.5-py3-none-manylinux2014_x86_64.whl.metadata (6.7 kB)\n",
            "Collecting pymilvus\n",
            "  Downloading pymilvus-2.5.0-py3-none-any.whl.metadata (5.7 kB)\n",
            "Requirement already satisfied: openai in /usr/local/lib/python3.10/dist-packages (1.54.4)\n",
            "Collecting PyPDF2\n",
            "  Downloading pypdf2-3.0.1-py3-none-any.whl.metadata (6.8 kB)\n",
            "Collecting SpeechRecognition\n",
            "  Downloading SpeechRecognition-3.11.0-py2.py3-none-any.whl.metadata (28 kB)\n",
            "Collecting ffmpeg\n",
            "  Downloading ffmpeg-1.4.tar.gz (5.1 kB)\n",
            "  Preparing metadata (setup.py) ... \u001b[?25l\u001b[?25hdone\n",
            "Requirement already satisfied: python-dateutil>=2.8.2 in /usr/local/lib/python3.10/dist-packages (from pandas) (2.8.2)\n",
            "Requirement already satisfied: pytz>=2020.1 in /usr/local/lib/python3.10/dist-packages (from pandas) (2024.2)\n",
            "Requirement already satisfied: tzdata>=2022.7 in /usr/local/lib/python3.10/dist-packages (from pandas) (2024.2)\n",
            "Requirement already satisfied: altair<6,>=4.0 in /usr/local/lib/python3.10/dist-packages (from streamlit) (4.2.2)\n",
            "Requirement already satisfied: blinker<2,>=1.0.0 in /usr/local/lib/python3.10/dist-packages (from streamlit) (1.9.0)\n",
            "Requirement already satisfied: cachetools<6,>=4.0 in /usr/local/lib/python3.10/dist-packages (from streamlit) (5.5.0)\n",
            "Requirement already satisfied: click<9,>=7.0 in /usr/local/lib/python3.10/dist-packages (from streamlit) (8.1.7)\n",
            "Requirement already satisfied: packaging<25,>=20 in /usr/local/lib/python3.10/dist-packages (from streamlit) (24.2)\n",
            "Requirement already satisfied: pillow<12,>=7.1.0 in /usr/local/lib/python3.10/dist-packages (from streamlit) (11.0.0)\n",
            "Requirement already satisfied: protobuf<6,>=3.20 in /usr/local/lib/python3.10/dist-packages (from streamlit) (4.25.5)\n",
            "Requirement already satisfied: pyarrow>=7.0 in /usr/local/lib/python3.10/dist-packages (from streamlit) (17.0.0)\n",
            "Requirement already satisfied: requests<3,>=2.27 in /usr/local/lib/python3.10/dist-packages (from streamlit) (2.32.3)\n",
            "Requirement already satisfied: rich<14,>=10.14.0 in /usr/local/lib/python3.10/dist-packages (from streamlit) (13.9.4)\n",
            "Requirement already satisfied: tenacity<10,>=8.1.0 in /usr/local/lib/python3.10/dist-packages (from streamlit) (9.0.0)\n",
            "Requirement already satisfied: toml<2,>=0.10.1 in /usr/local/lib/python3.10/dist-packages (from streamlit) (0.10.2)\n",
            "Requirement already satisfied: typing-extensions<5,>=4.3.0 in /usr/local/lib/python3.10/dist-packages (from streamlit) (4.12.2)\n",
            "Collecting watchdog<7,>=2.1.5 (from streamlit)\n",
            "  Downloading watchdog-6.0.0-py3-none-manylinux2014_x86_64.whl.metadata (44 kB)\n",
            "\u001b[2K     \u001b[90m━━━━━━━━━━━━━━━━━━━━━━━━━━━━━━━━━━━━━━━━\u001b[0m \u001b[32m44.3/44.3 kB\u001b[0m \u001b[31m3.2 MB/s\u001b[0m eta \u001b[36m0:00:00\u001b[0m\n",
            "\u001b[?25hRequirement already satisfied: gitpython!=3.1.19,<4,>=3.0.7 in /usr/local/lib/python3.10/dist-packages (from streamlit) (3.1.43)\n",
            "Collecting pydeck<1,>=0.8.0b4 (from streamlit)\n",
            "  Downloading pydeck-0.9.1-py2.py3-none-any.whl.metadata (4.1 kB)\n",
            "Requirement already satisfied: tornado<7,>=6.0.3 in /usr/local/lib/python3.10/dist-packages (from streamlit) (6.3.3)\n",
            "Requirement already satisfied: transformers<5.0.0,>=4.41.0 in /usr/local/lib/python3.10/dist-packages (from sentence-transformers) (4.46.2)\n",
            "Requirement already satisfied: tqdm in /usr/local/lib/python3.10/dist-packages (from sentence-transformers) (4.66.6)\n",
            "Requirement already satisfied: torch>=1.11.0 in /usr/local/lib/python3.10/dist-packages (from sentence-transformers) (2.5.1+cu121)\n",
            "Requirement already satisfied: scikit-learn in /usr/local/lib/python3.10/dist-packages (from sentence-transformers) (1.5.2)\n",
            "Requirement already satisfied: scipy in /usr/local/lib/python3.10/dist-packages (from sentence-transformers) (1.13.1)\n",
            "Requirement already satisfied: huggingface-hub>=0.20.0 in /usr/local/lib/python3.10/dist-packages (from sentence-transformers) (0.26.2)\n",
            "Requirement already satisfied: PyYAML>=5.3 in /usr/local/lib/python3.10/dist-packages (from langchain) (6.0.2)\n",
            "Requirement already satisfied: SQLAlchemy<3,>=1.4 in /usr/local/lib/python3.10/dist-packages (from langchain) (2.0.36)\n",
            "Requirement already satisfied: aiohttp<4.0.0,>=3.8.3 in /usr/local/lib/python3.10/dist-packages (from langchain) (3.11.2)\n",
            "Requirement already satisfied: async-timeout<5.0.0,>=4.0.0 in /usr/local/lib/python3.10/dist-packages (from langchain) (4.0.3)\n",
            "Requirement already satisfied: langchain-core<0.4.0,>=0.3.15 in /usr/local/lib/python3.10/dist-packages (from langchain) (0.3.19)\n",
            "Requirement already satisfied: langchain-text-splitters<0.4.0,>=0.3.0 in /usr/local/lib/python3.10/dist-packages (from langchain) (0.3.2)\n",
            "Requirement already satisfied: langsmith<0.2.0,>=0.1.17 in /usr/local/lib/python3.10/dist-packages (from langchain) (0.1.143)\n",
            "Requirement already satisfied: pydantic<3.0.0,>=2.7.4 in /usr/local/lib/python3.10/dist-packages (from langchain) (2.9.2)\n",
            "Requirement already satisfied: setuptools>69 in /usr/local/lib/python3.10/dist-packages (from pymilvus) (75.1.0)\n",
            "Collecting grpcio<=1.67.1,>=1.49.1 (from pymilvus)\n",
            "  Downloading grpcio-1.67.1-cp310-cp310-manylinux_2_17_x86_64.manylinux2014_x86_64.whl.metadata (3.9 kB)\n",
            "Collecting python-dotenv<2.0.0,>=1.0.1 (from pymilvus)\n",
            "  Downloading python_dotenv-1.0.1-py3-none-any.whl.metadata (23 kB)\n",
            "Collecting ujson>=2.0.0 (from pymilvus)\n",
            "  Downloading ujson-5.10.0-cp310-cp310-manylinux_2_17_x86_64.manylinux2014_x86_64.whl.metadata (9.3 kB)\n",
            "Collecting milvus-lite>=2.4.0 (from pymilvus)\n",
            "  Downloading milvus_lite-2.4.10-py3-none-manylinux2014_x86_64.whl.metadata (9.0 kB)\n",
            "Requirement already satisfied: anyio<5,>=3.5.0 in /usr/local/lib/python3.10/dist-packages (from openai) (3.7.1)\n",
            "Requirement already satisfied: distro<2,>=1.7.0 in /usr/local/lib/python3.10/dist-packages (from openai) (1.9.0)\n",
            "Requirement already satisfied: httpx<1,>=0.23.0 in /usr/local/lib/python3.10/dist-packages (from openai) (0.27.2)\n",
            "Requirement already satisfied: jiter<1,>=0.4.0 in /usr/local/lib/python3.10/dist-packages (from openai) (0.7.1)\n",
            "Requirement already satisfied: sniffio in /usr/local/lib/python3.10/dist-packages (from openai) (1.3.1)\n",
            "Requirement already satisfied: aiohappyeyeballs>=2.3.0 in /usr/local/lib/python3.10/dist-packages (from aiohttp<4.0.0,>=3.8.3->langchain) (2.4.3)\n",
            "Requirement already satisfied: aiosignal>=1.1.2 in /usr/local/lib/python3.10/dist-packages (from aiohttp<4.0.0,>=3.8.3->langchain) (1.3.1)\n",
            "Requirement already satisfied: attrs>=17.3.0 in /usr/local/lib/python3.10/dist-packages (from aiohttp<4.0.0,>=3.8.3->langchain) (24.2.0)\n",
            "Requirement already satisfied: frozenlist>=1.1.1 in /usr/local/lib/python3.10/dist-packages (from aiohttp<4.0.0,>=3.8.3->langchain) (1.5.0)\n",
            "Requirement already satisfied: multidict<7.0,>=4.5 in /usr/local/lib/python3.10/dist-packages (from aiohttp<4.0.0,>=3.8.3->langchain) (6.1.0)\n",
            "Requirement already satisfied: propcache>=0.2.0 in /usr/local/lib/python3.10/dist-packages (from aiohttp<4.0.0,>=3.8.3->langchain) (0.2.0)\n",
            "Requirement already satisfied: yarl<2.0,>=1.17.0 in /usr/local/lib/python3.10/dist-packages (from aiohttp<4.0.0,>=3.8.3->langchain) (1.17.2)\n",
            "Requirement already satisfied: entrypoints in /usr/local/lib/python3.10/dist-packages (from altair<6,>=4.0->streamlit) (0.4)\n",
            "Requirement already satisfied: jinja2 in /usr/local/lib/python3.10/dist-packages (from altair<6,>=4.0->streamlit) (3.1.4)\n",
            "Requirement already satisfied: jsonschema>=3.0 in /usr/local/lib/python3.10/dist-packages (from altair<6,>=4.0->streamlit) (4.23.0)\n",
            "Requirement already satisfied: toolz in /usr/local/lib/python3.10/dist-packages (from altair<6,>=4.0->streamlit) (0.12.1)\n",
            "Requirement already satisfied: idna>=2.8 in /usr/local/lib/python3.10/dist-packages (from anyio<5,>=3.5.0->openai) (3.10)\n",
            "Requirement already satisfied: exceptiongroup in /usr/local/lib/python3.10/dist-packages (from anyio<5,>=3.5.0->openai) (1.2.2)\n",
            "Requirement already satisfied: gitdb<5,>=4.0.1 in /usr/local/lib/python3.10/dist-packages (from gitpython!=3.1.19,<4,>=3.0.7->streamlit) (4.0.11)\n",
            "Requirement already satisfied: certifi in /usr/local/lib/python3.10/dist-packages (from httpx<1,>=0.23.0->openai) (2024.8.30)\n",
            "Requirement already satisfied: httpcore==1.* in /usr/local/lib/python3.10/dist-packages (from httpx<1,>=0.23.0->openai) (1.0.7)\n",
            "Requirement already satisfied: h11<0.15,>=0.13 in /usr/local/lib/python3.10/dist-packages (from httpcore==1.*->httpx<1,>=0.23.0->openai) (0.14.0)\n",
            "Requirement already satisfied: filelock in /usr/local/lib/python3.10/dist-packages (from huggingface-hub>=0.20.0->sentence-transformers) (3.16.1)\n",
            "Requirement already satisfied: fsspec>=2023.5.0 in /usr/local/lib/python3.10/dist-packages (from huggingface-hub>=0.20.0->sentence-transformers) (2024.10.0)\n",
            "Requirement already satisfied: jsonpatch<2.0,>=1.33 in /usr/local/lib/python3.10/dist-packages (from langchain-core<0.4.0,>=0.3.15->langchain) (1.33)\n",
            "Requirement already satisfied: orjson<4.0.0,>=3.9.14 in /usr/local/lib/python3.10/dist-packages (from langsmith<0.2.0,>=0.1.17->langchain) (3.10.11)\n",
            "Requirement already satisfied: requests-toolbelt<2.0.0,>=1.0.0 in /usr/local/lib/python3.10/dist-packages (from langsmith<0.2.0,>=0.1.17->langchain) (1.0.0)\n",
            "Requirement already satisfied: annotated-types>=0.6.0 in /usr/local/lib/python3.10/dist-packages (from pydantic<3.0.0,>=2.7.4->langchain) (0.7.0)\n",
            "Requirement already satisfied: pydantic-core==2.23.4 in /usr/local/lib/python3.10/dist-packages (from pydantic<3.0.0,>=2.7.4->langchain) (2.23.4)\n",
            "Requirement already satisfied: six>=1.5 in /usr/local/lib/python3.10/dist-packages (from python-dateutil>=2.8.2->pandas) (1.16.0)\n",
            "Requirement already satisfied: charset-normalizer<4,>=2 in /usr/local/lib/python3.10/dist-packages (from requests<3,>=2.27->streamlit) (3.4.0)\n",
            "Requirement already satisfied: urllib3<3,>=1.21.1 in /usr/local/lib/python3.10/dist-packages (from requests<3,>=2.27->streamlit) (2.2.3)\n",
            "Requirement already satisfied: markdown-it-py>=2.2.0 in /usr/local/lib/python3.10/dist-packages (from rich<14,>=10.14.0->streamlit) (3.0.0)\n",
            "Requirement already satisfied: pygments<3.0.0,>=2.13.0 in /usr/local/lib/python3.10/dist-packages (from rich<14,>=10.14.0->streamlit) (2.18.0)\n",
            "Requirement already satisfied: greenlet!=0.4.17 in /usr/local/lib/python3.10/dist-packages (from SQLAlchemy<3,>=1.4->langchain) (3.1.1)\n",
            "Requirement already satisfied: networkx in /usr/local/lib/python3.10/dist-packages (from torch>=1.11.0->sentence-transformers) (3.4.2)\n",
            "Requirement already satisfied: sympy==1.13.1 in /usr/local/lib/python3.10/dist-packages (from torch>=1.11.0->sentence-transformers) (1.13.1)\n",
            "Requirement already satisfied: mpmath<1.4,>=1.1.0 in /usr/local/lib/python3.10/dist-packages (from sympy==1.13.1->torch>=1.11.0->sentence-transformers) (1.3.0)\n",
            "Requirement already satisfied: regex!=2019.12.17 in /usr/local/lib/python3.10/dist-packages (from transformers<5.0.0,>=4.41.0->sentence-transformers) (2024.9.11)\n",
            "Requirement already satisfied: safetensors>=0.4.1 in /usr/local/lib/python3.10/dist-packages (from transformers<5.0.0,>=4.41.0->sentence-transformers) (0.4.5)\n",
            "Requirement already satisfied: tokenizers<0.21,>=0.20 in /usr/local/lib/python3.10/dist-packages (from transformers<5.0.0,>=4.41.0->sentence-transformers) (0.20.3)\n",
            "Requirement already satisfied: joblib>=1.2.0 in /usr/local/lib/python3.10/dist-packages (from scikit-learn->sentence-transformers) (1.4.2)\n",
            "Requirement already satisfied: threadpoolctl>=3.1.0 in /usr/local/lib/python3.10/dist-packages (from scikit-learn->sentence-transformers) (3.5.0)\n",
            "Requirement already satisfied: smmap<6,>=3.0.1 in /usr/local/lib/python3.10/dist-packages (from gitdb<5,>=4.0.1->gitpython!=3.1.19,<4,>=3.0.7->streamlit) (5.0.1)\n",
            "Requirement already satisfied: MarkupSafe>=2.0 in /usr/local/lib/python3.10/dist-packages (from jinja2->altair<6,>=4.0->streamlit) (3.0.2)\n",
            "Requirement already satisfied: jsonpointer>=1.9 in /usr/local/lib/python3.10/dist-packages (from jsonpatch<2.0,>=1.33->langchain-core<0.4.0,>=0.3.15->langchain) (3.0.0)\n",
            "Requirement already satisfied: jsonschema-specifications>=2023.03.6 in /usr/local/lib/python3.10/dist-packages (from jsonschema>=3.0->altair<6,>=4.0->streamlit) (2024.10.1)\n",
            "Requirement already satisfied: referencing>=0.28.4 in /usr/local/lib/python3.10/dist-packages (from jsonschema>=3.0->altair<6,>=4.0->streamlit) (0.35.1)\n",
            "Requirement already satisfied: rpds-py>=0.7.1 in /usr/local/lib/python3.10/dist-packages (from jsonschema>=3.0->altair<6,>=4.0->streamlit) (0.21.0)\n",
            "Requirement already satisfied: mdurl~=0.1 in /usr/local/lib/python3.10/dist-packages (from markdown-it-py>=2.2.0->rich<14,>=10.14.0->streamlit) (0.1.2)\n",
            "Downloading streamlit-1.40.2-py2.py3-none-any.whl (8.6 MB)\n",
            "\u001b[2K   \u001b[90m━━━━━━━━━━━━━━━━━━━━━━━━━━━━━━━━━━━━━━━━\u001b[0m \u001b[32m8.6/8.6 MB\u001b[0m \u001b[31m56.9 MB/s\u001b[0m eta \u001b[36m0:00:00\u001b[0m\n",
            "\u001b[?25hDownloading milvus-2.3.5-py3-none-manylinux2014_x86_64.whl (57.7 MB)\n",
            "\u001b[2K   \u001b[90m━━━━━━━━━━━━━━━━━━━━━━━━━━━━━━━━━━━━━━━━\u001b[0m \u001b[32m57.7/57.7 MB\u001b[0m \u001b[31m15.4 MB/s\u001b[0m eta \u001b[36m0:00:00\u001b[0m\n",
            "\u001b[?25hDownloading pymilvus-2.5.0-py3-none-any.whl (212 kB)\n",
            "\u001b[2K   \u001b[90m━━━━━━━━━━━━━━━━━━━━━━━━━━━━━━━━━━━━━━━━\u001b[0m \u001b[32m212.8/212.8 kB\u001b[0m \u001b[31m15.2 MB/s\u001b[0m eta \u001b[36m0:00:00\u001b[0m\n",
            "\u001b[?25hDownloading pypdf2-3.0.1-py3-none-any.whl (232 kB)\n",
            "\u001b[2K   \u001b[90m━━━━━━━━━━━━━━━━━━━━━━━━━━━━━━━━━━━━━━━━\u001b[0m \u001b[32m232.6/232.6 kB\u001b[0m \u001b[31m15.1 MB/s\u001b[0m eta \u001b[36m0:00:00\u001b[0m\n",
            "\u001b[?25hDownloading SpeechRecognition-3.11.0-py2.py3-none-any.whl (32.8 MB)\n",
            "\u001b[2K   \u001b[90m━━━━━━━━━━━━━━━━━━━━━━━━━━━━━━━━━━━━━━━━\u001b[0m \u001b[32m32.8/32.8 MB\u001b[0m \u001b[31m17.2 MB/s\u001b[0m eta \u001b[36m0:00:00\u001b[0m\n",
            "\u001b[?25hDownloading grpcio-1.67.1-cp310-cp310-manylinux_2_17_x86_64.manylinux2014_x86_64.whl (5.9 MB)\n",
            "\u001b[2K   \u001b[90m━━━━━━━━━━━━━━━━━━━━━━━━━━━━━━━━━━━━━━━━\u001b[0m \u001b[32m5.9/5.9 MB\u001b[0m \u001b[31m78.8 MB/s\u001b[0m eta \u001b[36m0:00:00\u001b[0m\n",
            "\u001b[?25hDownloading milvus_lite-2.4.10-py3-none-manylinux2014_x86_64.whl (49.4 MB)\n",
            "\u001b[2K   \u001b[90m━━━━━━━━━━━━━━━━━━━━━━━━━━━━━━━━━━━━━━━━\u001b[0m \u001b[32m49.4/49.4 MB\u001b[0m \u001b[31m15.5 MB/s\u001b[0m eta \u001b[36m0:00:00\u001b[0m\n",
            "\u001b[?25hDownloading pydeck-0.9.1-py2.py3-none-any.whl (6.9 MB)\n",
            "\u001b[2K   \u001b[90m━━━━━━━━━━━━━━━━━━━━━━━━━━━━━━━━━━━━━━━━\u001b[0m \u001b[32m6.9/6.9 MB\u001b[0m \u001b[31m93.9 MB/s\u001b[0m eta \u001b[36m0:00:00\u001b[0m\n",
            "\u001b[?25hDownloading python_dotenv-1.0.1-py3-none-any.whl (19 kB)\n",
            "Downloading ujson-5.10.0-cp310-cp310-manylinux_2_17_x86_64.manylinux2014_x86_64.whl (53 kB)\n",
            "\u001b[2K   \u001b[90m━━━━━━━━━━━━━━━━━━━━━━━━━━━━━━━━━━━━━━━━\u001b[0m \u001b[32m53.6/53.6 kB\u001b[0m \u001b[31m3.8 MB/s\u001b[0m eta \u001b[36m0:00:00\u001b[0m\n",
            "\u001b[?25hDownloading watchdog-6.0.0-py3-none-manylinux2014_x86_64.whl (79 kB)\n",
            "\u001b[2K   \u001b[90m━━━━━━━━━━━━━━━━━━━━━━━━━━━━━━━━━━━━━━━━\u001b[0m \u001b[32m79.1/79.1 kB\u001b[0m \u001b[31m5.9 MB/s\u001b[0m eta \u001b[36m0:00:00\u001b[0m\n",
            "\u001b[?25hBuilding wheels for collected packages: ffmpeg\n",
            "  Building wheel for ffmpeg (setup.py) ... \u001b[?25l\u001b[?25hdone\n",
            "  Created wheel for ffmpeg: filename=ffmpeg-1.4-py3-none-any.whl size=6082 sha256=e4f9098ab5cb7b5c97eda0c2ad1639f1aea4db07bde91ec5b10b497c3ad80fc8\n",
            "  Stored in directory: /root/.cache/pip/wheels/8e/7a/69/cd6aeb83b126a7f04cbe7c9d929028dc52a6e7d525ff56003a\n",
            "Successfully built ffmpeg\n",
            "Installing collected packages: ffmpeg, watchdog, ujson, python-dotenv, PyPDF2, milvus-lite, milvus, grpcio, SpeechRecognition, pydeck, pymilvus, streamlit\n",
            "  Attempting uninstall: grpcio\n",
            "    Found existing installation: grpcio 1.68.0\n",
            "    Uninstalling grpcio-1.68.0:\n",
            "      Successfully uninstalled grpcio-1.68.0\n",
            "Successfully installed PyPDF2-3.0.1 SpeechRecognition-3.11.0 ffmpeg-1.4 grpcio-1.67.1 milvus-2.3.5 milvus-lite-2.4.10 pydeck-0.9.1 pymilvus-2.5.0 python-dotenv-1.0.1 streamlit-1.40.2 ujson-5.10.0 watchdog-6.0.0\n"
          ]
        }
      ]
    },
    {
      "cell_type": "markdown",
      "source": [
        "Create a RAG pipeline\n"
      ],
      "metadata": {
        "id": "FRfZguanYGaU"
      }
    },
    {
      "cell_type": "markdown",
      "source": [
        "Insstalling Dependencies\n"
      ],
      "metadata": {
        "id": "uGVu917PCQo6"
      }
    },
    {
      "cell_type": "code",
      "source": [
        "# Install necessary libraries\n",
        "!pip install sentence-transformers\n",
        "!pip install transformers\n",
        "!pip install pymilvus\n",
        "!pip install torch\n",
        "!pip install docker\n",
        "!pip install streamlit\n"
      ],
      "metadata": {
        "colab": {
          "base_uri": "https://localhost:8080/"
        },
        "collapsed": true,
        "id": "cyaB_zPxCTYw",
        "outputId": "7680687b-970b-4b4b-96c1-7eb78fce6f59"
      },
      "execution_count": null,
      "outputs": [
        {
          "output_type": "stream",
          "name": "stdout",
          "text": [
            "Requirement already satisfied: sentence-transformers in /usr/local/lib/python3.10/dist-packages (3.2.1)\n",
            "Requirement already satisfied: transformers<5.0.0,>=4.41.0 in /usr/local/lib/python3.10/dist-packages (from sentence-transformers) (4.46.2)\n",
            "Requirement already satisfied: tqdm in /usr/local/lib/python3.10/dist-packages (from sentence-transformers) (4.66.6)\n",
            "Requirement already satisfied: torch>=1.11.0 in /usr/local/lib/python3.10/dist-packages (from sentence-transformers) (2.5.1+cu121)\n",
            "Requirement already satisfied: scikit-learn in /usr/local/lib/python3.10/dist-packages (from sentence-transformers) (1.5.2)\n",
            "Requirement already satisfied: scipy in /usr/local/lib/python3.10/dist-packages (from sentence-transformers) (1.13.1)\n",
            "Requirement already satisfied: huggingface-hub>=0.20.0 in /usr/local/lib/python3.10/dist-packages (from sentence-transformers) (0.26.2)\n",
            "Requirement already satisfied: Pillow in /usr/local/lib/python3.10/dist-packages (from sentence-transformers) (11.0.0)\n",
            "Requirement already satisfied: filelock in /usr/local/lib/python3.10/dist-packages (from huggingface-hub>=0.20.0->sentence-transformers) (3.16.1)\n",
            "Requirement already satisfied: fsspec>=2023.5.0 in /usr/local/lib/python3.10/dist-packages (from huggingface-hub>=0.20.0->sentence-transformers) (2024.10.0)\n",
            "Requirement already satisfied: packaging>=20.9 in /usr/local/lib/python3.10/dist-packages (from huggingface-hub>=0.20.0->sentence-transformers) (24.2)\n",
            "Requirement already satisfied: pyyaml>=5.1 in /usr/local/lib/python3.10/dist-packages (from huggingface-hub>=0.20.0->sentence-transformers) (6.0.2)\n",
            "Requirement already satisfied: requests in /usr/local/lib/python3.10/dist-packages (from huggingface-hub>=0.20.0->sentence-transformers) (2.32.3)\n",
            "Requirement already satisfied: typing-extensions>=3.7.4.3 in /usr/local/lib/python3.10/dist-packages (from huggingface-hub>=0.20.0->sentence-transformers) (4.12.2)\n",
            "Requirement already satisfied: networkx in /usr/local/lib/python3.10/dist-packages (from torch>=1.11.0->sentence-transformers) (3.4.2)\n",
            "Requirement already satisfied: jinja2 in /usr/local/lib/python3.10/dist-packages (from torch>=1.11.0->sentence-transformers) (3.1.4)\n",
            "Requirement already satisfied: sympy==1.13.1 in /usr/local/lib/python3.10/dist-packages (from torch>=1.11.0->sentence-transformers) (1.13.1)\n",
            "Requirement already satisfied: mpmath<1.4,>=1.1.0 in /usr/local/lib/python3.10/dist-packages (from sympy==1.13.1->torch>=1.11.0->sentence-transformers) (1.3.0)\n",
            "Requirement already satisfied: numpy>=1.17 in /usr/local/lib/python3.10/dist-packages (from transformers<5.0.0,>=4.41.0->sentence-transformers) (1.26.4)\n",
            "Requirement already satisfied: regex!=2019.12.17 in /usr/local/lib/python3.10/dist-packages (from transformers<5.0.0,>=4.41.0->sentence-transformers) (2024.9.11)\n",
            "Requirement already satisfied: safetensors>=0.4.1 in /usr/local/lib/python3.10/dist-packages (from transformers<5.0.0,>=4.41.0->sentence-transformers) (0.4.5)\n",
            "Requirement already satisfied: tokenizers<0.21,>=0.20 in /usr/local/lib/python3.10/dist-packages (from transformers<5.0.0,>=4.41.0->sentence-transformers) (0.20.3)\n",
            "Requirement already satisfied: joblib>=1.2.0 in /usr/local/lib/python3.10/dist-packages (from scikit-learn->sentence-transformers) (1.4.2)\n",
            "Requirement already satisfied: threadpoolctl>=3.1.0 in /usr/local/lib/python3.10/dist-packages (from scikit-learn->sentence-transformers) (3.5.0)\n",
            "Requirement already satisfied: MarkupSafe>=2.0 in /usr/local/lib/python3.10/dist-packages (from jinja2->torch>=1.11.0->sentence-transformers) (3.0.2)\n",
            "Requirement already satisfied: charset-normalizer<4,>=2 in /usr/local/lib/python3.10/dist-packages (from requests->huggingface-hub>=0.20.0->sentence-transformers) (3.4.0)\n",
            "Requirement already satisfied: idna<4,>=2.5 in /usr/local/lib/python3.10/dist-packages (from requests->huggingface-hub>=0.20.0->sentence-transformers) (3.10)\n",
            "Requirement already satisfied: urllib3<3,>=1.21.1 in /usr/local/lib/python3.10/dist-packages (from requests->huggingface-hub>=0.20.0->sentence-transformers) (2.2.3)\n",
            "Requirement already satisfied: certifi>=2017.4.17 in /usr/local/lib/python3.10/dist-packages (from requests->huggingface-hub>=0.20.0->sentence-transformers) (2024.8.30)\n",
            "Requirement already satisfied: transformers in /usr/local/lib/python3.10/dist-packages (4.46.2)\n",
            "Requirement already satisfied: filelock in /usr/local/lib/python3.10/dist-packages (from transformers) (3.16.1)\n",
            "Requirement already satisfied: huggingface-hub<1.0,>=0.23.2 in /usr/local/lib/python3.10/dist-packages (from transformers) (0.26.2)\n",
            "Requirement already satisfied: numpy>=1.17 in /usr/local/lib/python3.10/dist-packages (from transformers) (1.26.4)\n",
            "Requirement already satisfied: packaging>=20.0 in /usr/local/lib/python3.10/dist-packages (from transformers) (24.2)\n",
            "Requirement already satisfied: pyyaml>=5.1 in /usr/local/lib/python3.10/dist-packages (from transformers) (6.0.2)\n",
            "Requirement already satisfied: regex!=2019.12.17 in /usr/local/lib/python3.10/dist-packages (from transformers) (2024.9.11)\n",
            "Requirement already satisfied: requests in /usr/local/lib/python3.10/dist-packages (from transformers) (2.32.3)\n",
            "Requirement already satisfied: safetensors>=0.4.1 in /usr/local/lib/python3.10/dist-packages (from transformers) (0.4.5)\n",
            "Requirement already satisfied: tokenizers<0.21,>=0.20 in /usr/local/lib/python3.10/dist-packages (from transformers) (0.20.3)\n",
            "Requirement already satisfied: tqdm>=4.27 in /usr/local/lib/python3.10/dist-packages (from transformers) (4.66.6)\n",
            "Requirement already satisfied: fsspec>=2023.5.0 in /usr/local/lib/python3.10/dist-packages (from huggingface-hub<1.0,>=0.23.2->transformers) (2024.10.0)\n",
            "Requirement already satisfied: typing-extensions>=3.7.4.3 in /usr/local/lib/python3.10/dist-packages (from huggingface-hub<1.0,>=0.23.2->transformers) (4.12.2)\n",
            "Requirement already satisfied: charset-normalizer<4,>=2 in /usr/local/lib/python3.10/dist-packages (from requests->transformers) (3.4.0)\n",
            "Requirement already satisfied: idna<4,>=2.5 in /usr/local/lib/python3.10/dist-packages (from requests->transformers) (3.10)\n",
            "Requirement already satisfied: urllib3<3,>=1.21.1 in /usr/local/lib/python3.10/dist-packages (from requests->transformers) (2.2.3)\n",
            "Requirement already satisfied: certifi>=2017.4.17 in /usr/local/lib/python3.10/dist-packages (from requests->transformers) (2024.8.30)\n",
            "Collecting pymilvus\n",
            "  Downloading pymilvus-2.5.0-py3-none-any.whl.metadata (5.7 kB)\n",
            "Requirement already satisfied: setuptools>69 in /usr/local/lib/python3.10/dist-packages (from pymilvus) (75.1.0)\n",
            "Collecting grpcio<=1.67.1,>=1.49.1 (from pymilvus)\n",
            "  Downloading grpcio-1.67.1-cp310-cp310-manylinux_2_17_x86_64.manylinux2014_x86_64.whl.metadata (3.9 kB)\n",
            "Requirement already satisfied: protobuf>=3.20.0 in /usr/local/lib/python3.10/dist-packages (from pymilvus) (4.25.5)\n",
            "Collecting python-dotenv<2.0.0,>=1.0.1 (from pymilvus)\n",
            "  Downloading python_dotenv-1.0.1-py3-none-any.whl.metadata (23 kB)\n",
            "Collecting ujson>=2.0.0 (from pymilvus)\n",
            "  Downloading ujson-5.10.0-cp310-cp310-manylinux_2_17_x86_64.manylinux2014_x86_64.whl.metadata (9.3 kB)\n",
            "Requirement already satisfied: pandas>=1.2.4 in /usr/local/lib/python3.10/dist-packages (from pymilvus) (2.2.2)\n",
            "Collecting milvus-lite>=2.4.0 (from pymilvus)\n",
            "  Downloading milvus_lite-2.4.10-py3-none-manylinux2014_x86_64.whl.metadata (9.0 kB)\n",
            "Requirement already satisfied: tqdm in /usr/local/lib/python3.10/dist-packages (from milvus-lite>=2.4.0->pymilvus) (4.66.6)\n",
            "Requirement already satisfied: numpy>=1.22.4 in /usr/local/lib/python3.10/dist-packages (from pandas>=1.2.4->pymilvus) (1.26.4)\n",
            "Requirement already satisfied: python-dateutil>=2.8.2 in /usr/local/lib/python3.10/dist-packages (from pandas>=1.2.4->pymilvus) (2.8.2)\n",
            "Requirement already satisfied: pytz>=2020.1 in /usr/local/lib/python3.10/dist-packages (from pandas>=1.2.4->pymilvus) (2024.2)\n",
            "Requirement already satisfied: tzdata>=2022.7 in /usr/local/lib/python3.10/dist-packages (from pandas>=1.2.4->pymilvus) (2024.2)\n",
            "Requirement already satisfied: six>=1.5 in /usr/local/lib/python3.10/dist-packages (from python-dateutil>=2.8.2->pandas>=1.2.4->pymilvus) (1.16.0)\n",
            "Downloading pymilvus-2.5.0-py3-none-any.whl (212 kB)\n",
            "\u001b[2K   \u001b[90m━━━━━━━━━━━━━━━━━━━━━━━━━━━━━━━━━━━━━━━━\u001b[0m \u001b[32m212.8/212.8 kB\u001b[0m \u001b[31m4.1 MB/s\u001b[0m eta \u001b[36m0:00:00\u001b[0m\n",
            "\u001b[?25hDownloading grpcio-1.67.1-cp310-cp310-manylinux_2_17_x86_64.manylinux2014_x86_64.whl (5.9 MB)\n",
            "\u001b[2K   \u001b[90m━━━━━━━━━━━━━━━━━━━━━━━━━━━━━━━━━━━━━━━━\u001b[0m \u001b[32m5.9/5.9 MB\u001b[0m \u001b[31m62.7 MB/s\u001b[0m eta \u001b[36m0:00:00\u001b[0m\n",
            "\u001b[?25hDownloading milvus_lite-2.4.10-py3-none-manylinux2014_x86_64.whl (49.4 MB)\n",
            "\u001b[2K   \u001b[90m━━━━━━━━━━━━━━━━━━━━━━━━━━━━━━━━━━━━━━━━\u001b[0m \u001b[32m49.4/49.4 MB\u001b[0m \u001b[31m18.3 MB/s\u001b[0m eta \u001b[36m0:00:00\u001b[0m\n",
            "\u001b[?25hDownloading python_dotenv-1.0.1-py3-none-any.whl (19 kB)\n",
            "Downloading ujson-5.10.0-cp310-cp310-manylinux_2_17_x86_64.manylinux2014_x86_64.whl (53 kB)\n",
            "\u001b[2K   \u001b[90m━━━━━━━━━━━━━━━━━━━━━━━━━━━━━━━━━━━━━━━━\u001b[0m \u001b[32m53.6/53.6 kB\u001b[0m \u001b[31m3.3 MB/s\u001b[0m eta \u001b[36m0:00:00\u001b[0m\n",
            "\u001b[?25hInstalling collected packages: ujson, python-dotenv, milvus-lite, grpcio, pymilvus\n",
            "  Attempting uninstall: grpcio\n",
            "    Found existing installation: grpcio 1.68.0\n",
            "    Uninstalling grpcio-1.68.0:\n",
            "      Successfully uninstalled grpcio-1.68.0\n",
            "Successfully installed grpcio-1.67.1 milvus-lite-2.4.10 pymilvus-2.5.0 python-dotenv-1.0.1 ujson-5.10.0\n",
            "Requirement already satisfied: torch in /usr/local/lib/python3.10/dist-packages (2.5.1+cu121)\n",
            "Requirement already satisfied: filelock in /usr/local/lib/python3.10/dist-packages (from torch) (3.16.1)\n",
            "Requirement already satisfied: typing-extensions>=4.8.0 in /usr/local/lib/python3.10/dist-packages (from torch) (4.12.2)\n",
            "Requirement already satisfied: networkx in /usr/local/lib/python3.10/dist-packages (from torch) (3.4.2)\n",
            "Requirement already satisfied: jinja2 in /usr/local/lib/python3.10/dist-packages (from torch) (3.1.4)\n",
            "Requirement already satisfied: fsspec in /usr/local/lib/python3.10/dist-packages (from torch) (2024.10.0)\n",
            "Requirement already satisfied: sympy==1.13.1 in /usr/local/lib/python3.10/dist-packages (from torch) (1.13.1)\n",
            "Requirement already satisfied: mpmath<1.4,>=1.1.0 in /usr/local/lib/python3.10/dist-packages (from sympy==1.13.1->torch) (1.3.0)\n",
            "Requirement already satisfied: MarkupSafe>=2.0 in /usr/local/lib/python3.10/dist-packages (from jinja2->torch) (3.0.2)\n",
            "Collecting docker\n",
            "  Downloading docker-7.1.0-py3-none-any.whl.metadata (3.8 kB)\n",
            "Requirement already satisfied: requests>=2.26.0 in /usr/local/lib/python3.10/dist-packages (from docker) (2.32.3)\n",
            "Requirement already satisfied: urllib3>=1.26.0 in /usr/local/lib/python3.10/dist-packages (from docker) (2.2.3)\n",
            "Requirement already satisfied: charset-normalizer<4,>=2 in /usr/local/lib/python3.10/dist-packages (from requests>=2.26.0->docker) (3.4.0)\n",
            "Requirement already satisfied: idna<4,>=2.5 in /usr/local/lib/python3.10/dist-packages (from requests>=2.26.0->docker) (3.10)\n",
            "Requirement already satisfied: certifi>=2017.4.17 in /usr/local/lib/python3.10/dist-packages (from requests>=2.26.0->docker) (2024.8.30)\n",
            "Downloading docker-7.1.0-py3-none-any.whl (147 kB)\n",
            "\u001b[2K   \u001b[90m━━━━━━━━━━━━━━━━━━━━━━━━━━━━━━━━━━━━━━━━\u001b[0m \u001b[32m147.8/147.8 kB\u001b[0m \u001b[31m2.7 MB/s\u001b[0m eta \u001b[36m0:00:00\u001b[0m\n",
            "\u001b[?25hInstalling collected packages: docker\n",
            "Successfully installed docker-7.1.0\n",
            "Collecting streamlit\n",
            "  Downloading streamlit-1.40.2-py2.py3-none-any.whl.metadata (8.4 kB)\n",
            "Requirement already satisfied: altair<6,>=4.0 in /usr/local/lib/python3.10/dist-packages (from streamlit) (4.2.2)\n",
            "Requirement already satisfied: blinker<2,>=1.0.0 in /usr/local/lib/python3.10/dist-packages (from streamlit) (1.9.0)\n",
            "Requirement already satisfied: cachetools<6,>=4.0 in /usr/local/lib/python3.10/dist-packages (from streamlit) (5.5.0)\n",
            "Requirement already satisfied: click<9,>=7.0 in /usr/local/lib/python3.10/dist-packages (from streamlit) (8.1.7)\n",
            "Requirement already satisfied: numpy<3,>=1.23 in /usr/local/lib/python3.10/dist-packages (from streamlit) (1.26.4)\n",
            "Requirement already satisfied: packaging<25,>=20 in /usr/local/lib/python3.10/dist-packages (from streamlit) (24.2)\n",
            "Requirement already satisfied: pandas<3,>=1.4.0 in /usr/local/lib/python3.10/dist-packages (from streamlit) (2.2.2)\n",
            "Requirement already satisfied: pillow<12,>=7.1.0 in /usr/local/lib/python3.10/dist-packages (from streamlit) (11.0.0)\n",
            "Requirement already satisfied: protobuf<6,>=3.20 in /usr/local/lib/python3.10/dist-packages (from streamlit) (4.25.5)\n",
            "Requirement already satisfied: pyarrow>=7.0 in /usr/local/lib/python3.10/dist-packages (from streamlit) (17.0.0)\n",
            "Requirement already satisfied: requests<3,>=2.27 in /usr/local/lib/python3.10/dist-packages (from streamlit) (2.32.3)\n",
            "Requirement already satisfied: rich<14,>=10.14.0 in /usr/local/lib/python3.10/dist-packages (from streamlit) (13.9.4)\n",
            "Requirement already satisfied: tenacity<10,>=8.1.0 in /usr/local/lib/python3.10/dist-packages (from streamlit) (9.0.0)\n",
            "Requirement already satisfied: toml<2,>=0.10.1 in /usr/local/lib/python3.10/dist-packages (from streamlit) (0.10.2)\n",
            "Requirement already satisfied: typing-extensions<5,>=4.3.0 in /usr/local/lib/python3.10/dist-packages (from streamlit) (4.12.2)\n",
            "Collecting watchdog<7,>=2.1.5 (from streamlit)\n",
            "  Downloading watchdog-6.0.0-py3-none-manylinux2014_x86_64.whl.metadata (44 kB)\n",
            "\u001b[2K     \u001b[90m━━━━━━━━━━━━━━━━━━━━━━━━━━━━━━━━━━━━━━━━\u001b[0m \u001b[32m44.3/44.3 kB\u001b[0m \u001b[31m1.6 MB/s\u001b[0m eta \u001b[36m0:00:00\u001b[0m\n",
            "\u001b[?25hRequirement already satisfied: gitpython!=3.1.19,<4,>=3.0.7 in /usr/local/lib/python3.10/dist-packages (from streamlit) (3.1.43)\n",
            "Collecting pydeck<1,>=0.8.0b4 (from streamlit)\n",
            "  Downloading pydeck-0.9.1-py2.py3-none-any.whl.metadata (4.1 kB)\n",
            "Requirement already satisfied: tornado<7,>=6.0.3 in /usr/local/lib/python3.10/dist-packages (from streamlit) (6.3.3)\n",
            "Requirement already satisfied: entrypoints in /usr/local/lib/python3.10/dist-packages (from altair<6,>=4.0->streamlit) (0.4)\n",
            "Requirement already satisfied: jinja2 in /usr/local/lib/python3.10/dist-packages (from altair<6,>=4.0->streamlit) (3.1.4)\n",
            "Requirement already satisfied: jsonschema>=3.0 in /usr/local/lib/python3.10/dist-packages (from altair<6,>=4.0->streamlit) (4.23.0)\n",
            "Requirement already satisfied: toolz in /usr/local/lib/python3.10/dist-packages (from altair<6,>=4.0->streamlit) (0.12.1)\n",
            "Requirement already satisfied: gitdb<5,>=4.0.1 in /usr/local/lib/python3.10/dist-packages (from gitpython!=3.1.19,<4,>=3.0.7->streamlit) (4.0.11)\n",
            "Requirement already satisfied: python-dateutil>=2.8.2 in /usr/local/lib/python3.10/dist-packages (from pandas<3,>=1.4.0->streamlit) (2.8.2)\n",
            "Requirement already satisfied: pytz>=2020.1 in /usr/local/lib/python3.10/dist-packages (from pandas<3,>=1.4.0->streamlit) (2024.2)\n",
            "Requirement already satisfied: tzdata>=2022.7 in /usr/local/lib/python3.10/dist-packages (from pandas<3,>=1.4.0->streamlit) (2024.2)\n",
            "Requirement already satisfied: charset-normalizer<4,>=2 in /usr/local/lib/python3.10/dist-packages (from requests<3,>=2.27->streamlit) (3.4.0)\n",
            "Requirement already satisfied: idna<4,>=2.5 in /usr/local/lib/python3.10/dist-packages (from requests<3,>=2.27->streamlit) (3.10)\n",
            "Requirement already satisfied: urllib3<3,>=1.21.1 in /usr/local/lib/python3.10/dist-packages (from requests<3,>=2.27->streamlit) (2.2.3)\n",
            "Requirement already satisfied: certifi>=2017.4.17 in /usr/local/lib/python3.10/dist-packages (from requests<3,>=2.27->streamlit) (2024.8.30)\n",
            "Requirement already satisfied: markdown-it-py>=2.2.0 in /usr/local/lib/python3.10/dist-packages (from rich<14,>=10.14.0->streamlit) (3.0.0)\n",
            "Requirement already satisfied: pygments<3.0.0,>=2.13.0 in /usr/local/lib/python3.10/dist-packages (from rich<14,>=10.14.0->streamlit) (2.18.0)\n",
            "Requirement already satisfied: smmap<6,>=3.0.1 in /usr/local/lib/python3.10/dist-packages (from gitdb<5,>=4.0.1->gitpython!=3.1.19,<4,>=3.0.7->streamlit) (5.0.1)\n",
            "Requirement already satisfied: MarkupSafe>=2.0 in /usr/local/lib/python3.10/dist-packages (from jinja2->altair<6,>=4.0->streamlit) (3.0.2)\n",
            "Requirement already satisfied: attrs>=22.2.0 in /usr/local/lib/python3.10/dist-packages (from jsonschema>=3.0->altair<6,>=4.0->streamlit) (24.2.0)\n",
            "Requirement already satisfied: jsonschema-specifications>=2023.03.6 in /usr/local/lib/python3.10/dist-packages (from jsonschema>=3.0->altair<6,>=4.0->streamlit) (2024.10.1)\n",
            "Requirement already satisfied: referencing>=0.28.4 in /usr/local/lib/python3.10/dist-packages (from jsonschema>=3.0->altair<6,>=4.0->streamlit) (0.35.1)\n",
            "Requirement already satisfied: rpds-py>=0.7.1 in /usr/local/lib/python3.10/dist-packages (from jsonschema>=3.0->altair<6,>=4.0->streamlit) (0.21.0)\n",
            "Requirement already satisfied: mdurl~=0.1 in /usr/local/lib/python3.10/dist-packages (from markdown-it-py>=2.2.0->rich<14,>=10.14.0->streamlit) (0.1.2)\n",
            "Requirement already satisfied: six>=1.5 in /usr/local/lib/python3.10/dist-packages (from python-dateutil>=2.8.2->pandas<3,>=1.4.0->streamlit) (1.16.0)\n",
            "Downloading streamlit-1.40.2-py2.py3-none-any.whl (8.6 MB)\n",
            "\u001b[2K   \u001b[90m━━━━━━━━━━━━━━━━━━━━━━━━━━━━━━━━━━━━━━━━\u001b[0m \u001b[32m8.6/8.6 MB\u001b[0m \u001b[31m54.1 MB/s\u001b[0m eta \u001b[36m0:00:00\u001b[0m\n",
            "\u001b[?25hDownloading pydeck-0.9.1-py2.py3-none-any.whl (6.9 MB)\n",
            "\u001b[2K   \u001b[90m━━━━━━━━━━━━━━━━━━━━━━━━━━━━━━━━━━━━━━━━\u001b[0m \u001b[32m6.9/6.9 MB\u001b[0m \u001b[31m86.8 MB/s\u001b[0m eta \u001b[36m0:00:00\u001b[0m\n",
            "\u001b[?25hDownloading watchdog-6.0.0-py3-none-manylinux2014_x86_64.whl (79 kB)\n",
            "\u001b[2K   \u001b[90m━━━━━━━━━━━━━━━━━━━━━━━━━━━━━━━━━━━━━━━━\u001b[0m \u001b[32m79.1/79.1 kB\u001b[0m \u001b[31m4.8 MB/s\u001b[0m eta \u001b[36m0:00:00\u001b[0m\n",
            "\u001b[?25hInstalling collected packages: watchdog, pydeck, streamlit\n",
            "Successfully installed pydeck-0.9.1 streamlit-1.40.2 watchdog-6.0.0\n"
          ]
        }
      ]
    },
    {
      "cell_type": "markdown",
      "source": [
        "Uplaoding the relavant documents\n"
      ],
      "metadata": {
        "id": "wrNqmy5wCnFZ"
      }
    },
    {
      "cell_type": "code",
      "source": [
        "from google.colab import drive\n",
        "drive.mount('/content/drive')\n"
      ],
      "metadata": {
        "colab": {
          "base_uri": "https://localhost:8080/"
        },
        "id": "UTmneqV2DM6Y",
        "outputId": "350998d7-47e0-47d9-dc99-082abdf5e0a9"
      },
      "execution_count": null,
      "outputs": [
        {
          "output_type": "stream",
          "name": "stdout",
          "text": [
            "Mounted at /content/drive\n"
          ]
        }
      ]
    },
    {
      "cell_type": "markdown",
      "source": [
        "data cleaning for text file"
      ],
      "metadata": {
        "id": "ws-5WP2SNCbO"
      }
    },
    {
      "cell_type": "code",
      "source": [
        "import nltk\n",
        "import string\n",
        "from nltk.corpus import stopwords\n",
        "from nltk.tokenize import word_tokenize\n",
        "\n",
        "# Download necessary NLTK data\n",
        "nltk.download('punkt')\n",
        "nltk.download('stopwords')\n",
        "nltk.download('punkt_tab') # Download the missing 'punkt_tab' data package\n",
        "\n",
        "# Load stop words\n",
        "stop_words = set(stopwords.words('english'))\n",
        "\n",
        "# Function to clean the text: Remove punctuation, stop words, and lowercasing\n",
        "def clean_text(text):\n",
        "    # Convert to lowercase\n",
        "    text = text.lower()\n",
        "\n",
        "    # Remove punctuation\n",
        "    text = ''.join([char for char in text if char not in string.punctuation])\n",
        "\n",
        "    # Tokenize the text\n",
        "    words = word_tokenize(text)\n",
        "\n",
        "    # Remove stop words\n",
        "    cleaned_words = [word for word in words if word not in stop_words]\n",
        "\n",
        "    # Rejoin words to form cleaned text\n",
        "    cleaned_text = ' '.join(cleaned_words)\n",
        "\n",
        "    return cleaned_text\n",
        "\n",
        "# Path to the text file\n",
        "text_file_path = '/content/drive/MyDrive/MES_text.txt'\n",
        "\n",
        "# Read the text file\n",
        "with open(text_file_path, 'r') as file:\n",
        "    text_data = file.read()\n",
        "\n",
        "# Clean the text\n",
        "cleaned_text = clean_text(text_data)\n",
        "\n",
        "# Print cleaned text\n",
        "print(\"Cleaned Text from txt file:\\n\")\n",
        "print(cleaned_text[:500])  # Print the first 500 characters"
      ],
      "metadata": {
        "colab": {
          "base_uri": "https://localhost:8080/"
        },
        "collapsed": true,
        "id": "XCKK72GRMOXA",
        "outputId": "de5163a3-9d95-40c6-f9ab-888e8b950310"
      },
      "execution_count": null,
      "outputs": [
        {
          "output_type": "stream",
          "name": "stdout",
          "text": [
            "Cleaned Text from txt file:\n",
            "\n",
            "manufacturing execution system mes chemical industry manufacturing execution system mes software solution manages optimizes manufacturing operations chemical industry mes plays crucial role ensuring product quality improving efficiency complying regulatory standards key features chemical industry mes production planning scheduling creates detailed production schedules based demand forecasts resource availability optimizes production sequences minimize downtime maximize throughput realtime monito\n"
          ]
        },
        {
          "output_type": "stream",
          "name": "stderr",
          "text": [
            "[nltk_data] Downloading package punkt to /root/nltk_data...\n",
            "[nltk_data]   Package punkt is already up-to-date!\n",
            "[nltk_data] Downloading package stopwords to /root/nltk_data...\n",
            "[nltk_data]   Package stopwords is already up-to-date!\n",
            "[nltk_data] Downloading package punkt_tab to /root/nltk_data...\n",
            "[nltk_data]   Package punkt_tab is already up-to-date!\n"
          ]
        }
      ]
    },
    {
      "cell_type": "markdown",
      "source": [
        "Tokenize the Text (Optional but Recommended for Embeddings)\n",
        "Tokenizing helps break the cleaned text into smaller chunks (words or sub-words), which are often required for embedding models.\n"
      ],
      "metadata": {
        "id": "5vszajLCQs_I"
      }
    },
    {
      "cell_type": "code",
      "source": [
        "# Tokenize the cleaned text\n",
        "tokens = word_tokenize(cleaned_text)\n",
        "\n",
        "# Print the first few tokens\n",
        "print(\"Tokens from the cleaned text:\\n\")\n",
        "print(tokens[:50])  # Print first 50 tokens\n"
      ],
      "metadata": {
        "colab": {
          "base_uri": "https://localhost:8080/"
        },
        "id": "pvwDdIyBQyLg",
        "outputId": "f131851d-eb04-449b-88f3-f73c0397ae60"
      },
      "execution_count": null,
      "outputs": [
        {
          "output_type": "stream",
          "name": "stdout",
          "text": [
            "Tokens from the cleaned text:\n",
            "\n",
            "['manufacturing', 'execution', 'system', 'mes', 'chemical', 'industry', 'manufacturing', 'execution', 'system', 'mes', 'software', 'solution', 'manages', 'optimizes', 'manufacturing', 'operations', 'chemical', 'industry', 'mes', 'plays', 'crucial', 'role', 'ensuring', 'product', 'quality', 'improving', 'efficiency', 'complying', 'regulatory', 'standards', 'key', 'features', 'chemical', 'industry', 'mes', 'production', 'planning', 'scheduling', 'creates', 'detailed', 'production', 'schedules', 'based', 'demand', 'forecasts', 'resource', 'availability', 'optimizes', 'production', 'sequences']\n"
          ]
        }
      ]
    },
    {
      "cell_type": "markdown",
      "source": [
        "Prepare for Embedding Generation\n",
        "Once the text is cleaned and tokenized, it’s ready for generating embeddings using a model like Sentence-Transformer. We can now prepare this data for that step"
      ],
      "metadata": {
        "id": "n4CgLtBoQ1rF"
      }
    },
    {
      "cell_type": "code",
      "source": [
        "# Prepare the cleaned and tokenized text for embeddings\n",
        "# You can save these tokens or cleaned text to a variable, or store them for future use\n",
        "processed_data = cleaned_text  # or tokens if you need them in tokenized form\n",
        "\n",
        "# Optionally, you can store it in a list or other data structure if needed\n",
        "documents = [processed_data]  # This list will contain the processed text\n",
        "\n",
        "# Print the final processed text (cleaned and tokenized)\n",
        "print(\"Final Processed Data (cleaned text):\\n\")\n",
        "print(processed_data[:500])  # Print first 500 characters\n"
      ],
      "metadata": {
        "colab": {
          "base_uri": "https://localhost:8080/"
        },
        "id": "mOWA5GXaQ3te",
        "outputId": "476f6c06-dd58-43fd-f296-30b50c242912"
      },
      "execution_count": null,
      "outputs": [
        {
          "output_type": "stream",
          "name": "stdout",
          "text": [
            "Final Processed Data (cleaned text):\n",
            "\n",
            "manufacturing execution system mes chemical industry manufacturing execution system mes software solution manages optimizes manufacturing operations chemical industry mes plays crucial role ensuring product quality improving efficiency complying regulatory standards key features chemical industry mes production planning scheduling creates detailed production schedules based demand forecasts resource availability optimizes production sequences minimize downtime maximize throughput realtime monito\n"
          ]
        }
      ]
    },
    {
      "cell_type": "markdown",
      "source": [
        " Save Processed Data for Future Use (Optional)\n",
        "You may want to save this cleaned and processed data for future steps (like embedding generation or storing in the vector database)."
      ],
      "metadata": {
        "id": "biBaz6x1Q835"
      }
    },
    {
      "cell_type": "code",
      "source": [
        "# Save cleaned text to a new file (if required)\n",
        "output_file_path = '/content/drive/MyDrive/MES_Files/processed_text.txt'\n",
        "with open(output_file_path, 'w') as output_file:\n",
        "    output_file.write(processed_data)\n",
        "\n",
        "print(f\"Processed text has been saved to {output_file_path}\")\n"
      ],
      "metadata": {
        "colab": {
          "base_uri": "https://localhost:8080/"
        },
        "id": "KiogHQe-Q-0N",
        "outputId": "47f34336-9de9-46cc-9c8a-06e656cf8390"
      },
      "execution_count": null,
      "outputs": [
        {
          "output_type": "stream",
          "name": "stdout",
          "text": [
            "Processed text has been saved to /content/drive/MyDrive/MES_Files/processed_text.txt\n"
          ]
        }
      ]
    },
    {
      "cell_type": "markdown",
      "source": [
        "**PDF FORMAT**"
      ],
      "metadata": {
        "id": "4t87qezzOOr_"
      }
    },
    {
      "cell_type": "code",
      "source": [
        "!pip install pymupdf\n",
        "!pip install nltk\n"
      ],
      "metadata": {
        "colab": {
          "base_uri": "https://localhost:8080/"
        },
        "collapsed": true,
        "id": "R7Xliz8rOR6r",
        "outputId": "10a155a9-f0c8-45e6-f90e-af0bd45fa063"
      },
      "execution_count": null,
      "outputs": [
        {
          "output_type": "stream",
          "name": "stdout",
          "text": [
            "Collecting pymupdf\n",
            "  Downloading PyMuPDF-1.24.14-cp39-abi3-manylinux2014_x86_64.manylinux_2_17_x86_64.whl.metadata (3.4 kB)\n",
            "Downloading PyMuPDF-1.24.14-cp39-abi3-manylinux2014_x86_64.manylinux_2_17_x86_64.whl (19.8 MB)\n",
            "\u001b[2K   \u001b[90m━━━━━━━━━━━━━━━━━━━━━━━━━━━━━━━━━━━━━━━━\u001b[0m \u001b[32m19.8/19.8 MB\u001b[0m \u001b[31m80.3 MB/s\u001b[0m eta \u001b[36m0:00:00\u001b[0m\n",
            "\u001b[?25hInstalling collected packages: pymupdf\n",
            "Successfully installed pymupdf-1.24.14\n",
            "Requirement already satisfied: nltk in /usr/local/lib/python3.10/dist-packages (3.9.1)\n",
            "Requirement already satisfied: click in /usr/local/lib/python3.10/dist-packages (from nltk) (8.1.7)\n",
            "Requirement already satisfied: joblib in /usr/local/lib/python3.10/dist-packages (from nltk) (1.4.2)\n",
            "Requirement already satisfied: regex>=2021.8.3 in /usr/local/lib/python3.10/dist-packages (from nltk) (2024.9.11)\n",
            "Requirement already satisfied: tqdm in /usr/local/lib/python3.10/dist-packages (from nltk) (4.66.6)\n"
          ]
        }
      ]
    },
    {
      "cell_type": "code",
      "source": [
        "import fitz  # PyMuPDF\n",
        "import nltk\n",
        "import string\n",
        "from nltk.corpus import stopwords\n",
        "from nltk.tokenize import word_tokenize\n",
        "\n",
        "# Download necessary NLTK data\n",
        "nltk.download('punkt')\n",
        "nltk.download('stopwords')\n",
        "\n",
        "# Load stop words\n",
        "stop_words = set(stopwords.words('english'))\n"
      ],
      "metadata": {
        "colab": {
          "base_uri": "https://localhost:8080/"
        },
        "id": "qdusPdp0OcHX",
        "outputId": "abd95077-7ebd-4257-c5e5-50c77a7483f5"
      },
      "execution_count": null,
      "outputs": [
        {
          "output_type": "stream",
          "name": "stderr",
          "text": [
            "[nltk_data] Downloading package punkt to /root/nltk_data...\n",
            "[nltk_data]   Package punkt is already up-to-date!\n",
            "[nltk_data] Downloading package stopwords to /root/nltk_data...\n",
            "[nltk_data]   Package stopwords is already up-to-date!\n"
          ]
        }
      ]
    },
    {
      "cell_type": "markdown",
      "source": [
        "Extract Text from PDF"
      ],
      "metadata": {
        "id": "hkSiuEeHOiHd"
      }
    },
    {
      "cell_type": "code",
      "source": [
        "# Function to extract text from PDF\n",
        "def extract_text_from_pdf(pdf_path):\n",
        "    doc = fitz.open(pdf_path)\n",
        "    text = \"\"\n",
        "    for page in doc:\n",
        "        text += page.get_text()\n",
        "    return text\n",
        "\n",
        "# Path to the PDF file\n",
        "pdf_file_path = '/content/drive/MyDrive/MES_gmpua.pdf'\n",
        "\n",
        "# Extract text from the PDF\n",
        "pdf_text = extract_text_from_pdf(pdf_file_path)\n",
        "\n",
        "# Print the first 500 characters of the extracted text\n",
        "print(\"Extracted Text from PDF file:\\n\")\n",
        "print(pdf_text[:500])  # Print first 500 characters to preview\n"
      ],
      "metadata": {
        "colab": {
          "base_uri": "https://localhost:8080/"
        },
        "collapsed": true,
        "id": "q79dS8oFOgDL",
        "outputId": "6559d17d-5ed7-41bc-82cc-a9e20659aa51"
      },
      "execution_count": null,
      "outputs": [
        {
          "output_type": "stream",
          "name": "stdout",
          "text": [
            "Extracted Text from PDF file:\n",
            "\n",
            " \n",
            "Optimizing the pharmaceutical supply chain by means of MES \n",
            "page 1 of 28 \n",
            " \n",
            " \n",
            " \n",
            "Manufacturing Execution Systems to \n",
            "Optimize the Pharmaceutical Supply Chain \n",
            " \n",
            "Rolf Blumenthal, Werum Software & Systems \n",
            "Parsippany, NJ / Lueneburg, Germany \n",
            " \n",
            "This article has originally been published in the German magazine \n",
            " “Die pharmazeutische Industrie”. \n",
            " \n",
            "Pharm. Ind. 66, Nr. 11a, 1414-1424 (2004) Editio Cantor Verlag, Aulendorf, Germany \n",
            "ISSN 0031-711 X \n",
            " \n",
            "Optimizing the pharmaceutical supply chain by mea\n"
          ]
        }
      ]
    },
    {
      "cell_type": "markdown",
      "source": [
        "Clean the Text\n"
      ],
      "metadata": {
        "id": "xaEIKNf7Owja"
      }
    },
    {
      "cell_type": "code",
      "source": [
        "# Function to clean the text: Remove punctuation, stop words, and lowercasing\n",
        "def clean_text(text):\n",
        "    # Convert to lowercase\n",
        "    text = text.lower()\n",
        "\n",
        "    # Remove punctuation\n",
        "    text = ''.join([char for char in text if char not in string.punctuation])\n",
        "\n",
        "    # Tokenize the text\n",
        "    words = word_tokenize(text)\n",
        "\n",
        "    # Remove stop words\n",
        "    cleaned_words = [word for word in words if word not in stop_words]\n",
        "\n",
        "    # Rejoin words to form cleaned text\n",
        "    cleaned_text = ' '.join(cleaned_words)\n",
        "\n",
        "    return cleaned_text\n",
        "\n",
        "# Clean the extracted PDF text\n",
        "cleaned_pdf_text = clean_text(pdf_text)\n",
        "\n",
        "# Print cleaned text\n",
        "print(\"Cleaned Text from PDF file:\\n\")\n",
        "print(cleaned_pdf_text[:500])  # Print first 500 characters of cleaned text\n"
      ],
      "metadata": {
        "colab": {
          "base_uri": "https://localhost:8080/"
        },
        "id": "Xjkda9n7OxNl",
        "outputId": "cfb24b54-ef2f-44ac-c0eb-0ccdcc77f0a0"
      },
      "execution_count": null,
      "outputs": [
        {
          "output_type": "stream",
          "name": "stdout",
          "text": [
            "Cleaned Text from PDF file:\n",
            "\n",
            "optimizing pharmaceutical supply chain means mes page 1 28 manufacturing execution systems optimize pharmaceutical supply chain rolf blumenthal werum software systems parsippany nj lueneburg germany article originally published german magazine “ die pharmazeutische industrie ” pharm ind 66 nr 11a 14141424 2004 editio cantor verlag aulendorf germany issn 0031711 x optimizing pharmaceutical supply chain means mes page 2 28 abstract manufacturing execution systems mes enable pharmaceutical industry\n"
          ]
        }
      ]
    },
    {
      "cell_type": "markdown",
      "source": [
        "Tokenize the Cleaned Text"
      ],
      "metadata": {
        "id": "ir6sQYgvO0_z"
      }
    },
    {
      "cell_type": "code",
      "source": [
        "# Tokenize the cleaned text\n",
        "tokens = word_tokenize(cleaned_pdf_text)\n",
        "\n",
        "# Print the first few tokens\n",
        "print(\"Tokens from the cleaned PDF text:\\n\")\n",
        "print(tokens[:50])  # Print first 50 tokens\n"
      ],
      "metadata": {
        "colab": {
          "base_uri": "https://localhost:8080/"
        },
        "id": "78kGpSuMO4G5",
        "outputId": "a6828a41-327c-4001-ed76-5485ef5b9bec"
      },
      "execution_count": null,
      "outputs": [
        {
          "output_type": "stream",
          "name": "stdout",
          "text": [
            "Tokens from the cleaned PDF text:\n",
            "\n",
            "['optimizing', 'pharmaceutical', 'supply', 'chain', 'means', 'mes', 'page', '1', '28', 'manufacturing', 'execution', 'systems', 'optimize', 'pharmaceutical', 'supply', 'chain', 'rolf', 'blumenthal', 'werum', 'software', 'systems', 'parsippany', 'nj', 'lueneburg', 'germany', 'article', 'originally', 'published', 'german', 'magazine', '“', 'die', 'pharmazeutische', 'industrie', '”', 'pharm', 'ind', '66', 'nr', '11a', '14141424', '2004', 'editio', 'cantor', 'verlag', 'aulendorf', 'germany', 'issn', '0031711', 'x']\n"
          ]
        }
      ]
    },
    {
      "cell_type": "markdown",
      "source": [
        "Prepare for Further Use (Embedding Generation)\n",
        "Finally, you can store the cleaned and tokenized text, or the raw cleaned text, for future use like embedding generation."
      ],
      "metadata": {
        "id": "0_LVs4xDO6xQ"
      }
    },
    {
      "cell_type": "code",
      "source": [
        "# Store the processed data (cleaned text) for future use\n",
        "processed_pdf_data = cleaned_pdf_text  # Or tokens if needed\n",
        "\n",
        "# Print the processed data\n",
        "print(\"Processed Data (Cleaned Text):\\n\")\n",
        "print(processed_pdf_data[:500])  # Print first 500 characters of cleaned data\n"
      ],
      "metadata": {
        "colab": {
          "base_uri": "https://localhost:8080/"
        },
        "id": "TeFS3unwO90u",
        "outputId": "d508a96a-303f-455d-cf6c-bb2cc10f0e9f"
      },
      "execution_count": null,
      "outputs": [
        {
          "output_type": "stream",
          "name": "stdout",
          "text": [
            "Processed Data (Cleaned Text):\n",
            "\n",
            "optimizing pharmaceutical supply chain means mes page 1 28 manufacturing execution systems optimize pharmaceutical supply chain rolf blumenthal werum software systems parsippany nj lueneburg germany article originally published german magazine “ die pharmazeutische industrie ” pharm ind 66 nr 11a 14141424 2004 editio cantor verlag aulendorf germany issn 0031711 x optimizing pharmaceutical supply chain means mes page 2 28 abstract manufacturing execution systems mes enable pharmaceutical industry\n"
          ]
        }
      ]
    },
    {
      "cell_type": "markdown",
      "source": [
        "Optionally Save the Cleaned PDF Text\n",
        "You might want to save the cleaned PDF text to a file for later use.\n",
        "\n",
        "python\n",
        "Copy code\n"
      ],
      "metadata": {
        "id": "B9k-xrkmPEAY"
      }
    },
    {
      "cell_type": "code",
      "source": [
        "import os\n",
        "\n",
        "# Save cleaned text to a new file (optional)\n",
        "output_pdf_path = '/content/drive/MyDrive/MES_Files/processed_pdf_text.txt'\n",
        "\n",
        "# Create the directory if it doesn't exist\n",
        "os.makedirs(os.path.dirname(output_pdf_path), exist_ok=True)\n",
        "\n",
        "with open(output_pdf_path, 'w') as output_file:\n",
        "    output_file.write(processed_pdf_data)\n",
        "\n",
        "print(f\"Processed PDF text has been saved to {output_pdf_path}\")"
      ],
      "metadata": {
        "colab": {
          "base_uri": "https://localhost:8080/"
        },
        "id": "xkBOmXVyPEnM",
        "outputId": "87d4f93a-6580-42b1-8e25-1ceebf14e6be"
      },
      "execution_count": null,
      "outputs": [
        {
          "output_type": "stream",
          "name": "stdout",
          "text": [
            "Processed PDF text has been saved to /content/drive/MyDrive/MES_Files/processed_pdf_text.txt\n"
          ]
        }
      ]
    },
    {
      "cell_type": "markdown",
      "source": [
        "**AUDIO FORMAT**"
      ],
      "metadata": {
        "id": "JExA8fZXRIG3"
      }
    },
    {
      "cell_type": "code",
      "source": [
        "!apt-get install ffmpeg\n",
        "!pip install SpeechRecognition pydub\n",
        "!pip install nltk\n"
      ],
      "metadata": {
        "colab": {
          "base_uri": "https://localhost:8080/"
        },
        "collapsed": true,
        "id": "8xNzIuuqRT2e",
        "outputId": "81be5b66-74dd-4bd8-9cc1-ab1800e98cce"
      },
      "execution_count": null,
      "outputs": [
        {
          "output_type": "stream",
          "name": "stdout",
          "text": [
            "Reading package lists... Done\n",
            "Building dependency tree... Done\n",
            "Reading state information... Done\n",
            "ffmpeg is already the newest version (7:4.4.2-0ubuntu0.22.04.1).\n",
            "0 upgraded, 0 newly installed, 0 to remove and 49 not upgraded.\n",
            "Requirement already satisfied: SpeechRecognition in /usr/local/lib/python3.10/dist-packages (3.11.0)\n",
            "Requirement already satisfied: pydub in /usr/local/lib/python3.10/dist-packages (0.25.1)\n",
            "Requirement already satisfied: requests>=2.26.0 in /usr/local/lib/python3.10/dist-packages (from SpeechRecognition) (2.32.3)\n",
            "Requirement already satisfied: typing-extensions in /usr/local/lib/python3.10/dist-packages (from SpeechRecognition) (4.12.2)\n",
            "Requirement already satisfied: charset-normalizer<4,>=2 in /usr/local/lib/python3.10/dist-packages (from requests>=2.26.0->SpeechRecognition) (3.4.0)\n",
            "Requirement already satisfied: idna<4,>=2.5 in /usr/local/lib/python3.10/dist-packages (from requests>=2.26.0->SpeechRecognition) (3.10)\n",
            "Requirement already satisfied: urllib3<3,>=1.21.1 in /usr/local/lib/python3.10/dist-packages (from requests>=2.26.0->SpeechRecognition) (2.2.3)\n",
            "Requirement already satisfied: certifi>=2017.4.17 in /usr/local/lib/python3.10/dist-packages (from requests>=2.26.0->SpeechRecognition) (2024.8.30)\n",
            "Requirement already satisfied: nltk in /usr/local/lib/python3.10/dist-packages (3.9.1)\n",
            "Requirement already satisfied: click in /usr/local/lib/python3.10/dist-packages (from nltk) (8.1.7)\n",
            "Requirement already satisfied: joblib in /usr/local/lib/python3.10/dist-packages (from nltk) (1.4.2)\n",
            "Requirement already satisfied: regex>=2021.8.3 in /usr/local/lib/python3.10/dist-packages (from nltk) (2024.9.11)\n",
            "Requirement already satisfied: tqdm in /usr/local/lib/python3.10/dist-packages (from nltk) (4.66.6)\n"
          ]
        }
      ]
    },
    {
      "cell_type": "markdown",
      "source": [
        "Extract Audio from Video\n",
        "We first extract the audio from the video file since transcription tools work on audio. Use FFmpeg for this."
      ],
      "metadata": {
        "id": "bBd4PcxGT9sY"
      }
    },
    {
      "cell_type": "code",
      "source": [
        "import os\n",
        "\n",
        "# Paths\n",
        "video_file_path = '/content/drive/MyDrive/Manufacturing Execution System - What is it.mp4'  # Input video file\n",
        "audio_file_path = '/content/drive/MyDrive/MES_Files/audio_from_video.wav'  # Extracted audio file\n",
        "\n",
        "# Extract audio from video\n",
        "os.system(f\"ffmpeg -i {video_file_path} -q:a 0 -map a {audio_file_path}\")\n",
        "print(f\"Audio extracted and saved at {audio_file_path}\")\n"
      ],
      "metadata": {
        "colab": {
          "base_uri": "https://localhost:8080/"
        },
        "id": "548DIHhXT-aY",
        "outputId": "34d08098-dfd9-4708-8d6c-84d5be0435e7"
      },
      "execution_count": null,
      "outputs": [
        {
          "output_type": "stream",
          "name": "stdout",
          "text": [
            "Audio extracted and saved at /content/drive/MyDrive/MES_Files/audio_from_video.wav\n"
          ]
        }
      ]
    },
    {
      "cell_type": "markdown",
      "source": [
        "Enhance Audio Quality\n",
        "Enhance the audio to improve transcription accuracy. This involves noise reduction, normalization, and frequency filtering.\n",
        "\n",
        "Code for Noise Reduction:"
      ],
      "metadata": {
        "id": "ImdcyF1ZUL6K"
      }
    },
    {
      "cell_type": "code",
      "source": [
        "import os\n",
        "import librosa\n",
        "import noisereduce as nr\n",
        "import soundfile as sf\n",
        "from google.colab import drive\n",
        "\n",
        "# Mount Google Drive\n",
        "drive.mount('/content/drive')  # Mounts Google Drive to the Colab environment\n",
        "\n",
        "# Paths\n",
        "video_file_path = '/content/drive/MyDrive/Manufacturing Execution System - What is it.mp4'  # Input video file\n",
        "audio_file_path = '/content/drive/MyDrive/MES_Files/audio_from_video.wav'  # Extracted audio file\n",
        "enhanced_audio_path = '/content/drive/MyDrive/MES_Files/enhanced_audio.wav'\n",
        "\n",
        "# Ensure the directory exists\n",
        "os.makedirs(os.path.dirname(audio_file_path), exist_ok=True)  # Creates the necessary directories for the audio file\n",
        "\n",
        "# Extract audio from video using ffmpeg\n",
        "print(\"Extracting audio from video...\")\n",
        "return_code = os.system(f\"ffmpeg -i \\\"{video_file_path}\\\" -q:a 0 -map a \\\"{audio_file_path}\\\"\")\n",
        "print(f\"ffmpeg return code: {return_code}\")\n",
        "if return_code != 0:\n",
        "    raise Exception(f\"ffmpeg failed with return code {return_code}. Check video_file_path and permissions.\")\n",
        "print(f\"Audio extracted and saved at {audio_file_path}\")\n",
        "\n",
        "# Add check for file existence\n",
        "if not os.path.exists(audio_file_path):\n",
        "    raise FileNotFoundError(f\"Audio file not found at: {audio_file_path}\")\n",
        "\n",
        "# Noise reduction function\n",
        "def reduce_noise(input_path, output_path):\n",
        "    print(f\"Reducing noise in the audio: {input_path}...\")\n",
        "    # Load the audio\n",
        "    try:\n",
        "        y, sr = librosa.load(input_path)\n",
        "    except Exception as e:\n",
        "        raise Exception(f\"Error loading audio file: {e}\")\n",
        "\n",
        "    # Extract noise profile (assume first 0.5 seconds is noise)\n",
        "    noise_clip = y[:int(sr * 0.5)]\n",
        "\n",
        "    # Reduce noise\n",
        "    try:\n",
        "        reduced_audio = nr.reduce_noise(y=y, sr=sr, y_noise=noise_clip)\n",
        "    except Exception as e:\n",
        "        raise Exception(f\"Error during noise reduction: {e}\")\n",
        "\n",
        "    # Save enhanced audio\n",
        "    try:\n",
        "        sf.write(output_path, reduced_audio, sr)\n",
        "        print(f\"Noise-reduced audio saved at {output_path}\")\n",
        "    except Exception as e:\n",
        "        raise Exception(f\"Error saving enhanced audio: {e}\")\n",
        "\n",
        "# Enhance audio quality\n",
        "reduce_noise(audio_file_path, enhanced_audio_path)\n"
      ],
      "metadata": {
        "colab": {
          "base_uri": "https://localhost:8080/"
        },
        "id": "omjtyEakUODr",
        "outputId": "16c894a6-0271-4c21-de41-aec61453150e"
      },
      "execution_count": null,
      "outputs": [
        {
          "output_type": "stream",
          "name": "stdout",
          "text": [
            "Drive already mounted at /content/drive; to attempt to forcibly remount, call drive.mount(\"/content/drive\", force_remount=True).\n",
            "Extracting audio from video...\n",
            "ffmpeg return code: 0\n",
            "Audio extracted and saved at /content/drive/MyDrive/MES_Files/audio_from_video.wav\n",
            "Reducing noise in the audio: /content/drive/MyDrive/MES_Files/audio_from_video.wav...\n",
            "Noise-reduced audio saved at /content/drive/MyDrive/MES_Files/enhanced_audio.wav\n"
          ]
        }
      ]
    },
    {
      "cell_type": "markdown",
      "source": [
        "(Optional) Split Audio into Smaller Chunks\n",
        "If the audio is long, split it into smaller chunks for better transcription results."
      ],
      "metadata": {
        "id": "CiXpf-IWUQmC"
      }
    },
    {
      "cell_type": "code",
      "source": [
        "from pydub import AudioSegment\n",
        "\n",
        "# Directory for audio chunks\n",
        "chunk_dir = '/content/drive/MyDrive/MES_Files/audio_chunks/'\n",
        "os.makedirs(chunk_dir, exist_ok=True)\n",
        "\n",
        "# Load the enhanced audio\n",
        "audio = AudioSegment.from_wav(enhanced_audio_path)\n",
        "\n",
        "# Split into 30-second chunks\n",
        "chunk_length_ms = 30 * 1000  # 30 seconds in milliseconds\n",
        "chunks = [audio[i:i + chunk_length_ms] for i in range(0, len(audio), chunk_length_ms)]\n",
        "\n",
        "# Save each chunk\n",
        "chunk_paths = []\n",
        "for idx, chunk in enumerate(chunks):\n",
        "    chunk_path = os.path.join(chunk_dir, f'chunk_{idx}.wav')\n",
        "    chunk.export(chunk_path, format=\"wav\")\n",
        "    chunk_paths.append(chunk_path)\n",
        "    print(f\"Saved chunk {idx} to {chunk_path}\")\n",
        "\n",
        "print(f\"Audio has been split into {len(chunk_paths)} chunks.\")\n"
      ],
      "metadata": {
        "colab": {
          "base_uri": "https://localhost:8080/"
        },
        "collapsed": true,
        "id": "tmupkuToUPUi",
        "outputId": "e4f184f5-94d0-480a-aa75-13535e4e9e3d"
      },
      "execution_count": null,
      "outputs": [
        {
          "output_type": "stream",
          "name": "stdout",
          "text": [
            "Saved chunk 0 to /content/drive/MyDrive/MES_Files/audio_chunks/chunk_0.wav\n",
            "Saved chunk 1 to /content/drive/MyDrive/MES_Files/audio_chunks/chunk_1.wav\n",
            "Saved chunk 2 to /content/drive/MyDrive/MES_Files/audio_chunks/chunk_2.wav\n",
            "Saved chunk 3 to /content/drive/MyDrive/MES_Files/audio_chunks/chunk_3.wav\n",
            "Saved chunk 4 to /content/drive/MyDrive/MES_Files/audio_chunks/chunk_4.wav\n",
            "Saved chunk 5 to /content/drive/MyDrive/MES_Files/audio_chunks/chunk_5.wav\n",
            "Saved chunk 6 to /content/drive/MyDrive/MES_Files/audio_chunks/chunk_6.wav\n",
            "Saved chunk 7 to /content/drive/MyDrive/MES_Files/audio_chunks/chunk_7.wav\n",
            "Saved chunk 8 to /content/drive/MyDrive/MES_Files/audio_chunks/chunk_8.wav\n",
            "Saved chunk 9 to /content/drive/MyDrive/MES_Files/audio_chunks/chunk_9.wav\n",
            "Saved chunk 10 to /content/drive/MyDrive/MES_Files/audio_chunks/chunk_10.wav\n",
            "Saved chunk 11 to /content/drive/MyDrive/MES_Files/audio_chunks/chunk_11.wav\n",
            "Saved chunk 12 to /content/drive/MyDrive/MES_Files/audio_chunks/chunk_12.wav\n",
            "Saved chunk 13 to /content/drive/MyDrive/MES_Files/audio_chunks/chunk_13.wav\n",
            "Saved chunk 14 to /content/drive/MyDrive/MES_Files/audio_chunks/chunk_14.wav\n",
            "Saved chunk 15 to /content/drive/MyDrive/MES_Files/audio_chunks/chunk_15.wav\n",
            "Saved chunk 16 to /content/drive/MyDrive/MES_Files/audio_chunks/chunk_16.wav\n",
            "Saved chunk 17 to /content/drive/MyDrive/MES_Files/audio_chunks/chunk_17.wav\n",
            "Saved chunk 18 to /content/drive/MyDrive/MES_Files/audio_chunks/chunk_18.wav\n",
            "Saved chunk 19 to /content/drive/MyDrive/MES_Files/audio_chunks/chunk_19.wav\n",
            "Saved chunk 20 to /content/drive/MyDrive/MES_Files/audio_chunks/chunk_20.wav\n",
            "Saved chunk 21 to /content/drive/MyDrive/MES_Files/audio_chunks/chunk_21.wav\n",
            "Saved chunk 22 to /content/drive/MyDrive/MES_Files/audio_chunks/chunk_22.wav\n",
            "Saved chunk 23 to /content/drive/MyDrive/MES_Files/audio_chunks/chunk_23.wav\n",
            "Saved chunk 24 to /content/drive/MyDrive/MES_Files/audio_chunks/chunk_24.wav\n",
            "Saved chunk 25 to /content/drive/MyDrive/MES_Files/audio_chunks/chunk_25.wav\n",
            "Saved chunk 26 to /content/drive/MyDrive/MES_Files/audio_chunks/chunk_26.wav\n",
            "Saved chunk 27 to /content/drive/MyDrive/MES_Files/audio_chunks/chunk_27.wav\n",
            "Saved chunk 28 to /content/drive/MyDrive/MES_Files/audio_chunks/chunk_28.wav\n",
            "Saved chunk 29 to /content/drive/MyDrive/MES_Files/audio_chunks/chunk_29.wav\n",
            "Saved chunk 30 to /content/drive/MyDrive/MES_Files/audio_chunks/chunk_30.wav\n",
            "Saved chunk 31 to /content/drive/MyDrive/MES_Files/audio_chunks/chunk_31.wav\n",
            "Saved chunk 32 to /content/drive/MyDrive/MES_Files/audio_chunks/chunk_32.wav\n",
            "Saved chunk 33 to /content/drive/MyDrive/MES_Files/audio_chunks/chunk_33.wav\n",
            "Saved chunk 34 to /content/drive/MyDrive/MES_Files/audio_chunks/chunk_34.wav\n",
            "Saved chunk 35 to /content/drive/MyDrive/MES_Files/audio_chunks/chunk_35.wav\n",
            "Saved chunk 36 to /content/drive/MyDrive/MES_Files/audio_chunks/chunk_36.wav\n",
            "Saved chunk 37 to /content/drive/MyDrive/MES_Files/audio_chunks/chunk_37.wav\n",
            "Saved chunk 38 to /content/drive/MyDrive/MES_Files/audio_chunks/chunk_38.wav\n",
            "Saved chunk 39 to /content/drive/MyDrive/MES_Files/audio_chunks/chunk_39.wav\n",
            "Saved chunk 40 to /content/drive/MyDrive/MES_Files/audio_chunks/chunk_40.wav\n",
            "Saved chunk 41 to /content/drive/MyDrive/MES_Files/audio_chunks/chunk_41.wav\n",
            "Saved chunk 42 to /content/drive/MyDrive/MES_Files/audio_chunks/chunk_42.wav\n",
            "Saved chunk 43 to /content/drive/MyDrive/MES_Files/audio_chunks/chunk_43.wav\n",
            "Saved chunk 44 to /content/drive/MyDrive/MES_Files/audio_chunks/chunk_44.wav\n",
            "Saved chunk 45 to /content/drive/MyDrive/MES_Files/audio_chunks/chunk_45.wav\n",
            "Saved chunk 46 to /content/drive/MyDrive/MES_Files/audio_chunks/chunk_46.wav\n",
            "Saved chunk 47 to /content/drive/MyDrive/MES_Files/audio_chunks/chunk_47.wav\n",
            "Saved chunk 48 to /content/drive/MyDrive/MES_Files/audio_chunks/chunk_48.wav\n",
            "Saved chunk 49 to /content/drive/MyDrive/MES_Files/audio_chunks/chunk_49.wav\n",
            "Saved chunk 50 to /content/drive/MyDrive/MES_Files/audio_chunks/chunk_50.wav\n",
            "Saved chunk 51 to /content/drive/MyDrive/MES_Files/audio_chunks/chunk_51.wav\n",
            "Saved chunk 52 to /content/drive/MyDrive/MES_Files/audio_chunks/chunk_52.wav\n",
            "Saved chunk 53 to /content/drive/MyDrive/MES_Files/audio_chunks/chunk_53.wav\n",
            "Saved chunk 54 to /content/drive/MyDrive/MES_Files/audio_chunks/chunk_54.wav\n",
            "Saved chunk 55 to /content/drive/MyDrive/MES_Files/audio_chunks/chunk_55.wav\n",
            "Saved chunk 56 to /content/drive/MyDrive/MES_Files/audio_chunks/chunk_56.wav\n",
            "Saved chunk 57 to /content/drive/MyDrive/MES_Files/audio_chunks/chunk_57.wav\n",
            "Saved chunk 58 to /content/drive/MyDrive/MES_Files/audio_chunks/chunk_58.wav\n",
            "Saved chunk 59 to /content/drive/MyDrive/MES_Files/audio_chunks/chunk_59.wav\n",
            "Saved chunk 60 to /content/drive/MyDrive/MES_Files/audio_chunks/chunk_60.wav\n",
            "Saved chunk 61 to /content/drive/MyDrive/MES_Files/audio_chunks/chunk_61.wav\n",
            "Saved chunk 62 to /content/drive/MyDrive/MES_Files/audio_chunks/chunk_62.wav\n",
            "Saved chunk 63 to /content/drive/MyDrive/MES_Files/audio_chunks/chunk_63.wav\n",
            "Saved chunk 64 to /content/drive/MyDrive/MES_Files/audio_chunks/chunk_64.wav\n",
            "Saved chunk 65 to /content/drive/MyDrive/MES_Files/audio_chunks/chunk_65.wav\n",
            "Saved chunk 66 to /content/drive/MyDrive/MES_Files/audio_chunks/chunk_66.wav\n",
            "Saved chunk 67 to /content/drive/MyDrive/MES_Files/audio_chunks/chunk_67.wav\n",
            "Saved chunk 68 to /content/drive/MyDrive/MES_Files/audio_chunks/chunk_68.wav\n",
            "Saved chunk 69 to /content/drive/MyDrive/MES_Files/audio_chunks/chunk_69.wav\n",
            "Saved chunk 70 to /content/drive/MyDrive/MES_Files/audio_chunks/chunk_70.wav\n",
            "Saved chunk 71 to /content/drive/MyDrive/MES_Files/audio_chunks/chunk_71.wav\n",
            "Saved chunk 72 to /content/drive/MyDrive/MES_Files/audio_chunks/chunk_72.wav\n",
            "Saved chunk 73 to /content/drive/MyDrive/MES_Files/audio_chunks/chunk_73.wav\n",
            "Saved chunk 74 to /content/drive/MyDrive/MES_Files/audio_chunks/chunk_74.wav\n",
            "Saved chunk 75 to /content/drive/MyDrive/MES_Files/audio_chunks/chunk_75.wav\n",
            "Saved chunk 76 to /content/drive/MyDrive/MES_Files/audio_chunks/chunk_76.wav\n",
            "Audio has been split into 77 chunks.\n"
          ]
        }
      ]
    },
    {
      "cell_type": "markdown",
      "source": [
        "Transcribe Audio to Text\n",
        "Transcribe the enhanced audio or its chunks using Whisper for robust transcription.\n",
        "\n",
        "Install Whisper"
      ],
      "metadata": {
        "id": "lkEnus0RUV2D"
      }
    },
    {
      "cell_type": "code",
      "source": [
        "!pip install openai-whisper ffmpeg\n"
      ],
      "metadata": {
        "colab": {
          "base_uri": "https://localhost:8080/"
        },
        "collapsed": true,
        "id": "1eRNIwWjUUto",
        "outputId": "63f04094-d7d3-4e0a-8eaf-652036be1bd1"
      },
      "execution_count": null,
      "outputs": [
        {
          "output_type": "stream",
          "name": "stdout",
          "text": [
            "Requirement already satisfied: openai-whisper in /usr/local/lib/python3.10/dist-packages (20240930)\n",
            "Requirement already satisfied: ffmpeg in /usr/local/lib/python3.10/dist-packages (1.4)\n",
            "Requirement already satisfied: numba in /usr/local/lib/python3.10/dist-packages (from openai-whisper) (0.60.0)\n",
            "Requirement already satisfied: numpy in /usr/local/lib/python3.10/dist-packages (from openai-whisper) (1.26.4)\n",
            "Requirement already satisfied: torch in /usr/local/lib/python3.10/dist-packages (from openai-whisper) (2.5.1+cu121)\n",
            "Requirement already satisfied: tqdm in /usr/local/lib/python3.10/dist-packages (from openai-whisper) (4.66.6)\n",
            "Requirement already satisfied: more-itertools in /usr/local/lib/python3.10/dist-packages (from openai-whisper) (10.5.0)\n",
            "Requirement already satisfied: tiktoken in /usr/local/lib/python3.10/dist-packages (from openai-whisper) (0.8.0)\n",
            "Requirement already satisfied: triton>=2.0.0 in /usr/local/lib/python3.10/dist-packages (from openai-whisper) (3.1.0)\n",
            "Requirement already satisfied: filelock in /usr/local/lib/python3.10/dist-packages (from triton>=2.0.0->openai-whisper) (3.16.1)\n",
            "Requirement already satisfied: llvmlite<0.44,>=0.43.0dev0 in /usr/local/lib/python3.10/dist-packages (from numba->openai-whisper) (0.43.0)\n",
            "Requirement already satisfied: regex>=2022.1.18 in /usr/local/lib/python3.10/dist-packages (from tiktoken->openai-whisper) (2024.9.11)\n",
            "Requirement already satisfied: requests>=2.26.0 in /usr/local/lib/python3.10/dist-packages (from tiktoken->openai-whisper) (2.32.3)\n",
            "Requirement already satisfied: typing-extensions>=4.8.0 in /usr/local/lib/python3.10/dist-packages (from torch->openai-whisper) (4.12.2)\n",
            "Requirement already satisfied: networkx in /usr/local/lib/python3.10/dist-packages (from torch->openai-whisper) (3.4.2)\n",
            "Requirement already satisfied: jinja2 in /usr/local/lib/python3.10/dist-packages (from torch->openai-whisper) (3.1.4)\n",
            "Requirement already satisfied: fsspec in /usr/local/lib/python3.10/dist-packages (from torch->openai-whisper) (2024.10.0)\n",
            "Requirement already satisfied: sympy==1.13.1 in /usr/local/lib/python3.10/dist-packages (from torch->openai-whisper) (1.13.1)\n",
            "Requirement already satisfied: mpmath<1.4,>=1.1.0 in /usr/local/lib/python3.10/dist-packages (from sympy==1.13.1->torch->openai-whisper) (1.3.0)\n",
            "Requirement already satisfied: charset-normalizer<4,>=2 in /usr/local/lib/python3.10/dist-packages (from requests>=2.26.0->tiktoken->openai-whisper) (3.4.0)\n",
            "Requirement already satisfied: idna<4,>=2.5 in /usr/local/lib/python3.10/dist-packages (from requests>=2.26.0->tiktoken->openai-whisper) (3.10)\n",
            "Requirement already satisfied: urllib3<3,>=1.21.1 in /usr/local/lib/python3.10/dist-packages (from requests>=2.26.0->tiktoken->openai-whisper) (2.2.3)\n",
            "Requirement already satisfied: certifi>=2017.4.17 in /usr/local/lib/python3.10/dist-packages (from requests>=2.26.0->tiktoken->openai-whisper) (2024.8.30)\n",
            "Requirement already satisfied: MarkupSafe>=2.0 in /usr/local/lib/python3.10/dist-packages (from jinja2->torch->openai-whisper) (3.0.2)\n"
          ]
        }
      ]
    },
    {
      "cell_type": "markdown",
      "source": [
        "Transcription code"
      ],
      "metadata": {
        "id": "xPDxejVRUiPB"
      }
    },
    {
      "cell_type": "code",
      "source": [
        "import whisper\n",
        "\n",
        "# Load the Whisper model\n",
        "model = whisper.load_model(\"base\")\n",
        "\n",
        "# Transcribe the enhanced audio\n",
        "result = model.transcribe(enhanced_audio_path)\n",
        "transcribed_text = result[\"text\"]\n",
        "print(\"Transcribed Text:\\n\", transcribed_text)\n"
      ],
      "metadata": {
        "colab": {
          "base_uri": "https://localhost:8080/"
        },
        "id": "VD6anKq4UZyL",
        "outputId": "34d8da8a-aecb-4cbe-ee20-88d7cefa3e73"
      },
      "execution_count": null,
      "outputs": [
        {
          "output_type": "stream",
          "name": "stderr",
          "text": [
            "/usr/local/lib/python3.10/dist-packages/whisper/__init__.py:150: FutureWarning: You are using `torch.load` with `weights_only=False` (the current default value), which uses the default pickle module implicitly. It is possible to construct malicious pickle data which will execute arbitrary code during unpickling (See https://github.com/pytorch/pytorch/blob/main/SECURITY.md#untrusted-models for more details). In a future release, the default value for `weights_only` will be flipped to `True`. This limits the functions that could be executed during unpickling. Arbitrary objects will no longer be allowed to be loaded via this mode unless they are explicitly allowlisted by the user via `torch.serialization.add_safe_globals`. We recommend you start setting `weights_only=True` for any use case where you don't have full control of the loaded file. Please open an issue on GitHub for any issues related to this experimental feature.\n",
            "  checkpoint = torch.load(fp, map_location=device)\n",
            "/usr/local/lib/python3.10/dist-packages/whisper/transcribe.py:126: UserWarning: FP16 is not supported on CPU; using FP32 instead\n",
            "  warnings.warn(\"FP16 is not supported on CPU; using FP32 instead\")\n"
          ]
        },
        {
          "output_type": "stream",
          "name": "stdout",
          "text": [
            "Transcribed Text:\n",
            "  Good morning or good afternoon everyone and welcome to another paperless lunch and learn webinar. Today's webinar will be discussed in what is the manufacturing execution or otherwise known as MES services. We chose this topic today because either the confusion or maybe just understanding but a lot of our interactions with our customers and we can actually ask the question what is an MES system? Not a lot of people know what an MES system is or can find all the pieces and puzzles that go into MES. So let's start off with today with a quick definition of what an MES system is. Why is it important to me? How does it play with all the other systems within my business? And what are the advantages and core functions of an MES system and then people will show you if MES system and how it can actually help accommodate or accomplish the core functions as well as benefit some MES. So getting into it here we look at a manufacturing execution system. There's really three kind of things it's trying to convey. So it connects with monitors, controls, pretty much anything that goes on in the manufacturing system from a data perspective and those users or machines etc. And then you think about the main goal of a manufacturing execution system is really to improve your bottom line, improve your production output out there on the shop floor. We look at some like industry standards out there. There's a company out there called Hyde Nisi which is kind of like GART which it purposes to go and evaluate systems and give an output of what is that display is value system business etc. Definition from Hyde Nisi for one of the main fetching institutions is a company format. There's a top down version which is really just ERP centric focuses on your ERP data and needs of ERP that's pretty much one direction. Then the second category that they put in yes and it is the bottom up category which is machine centric which is looking at your speed and speed of your machines as far as what's going into it, what the temperature, how many pieces are being ported etc. Then third category that it applies to MES is this inside out which is really based on the worker centric version of MES which is going to provide visibility for what is usually worked on from an ERP perspective of the shop floor. It can communicate down and up from the bottom up version which is machine so it's really focused on that user and that two way communication. Capillus MES is where it fits in that inside out which we're really focused on the workers off in the shop floor. They can simple for them to get information for what they should be doing in the factory today as well as making it simple for them to report all the activities that they're doing throughout the day that other areas of your business can manage up. Looking at MES now where does it fit with other systems? How does it play with MES? We have that machine where it's down below which is your speed of stuff where they want to wear it etc. It's actually communicating to machine. When you have MES then in the middle with ERP and your business intelligence up on top you think about that MES is a critical part of your solution to communicate both between your upper level business intelligence and ERP as well as your bottom level of your machines up there in the shop floor. Think about it from a more granular details and let's expand this a little bit further. You can look at this chart here and obviously you've got the nine plants on. It also shows MES out here. It also shows your machine layers as well as your ERP layer. You can think about the data that's flowing between all these layers and MES. That's where it comes into place. That critical piece of middle that's is time going to communicate down and up the chain not only to machines but also to workers up there in the shop floor. All the pertinent information as far as what needs to be packed but also what has been done so that my other business application could take advantage of that EOTimes record information to make better business decisions. Get into the core function and features of an MES. Think about who, what, when, when, how. Those kinds of things are all my core functions. You can be broken down. You can know what, when do I need to work on something? What am I supposed to do to factor? How am I supposed to manufacture that? Who is actually responsible for this work area, what tools, what people, etc. And then obviously how do we actually do the monitoring? Kind of expanding this into a very, all the different features or functions of an MES system. And we're broken down to these categories. We have data collection and obviously acquisition which is just saying I want to know what's going on over the shop floor. I want to collect information for what's paid for us, what's being worked on. I want to look at the information schedule. Looking at a schedule for what should be made, back should out there on the shop floor. You can do about a schedule whether that comes from the EOT system or outside source. Everybody has a schedule for what should be back around the floor. And it needs to be broken down into more detailed solutions. As far as what work areas are presented with the schedule is at that individual station. And that's an important piece. You have to have a work on the right things at the right time in order to actually increase time on time. This batching production needs. Obviously, you know, the production needs could be in form of a finished good, it could be in form of the sub-sub-sub-summit, you form a raw material. But you're just batching this production unit out to the shop floor again in sequence as well as reporting what was done at that each one of those production needs. Production tracking and genealogy is just an indicator of a track that is expanded into many different kinds of track movements. As far as where it is, if it process, if it's a track status, if it's a track, please working on it, track what inventory went into it, when inventory came out of it. You can get down to a bit granular level where you're looking at genealogy, which is looking at maybe the backslot information for components that went into an environment like the cache line that shows up. Or you can even go one left layer lower, go to the serial number, which is unique identity against these parts that you're paying faction, as well as the parts that you've put into that serialized and item. So those things are very, very important. Staff and resource management, obviously, you want to know who's in the building, who's scheduled to work at work work center, you know, those skills, or those workers who change their job, instead of being able to understand not only who's here and what's working on it, but also how well they're doing. You know, I actually am going to head or behind schedule on the jobs that is currently at my work space process management. You can expand process management, you can get about how should something be in fact, you want to communicate that obviously with engineers and put together a design of a product in faction steps that has still been in fact. That's the process you want to control the management of that process. You're looking at performance analysis. Performance analysis can go from down into, you know, how well is this job performance, whether that's the action chain, whether that's the exploit, whether that's the job is itself, there's a lot of factors that go into performance analysis. You can be able to actually look dive into details for each one of those areas, how well it's doing, and lead to some huge benefits within any inspection company. Performance analysis. I actually, that's not what that one was, I was just going to get into like maintenance management, volume management, back management, just the management of maintenance from machines, quality, against a job, against machines, the additional components of a sub-assembly of finished item, and then back and using all the supporting information that needs to be communicated to and from the shop floor. Again, think about it as a MES solution. Think about these core function features. Not just tracking information, what happened out there on the shop floor, but also retrieving information and also communicating information out there to shop floor, and all the other business applications. Take a look quickly at a group work well. How does you think about planners and engineers on the side there, right? An engineer with diners, I can tell you what roady steps, how does this item get assembled, just to whatever details you want to go down. Planners are obviously in place, they know it, I hear what I have on the schedule. Here's my current workload, and this gives you a very automated format, meaning the software application, does the bulk of your planning, and then maybe you have a planner above that, just to review and tweak that plan that was created by your software application. All that information then goes into your MES application, right? And then back in turn is obviously data, and data that's been communicated out to the production floor, and can go out to a shift supervisor, which can further tweak that plan if you give it the order in responsibility to say, you know what, I know based on my information out in the forward this job, you're not running out because there's no other people, and resources are material for that machine, it's actually running slower, so I can't work that I need to change this stuff. Or maybe there are even more granular levels saying that it makes more sense to run these two jobs back, back, because they have so much setup times or setup setups, and we reduce my overall setup time if I actually run these two jobs back, back. So that's the production information that can be communicated out to the shop floor, to the supervisors, and then the operators on the floor are obviously going to make a background. Right, they're going to have to look at the individual tasks that need to be done at the individual work centers, and then look at the parts that immediately process as far as how do I assemble something, how do I actually assemble something, etc. And they're ultimately going to produce a product. And that product could be a double-assembled item, or if you finished it, or it could just be a working process step. And then we get it on the last one of them here, which is looking at inspection quality. And that's why I look at that working process as a component to you, or a step-of-the-management process that needs to be tested, because you may want to test in process, and rather than just testing the end item that's going to be into the learning. So all this information is from operators and quality specters, and we can machine as well, and obviously go back into the NES system as updating what is currently going on on the open shop floor, and then to communicate that, not only to communicate that to a NES application, but also to communicate that to all your other business applications, about your planning engine, about the purchasing engines, or what's the pilot's needs factor, etc. All those individual applications in the business are updated based on that information that you shop for, with that information that you have, that are tools in order to make better business decisions. We didn't know why is an NES important. You know, in two key factors, really, are making sure you have accurate and visit real-time information that this holds to everybody. So really giving many factors that are real-time accurate and this will information to everybody, and I've spoken about this a little bit already, but I want to make sure that that hits home. And that's the important. You're looking at software systems up there, and I'm glad you're hiding them, right? And I've just let them capture the collect data that is maybe used, or not used, but it's not used in why collecting. But you really want to use this NES information to further improve your business, and once the machine down, how much scrap have I had, what quality is used, and running for schedule schedule. So let's dive into a little deeper here. And I'll think about NES and how it optimizes the production of N4. It's really a healthy production of N4 by having everybody up to date with that real-time information. You know, it's current conditions. Obviously, you know, key indicators, and the stack like are red, green, and yellow, right? Obviously red, green, green, green, green, green, green, green, green, yellow means good, yellow means good, green worked. Now those are the current conditions of the shopper, and that stack like can be across many different areas. It's not just for that machine that runs, but maybe it's actually operated, or maybe it's actually material. Maybe it's the overall order for the overall NNICL. NES can also be used to help reduce set-ups, using about capturing information of them and shoppers, I don't know how much set up time is actually being curated for given items. Here's where you can actually capture that information. And then once it's captured, you can monitor or do some analysis over that information to figure how much set up time is being reported for individual jobs, individual work centers, or individual employees as well. So you can then look at how much time it's being set up to say, you know, this seems to be a little bit out of whack, and actually puts processes in place in order for me to try to reduce it. Maybe I'm always going, you know, from one item to another item as much as that. That transition between those two items is quite large, I think, and I need to change my planning to it. Except for costs, thinking about labor costs, publishing machine costs, scrap costs, etc. You know, having that accurate cost information can help the business, obviously, about the value of having accurate costs. You can then have access to accurate, accurate, and precise of your end item. So you know that you're making margin that you expect to make or profit that you're wanting to make. Increasing machine cut time. You know, about machine up funds, you know, one of the most key elements of most paying back machines, and how they be utilized, I'd say, you know, give examples of fine examples of different companies that you go out to where they think, I need a new machine, and then realize that they've used the analysis about their machine utilization. They're not utilizing your machines for the post-compact, so they don't really need a new machine. They just make sure that that machine is public running as much as time as possible throughout the day. Think about reducing waste. There's a lot of waste with these batches, not say free, there's probably going on a lean journey at 140, but there's another, or still going on a lean journey. Today we're just saying I want to reduce waste, which is one of the things. Right? Identify those eight or nine different types of waste, and eliminate them or reduce them in my business. We think about, you know, qualities of the type of waste. We just talked about that machine up time or down time. That's a way. That's a way. We talked about operator utilization. We talked about productivity as far as how might we be? Sorry, producing items to a new fashioner. We talked about it efficiency. Efficiency is looking at the amount of pieces completed, good compared to the amount of pieces that were completed, poorly or scrap pieces. Those are all forms of information that can be collected through an NES system, as well as communicated through that NES system to other areas, which allows it to then further dive into what I have, and it can be so many amount of quality issues on my shop floor, and how I need to actually reduce those. The better managing inventory, tools in any NES system, in fact, probably one of those core functions that should be added out there, as far as inventory. You know, inventory is a big dollar value in fashion companies, and being able to manage that correctly, not only gives you a ability to reduce overall cost, but also plenty to think about today's world, and the supply chain that we're kind of living in, where we're hoarding something on Amazon today, and it's not an immersive, small, new, vast new expectation that's going to be in driven throughout the world today, is being able to manage those inventory, so we have the right material on hand today, to manufacture the goods that you need to make, that should be so that you can make non-time deliverables. Those are all played apart, but also you don't want to just increase your inventory on hand quality, so much that there's always there, meaning that the inventory is more cost, within your choice. You obviously want to try to improve that supply chain. Some additional benefits of MES, reducing psychotimes is obviously eliminating that data entry, which would cost, let's just go through each one of these one more detail. You think about manufacturing type of times, that is one of the time it takes for manufacturing. If you have real-time information, or how long it took to manufacture something, it's down time that will the process hide a blank, and it will be completed at one operation, where we've done, and then we've been starting the next operation, around it, so $2 or $2.00, and $2.00 is later, that can obviously be used to do these really good insights, as far as how to reduce your overall psychotire. Eliminate data entry, and reduce data entry. Data entry is a necessary evil right? We want to get that information in, but data entry could come as multiple facets. You need to be as simple as scanning a barcode on a item, and that could be your data entry, versus actually trying to type in the item number, the machine fashion order, the operation, might play the idea in everything else. So you have to enter information, and you have to capture some how. So the data entry is a necessary evil, that's well for information to populate in MDS, as well as your overall business. But let's reduce and eliminate, make it simple. You think about data entry, it's not only from human perspective, but actually scanning something, or entering something, you have keyboard. It also can be something coming from a machine. So I could have a POC or a sensor on a machine, that would actually give you the data entry form. Think about reducing overall work and process, right? We can recover the success of the input already. But work and process is the amount of items you have out there. And again, I'm waiting on your happens to be an operation, with my productivity efficiency on each one of those. Reducing paperwork, today's world, right? The link to electronics, we're getting our bank statements, the other statements, those, and everything else, electronics, let's reduce paper on the shop floor. I just reduce it from a cost perspective. So this does have a cost perspective to print out that paper, and manage that paper, and just to use it, this to do that paper on the house. And I'm working on the shop floor, that is updating that working on the wrong revision for that engineered item. I'm working on the wrong job. I have a tool that I was supposed to use, if it's not there. So that paper, we reduce it now, and get put it into the online form. Everything is real time. The engineer changes that revision of that item. Everybody knows about it. I have a visual instruction, a testing instruction, and everybody knows about it today. There is value in the process of reducing paper, just besides the cost of printing. Reducing lead time. Again, back to the cycle time. The cycle time to lead time. Kind of go together, right? How much time is it? Do I need head up to make back to something, or purchase something from my bank account? It includes product quality. It's about MES, testing things to help manufacturing process at point, where it actually needs to be tested. Your quality needle will increase, rather than just testing it at the end, and height up, or when the finished items is completed. And this cannot only just be for the manufacturing and perfect cost, we for your purchase item. Then taking that information and having metrics across, saying, you know, this is the number one deep fact that I've receded, or this is the number one work sector that is producing the errors for non-conformances out there on my shop floor. You know, that goes a long way to improving quality, but also reducing your cost and improving your on-time delivery. It remains lost paperwork. Kind of goes in the hand with the use of paper, but I think if I use paperwork, what do I do? If I have to be printed, I just distributed out to the shop floor, nobody knows what to work on, and a lot of waste and stuff. In powerings, the people are before to do the things that they know and they need to do. This is a real critical. It's kind of that the point of entering, right? I want to empower those people to tell me what their actually currently work and tell me what they've done. Communicate them to actually look at information regarding what is in front of them to pay the fraction. It really empowers them to actually take ownership of the cast in front of them, which is obviously to improve your entire company. I'm pretty defining process, and they're obviously improving your entire company. You think about a finding process, right? Your finding based on what do you know today. So the sooner you know it, as well as the more accurate information that you have, the better your plan will become. It's about when I'm actually wanting to purchase items or made a fraction of process out there and I'm assuming items at the time we've finished items reporting complete, I do not know my true on-hand inventory until that item is reporting complete. So now if you're running your finding engine, it's going to think you have more material on hand than what you really do have on it. Likewise, if you do the other spectrum, I actually assume we're going to leave all inventory when the order's released up front. It's going to look like you don't have the inventory so your finding engine's obviously a little bit of sale, I do define it. So the accurate information and real-time information for not only what is available for raw material and stuff of assemble items as well as finished goods, but also the steps of the manufacturing process basically greatly improved the whole plan. And then just as a summary, obviously the company as a whole is approved by knowing this information real-time, more importantly, the company. Let's take a look now at Paypalers here. How does Paypalers accomplish a lot of the benefits and functions that we just talked about, right? And in the Paypalers world, let's take a look back, maybe just communicating information out to the shop floor. Where I've got, you know, my orders out there, where I've got my entire box of the material, all my routing, all my attachments for a work area or for a job. I can use my other dieset, look at, you know, these drawings or I can look at pictures of what you need. Or you can even insert a video for what is manufacturing or how to assemble something, what materials to use, how to set up a machine. It's pretty much endless as far as the information that you can communicate out to the shop floor, so that when they're recording stuff, they're actually recording against the perspective that is so processed and proven out there in the shop floor as print is really improved. Next thing, let's look at it and just work in processing stuff out there in the shop floor. And you have a lot of different activities and events that can happen. You know, and again, make it simple to talk about the eliminated paper. We also talking about using keystrokes for data entry, right? The use of that data entry footprint. And look at the jobs that are scheduled with my work center actually on a lot of different actions against any one of those jobs. Inactions can be anywhere from consuming the raw material that goes into that order, can be actually consuming the raw material that is consumed at that step in the main fashion process. It also produces a dispatch list to say what should be worked on and in what order it should be worked on, giving you indicators of whether it's going well or is it going poorly, ready to bring indicators or a healthy area of application to get giving that real time visibility into accurate information out there in the shop floor. There's a ton of different action buttons that can be taken from a labor perspective of material perspective, quality perspective, conbound inventory management, transferring material from location to location, lots of alerts and notifications can be sent in as well to say that I'm actually ahead of schedule on the behind schedule. I'm looking at parts that don't have the parts available. Things I covered before, but just to accentuate them here a little bit, you think about all the recording, you know, the quantity of the labor, the people who worked on it, the quality test that was important. All those pieces are things that you would enter in through, you know, this is just one version of the paper that is being used to share the information for what you worked on, but also implementation for what was actually accomplished out there in the shop floor. Tons of, you know, different benefits here from the supervising, share, plant manager, you know, customer service, fails, whoever you can actually access 30 to go and look at activity out there in the shop floor. We have the touchscreen kind of UI for these operators, or that uses that way with a scanner. You also have a browser navigation from a supervisor, the manager's level, where they can actually go in and look at manufacturing order information and look at real time statuses for how long I am against any given manufacturing order. Drill into the details and look at all the operations and see the statuses and progress within each operation. They drill into different phillomotorials to say what is available, what is consumed, what's required for this order as well as this operations done. Many different inquiries into information within papers can be insight into how your manufacturing process is going on during the shop floor. Looking at different types of conva, obviously, you know, red green and yellow, it speaks volumes for anybody on floor, red dots, you have a critical world or a bad state degree is a good thing. You'd love it for everything to be green, but we all know that any grain fashion or so you have the red spot. And that's fine. It's just how fast can you react to that? I'm looking at a inventory situation where item number one thousand is actually in jeopardy of starging a work area of material. So that's what we want to react to those things quickly. You know, anything that is red or yellow is going to be able to react to it right now so that you can keep your machines, your people working on the job that they can do as well as ultimately completing that item effective data so you ship the delivery to your customer on time. So all these things that we're talking about, play up in today overall, quick effectiveness, your on-time delivery, your overall cost of your item that manufacturing execution is because youścią it with knowledge real time right now to correct them and and so on. Now the example is just like looking at maybe things that may pop up. There's a lot of different analyzers and charts out there from material. I feel that into one of the items that was controlled to a convent methodology and realizing that I have evolved through my first two containers quite pretty little but I never resolved through my second two containers. Just indicator to maybe the material manager saying that you know what, we've improved our supply chain or maybe our demand has gone down that we've never get to those last two containers. So that may be okay because if the container is back I want to keep on hand or maybe that's the sign that I'm carrying more in the inventory than what I really need to carry and I can start to reduce the inventory arginum right now to obviously keep my bottom range. I was recently in Illinois for a visiting customer and one of their drivers for 2020 was to reduce inventory by two million dollars. Now you think about that right, obviously two million dollars that means they have you know done some analysis internally that says we have more than two million dollars of extra inventory on how can we be capable to think about what that does for your bottom line. It's just incredible right. So we're using tools like an MESH to help them identify that they have excess amount of inventory but then further drilling into saying what items are specifically targeted to say let's reduce the rest again those could be any type of items. It could be the purchase items, it could be your components, it could be your sub-subbell items things you make back and you want to keep on the shelf or further items down the line. It could be your on hand, finished goods and combination that helps you drill into figure out which items are actually tearing more of them and drive that cost down. There's a lot of difference alerts and revocations and think about how do you do these things right. How do I think it's the way I've shown you the red is really yellow that's great if somebody is looking on the screen. If somebody is not looking on the screen I'd like to be able to send a message for that fashion that says hey we have a critical situation there's a notification on works there one two three but this job is running behind schedule lower than expected run rate it's not going to be completed based on expected duty. That's just one type of load and a notification I could have another one for material that I do not have material in stock or in the location and expecting it by the time I need it so I need to notify somebody that material is not here in this different location so that's good for the job you see work done and helping you reduce a lot of those waste that are in the manufacturing process with wait time set up time you have material, machines, employees etc. There's different types of dashboards and things of that that can be presented inside of papers as well and about a good monitor above a worker that says this is the job you're working on this work center you've been running it for an hour and nine minutes I've expected three pieces but no pieces have actually been recorded that the obviously shows crack there as well but just come I mean what that comes to the supervisor or as well as well to the operator as they're looking at that monitor above their workers saying you know what I should have to do the two pieces by now I haven't really seen it yet so almost a self-managing type of tool that they're going to obviously go get the help that they need in order to you know the machine back up and running the material they need etc but it also can be communicated to you know other different types of dashboards out there as well that will kind of show you multiple pieces of information obviously with expected versus actual downtime with the zoning machines that are currently down and how long these are down you can throw up a historical chart of the downtime across a number of the core centers just to give you that visibility into what is happening out there on the shop floor and these dashboards can be on big monitors out there on the shop floor above workers they could be on supervisors desk they could be on managers desk you know it doesn't matter where they are they are used to communicate real time events out there on the shop floor and also give you some little peek to where your problems are as well as a stroke of how well you can do another example of dashboards is just there are many different types of charts you know you could have the job with the system down and runtime completion OEE which is overall good and effective instrument have the different values within OEE like availability or productivity or quality because those are the figures or values that really make up those values so you know your quality is really taken as they get that's something you need to address today that's not a lot of cost that gets you currently have quality issues if you're available to use one of them you know maybe a bad number that's not maybe as important as you don't have the demand or you know that machine is down for stuff of maintenance etc so there's a lot of different reasons to guide into the details of the food but again you can have these different dashboards so a lot of different information out there to help you manage your shop floor better think about why you started this webinar a lunch here is to understand what an MES solution is right how does it play with my business and what benefits do you get out of it there has to be a benefit otherwise you use see here the benefits are very large you get so many benefits that come from every aspect of manufacturing whether it's scheduling jobs whether it's communicating what to work on a job whether it's reporting the information in a very simple fashion whether it is actually you know getting alerts and notifications or indicators that I have problems out there shop floor that's huge benefit because you can react to them today so tomorrow's production of bad news and waiting for a week or waiting for customer gets your product times up as quality so there's a lot of benefits that could go into an MES solution there's a lot of reasons that every manufacturing company should invoke turn on parts of an angle so you don't have to turn on everything you can turn on just different parts you want to be focused on quality and see turn on quality pieces of your focus I may be getting more accurate rates and cost in each of your turn on pieces of the application to give you better values for how much it costs and how long it takes to manufacture so think about an MES system as a bunch of different tools functions that you can turn on to improve your overall business that's it for this presentation open it up for any questions and I'll read my chat box here see if there's any questions if you want you can just put those in the questions area I'll give it a minute or two as always you can you know submit your questions to people as well you go to our website at www.pipelic.com or information systems engineering which is www.iinc.hearpe.com all right thank you very much everyone for attending we will put this broadcast out on our website so if you want to download it and view it at a later time or send it off to me so you're co-workers that's fine as well have a great day\n"
          ]
        }
      ]
    },
    {
      "cell_type": "markdown",
      "source": [
        "For audio chunks"
      ],
      "metadata": {
        "id": "BCKGwuU8UqL_"
      }
    },
    {
      "cell_type": "code",
      "source": [
        "# Transcribe each chunk\n",
        "transcribed_chunks = []\n",
        "for chunk_path in chunk_paths:\n",
        "    result = model.transcribe(chunk_path)\n",
        "    transcribed_chunks.append(result[\"text\"])\n",
        "\n",
        "# Combine transcribed text\n",
        "final_transcribed_text = \" \".join(transcribed_chunks)\n",
        "print(\"Final Transcribed Text:\\n\", final_transcribed_text)\n"
      ],
      "metadata": {
        "colab": {
          "base_uri": "https://localhost:8080/"
        },
        "collapsed": true,
        "id": "pFKizyAcUj-M",
        "outputId": "08ca4e32-5be8-428f-a937-93f513787ed6"
      },
      "execution_count": null,
      "outputs": [
        {
          "output_type": "stream",
          "name": "stderr",
          "text": [
            "/usr/local/lib/python3.10/dist-packages/whisper/transcribe.py:126: UserWarning: FP16 is not supported on CPU; using FP32 instead\n",
            "  warnings.warn(\"FP16 is not supported on CPU; using FP32 instead\")\n",
            "/usr/local/lib/python3.10/dist-packages/whisper/transcribe.py:126: UserWarning: FP16 is not supported on CPU; using FP32 instead\n",
            "  warnings.warn(\"FP16 is not supported on CPU; using FP32 instead\")\n",
            "/usr/local/lib/python3.10/dist-packages/whisper/transcribe.py:126: UserWarning: FP16 is not supported on CPU; using FP32 instead\n",
            "  warnings.warn(\"FP16 is not supported on CPU; using FP32 instead\")\n",
            "/usr/local/lib/python3.10/dist-packages/whisper/transcribe.py:126: UserWarning: FP16 is not supported on CPU; using FP32 instead\n",
            "  warnings.warn(\"FP16 is not supported on CPU; using FP32 instead\")\n",
            "/usr/local/lib/python3.10/dist-packages/whisper/transcribe.py:126: UserWarning: FP16 is not supported on CPU; using FP32 instead\n",
            "  warnings.warn(\"FP16 is not supported on CPU; using FP32 instead\")\n",
            "/usr/local/lib/python3.10/dist-packages/whisper/transcribe.py:126: UserWarning: FP16 is not supported on CPU; using FP32 instead\n",
            "  warnings.warn(\"FP16 is not supported on CPU; using FP32 instead\")\n",
            "/usr/local/lib/python3.10/dist-packages/whisper/transcribe.py:126: UserWarning: FP16 is not supported on CPU; using FP32 instead\n",
            "  warnings.warn(\"FP16 is not supported on CPU; using FP32 instead\")\n",
            "/usr/local/lib/python3.10/dist-packages/whisper/transcribe.py:126: UserWarning: FP16 is not supported on CPU; using FP32 instead\n",
            "  warnings.warn(\"FP16 is not supported on CPU; using FP32 instead\")\n",
            "/usr/local/lib/python3.10/dist-packages/whisper/transcribe.py:126: UserWarning: FP16 is not supported on CPU; using FP32 instead\n",
            "  warnings.warn(\"FP16 is not supported on CPU; using FP32 instead\")\n",
            "/usr/local/lib/python3.10/dist-packages/whisper/transcribe.py:126: UserWarning: FP16 is not supported on CPU; using FP32 instead\n",
            "  warnings.warn(\"FP16 is not supported on CPU; using FP32 instead\")\n",
            "/usr/local/lib/python3.10/dist-packages/whisper/transcribe.py:126: UserWarning: FP16 is not supported on CPU; using FP32 instead\n",
            "  warnings.warn(\"FP16 is not supported on CPU; using FP32 instead\")\n",
            "/usr/local/lib/python3.10/dist-packages/whisper/transcribe.py:126: UserWarning: FP16 is not supported on CPU; using FP32 instead\n",
            "  warnings.warn(\"FP16 is not supported on CPU; using FP32 instead\")\n",
            "/usr/local/lib/python3.10/dist-packages/whisper/transcribe.py:126: UserWarning: FP16 is not supported on CPU; using FP32 instead\n",
            "  warnings.warn(\"FP16 is not supported on CPU; using FP32 instead\")\n",
            "/usr/local/lib/python3.10/dist-packages/whisper/transcribe.py:126: UserWarning: FP16 is not supported on CPU; using FP32 instead\n",
            "  warnings.warn(\"FP16 is not supported on CPU; using FP32 instead\")\n",
            "/usr/local/lib/python3.10/dist-packages/whisper/transcribe.py:126: UserWarning: FP16 is not supported on CPU; using FP32 instead\n",
            "  warnings.warn(\"FP16 is not supported on CPU; using FP32 instead\")\n",
            "/usr/local/lib/python3.10/dist-packages/whisper/transcribe.py:126: UserWarning: FP16 is not supported on CPU; using FP32 instead\n",
            "  warnings.warn(\"FP16 is not supported on CPU; using FP32 instead\")\n",
            "/usr/local/lib/python3.10/dist-packages/whisper/transcribe.py:126: UserWarning: FP16 is not supported on CPU; using FP32 instead\n",
            "  warnings.warn(\"FP16 is not supported on CPU; using FP32 instead\")\n",
            "/usr/local/lib/python3.10/dist-packages/whisper/transcribe.py:126: UserWarning: FP16 is not supported on CPU; using FP32 instead\n",
            "  warnings.warn(\"FP16 is not supported on CPU; using FP32 instead\")\n",
            "/usr/local/lib/python3.10/dist-packages/whisper/transcribe.py:126: UserWarning: FP16 is not supported on CPU; using FP32 instead\n",
            "  warnings.warn(\"FP16 is not supported on CPU; using FP32 instead\")\n",
            "/usr/local/lib/python3.10/dist-packages/whisper/transcribe.py:126: UserWarning: FP16 is not supported on CPU; using FP32 instead\n",
            "  warnings.warn(\"FP16 is not supported on CPU; using FP32 instead\")\n",
            "/usr/local/lib/python3.10/dist-packages/whisper/transcribe.py:126: UserWarning: FP16 is not supported on CPU; using FP32 instead\n",
            "  warnings.warn(\"FP16 is not supported on CPU; using FP32 instead\")\n",
            "/usr/local/lib/python3.10/dist-packages/whisper/transcribe.py:126: UserWarning: FP16 is not supported on CPU; using FP32 instead\n",
            "  warnings.warn(\"FP16 is not supported on CPU; using FP32 instead\")\n",
            "/usr/local/lib/python3.10/dist-packages/whisper/transcribe.py:126: UserWarning: FP16 is not supported on CPU; using FP32 instead\n",
            "  warnings.warn(\"FP16 is not supported on CPU; using FP32 instead\")\n",
            "/usr/local/lib/python3.10/dist-packages/whisper/transcribe.py:126: UserWarning: FP16 is not supported on CPU; using FP32 instead\n",
            "  warnings.warn(\"FP16 is not supported on CPU; using FP32 instead\")\n",
            "/usr/local/lib/python3.10/dist-packages/whisper/transcribe.py:126: UserWarning: FP16 is not supported on CPU; using FP32 instead\n",
            "  warnings.warn(\"FP16 is not supported on CPU; using FP32 instead\")\n",
            "/usr/local/lib/python3.10/dist-packages/whisper/transcribe.py:126: UserWarning: FP16 is not supported on CPU; using FP32 instead\n",
            "  warnings.warn(\"FP16 is not supported on CPU; using FP32 instead\")\n",
            "/usr/local/lib/python3.10/dist-packages/whisper/transcribe.py:126: UserWarning: FP16 is not supported on CPU; using FP32 instead\n",
            "  warnings.warn(\"FP16 is not supported on CPU; using FP32 instead\")\n",
            "/usr/local/lib/python3.10/dist-packages/whisper/transcribe.py:126: UserWarning: FP16 is not supported on CPU; using FP32 instead\n",
            "  warnings.warn(\"FP16 is not supported on CPU; using FP32 instead\")\n",
            "/usr/local/lib/python3.10/dist-packages/whisper/transcribe.py:126: UserWarning: FP16 is not supported on CPU; using FP32 instead\n",
            "  warnings.warn(\"FP16 is not supported on CPU; using FP32 instead\")\n",
            "/usr/local/lib/python3.10/dist-packages/whisper/transcribe.py:126: UserWarning: FP16 is not supported on CPU; using FP32 instead\n",
            "  warnings.warn(\"FP16 is not supported on CPU; using FP32 instead\")\n",
            "/usr/local/lib/python3.10/dist-packages/whisper/transcribe.py:126: UserWarning: FP16 is not supported on CPU; using FP32 instead\n",
            "  warnings.warn(\"FP16 is not supported on CPU; using FP32 instead\")\n",
            "/usr/local/lib/python3.10/dist-packages/whisper/transcribe.py:126: UserWarning: FP16 is not supported on CPU; using FP32 instead\n",
            "  warnings.warn(\"FP16 is not supported on CPU; using FP32 instead\")\n",
            "/usr/local/lib/python3.10/dist-packages/whisper/transcribe.py:126: UserWarning: FP16 is not supported on CPU; using FP32 instead\n",
            "  warnings.warn(\"FP16 is not supported on CPU; using FP32 instead\")\n",
            "/usr/local/lib/python3.10/dist-packages/whisper/transcribe.py:126: UserWarning: FP16 is not supported on CPU; using FP32 instead\n",
            "  warnings.warn(\"FP16 is not supported on CPU; using FP32 instead\")\n",
            "/usr/local/lib/python3.10/dist-packages/whisper/transcribe.py:126: UserWarning: FP16 is not supported on CPU; using FP32 instead\n",
            "  warnings.warn(\"FP16 is not supported on CPU; using FP32 instead\")\n",
            "/usr/local/lib/python3.10/dist-packages/whisper/transcribe.py:126: UserWarning: FP16 is not supported on CPU; using FP32 instead\n",
            "  warnings.warn(\"FP16 is not supported on CPU; using FP32 instead\")\n",
            "/usr/local/lib/python3.10/dist-packages/whisper/transcribe.py:126: UserWarning: FP16 is not supported on CPU; using FP32 instead\n",
            "  warnings.warn(\"FP16 is not supported on CPU; using FP32 instead\")\n",
            "/usr/local/lib/python3.10/dist-packages/whisper/transcribe.py:126: UserWarning: FP16 is not supported on CPU; using FP32 instead\n",
            "  warnings.warn(\"FP16 is not supported on CPU; using FP32 instead\")\n",
            "/usr/local/lib/python3.10/dist-packages/whisper/transcribe.py:126: UserWarning: FP16 is not supported on CPU; using FP32 instead\n",
            "  warnings.warn(\"FP16 is not supported on CPU; using FP32 instead\")\n",
            "/usr/local/lib/python3.10/dist-packages/whisper/transcribe.py:126: UserWarning: FP16 is not supported on CPU; using FP32 instead\n",
            "  warnings.warn(\"FP16 is not supported on CPU; using FP32 instead\")\n",
            "/usr/local/lib/python3.10/dist-packages/whisper/transcribe.py:126: UserWarning: FP16 is not supported on CPU; using FP32 instead\n",
            "  warnings.warn(\"FP16 is not supported on CPU; using FP32 instead\")\n",
            "/usr/local/lib/python3.10/dist-packages/whisper/transcribe.py:126: UserWarning: FP16 is not supported on CPU; using FP32 instead\n",
            "  warnings.warn(\"FP16 is not supported on CPU; using FP32 instead\")\n",
            "/usr/local/lib/python3.10/dist-packages/whisper/transcribe.py:126: UserWarning: FP16 is not supported on CPU; using FP32 instead\n",
            "  warnings.warn(\"FP16 is not supported on CPU; using FP32 instead\")\n",
            "/usr/local/lib/python3.10/dist-packages/whisper/transcribe.py:126: UserWarning: FP16 is not supported on CPU; using FP32 instead\n",
            "  warnings.warn(\"FP16 is not supported on CPU; using FP32 instead\")\n",
            "/usr/local/lib/python3.10/dist-packages/whisper/transcribe.py:126: UserWarning: FP16 is not supported on CPU; using FP32 instead\n",
            "  warnings.warn(\"FP16 is not supported on CPU; using FP32 instead\")\n",
            "/usr/local/lib/python3.10/dist-packages/whisper/transcribe.py:126: UserWarning: FP16 is not supported on CPU; using FP32 instead\n",
            "  warnings.warn(\"FP16 is not supported on CPU; using FP32 instead\")\n",
            "/usr/local/lib/python3.10/dist-packages/whisper/transcribe.py:126: UserWarning: FP16 is not supported on CPU; using FP32 instead\n",
            "  warnings.warn(\"FP16 is not supported on CPU; using FP32 instead\")\n",
            "/usr/local/lib/python3.10/dist-packages/whisper/transcribe.py:126: UserWarning: FP16 is not supported on CPU; using FP32 instead\n",
            "  warnings.warn(\"FP16 is not supported on CPU; using FP32 instead\")\n",
            "/usr/local/lib/python3.10/dist-packages/whisper/transcribe.py:126: UserWarning: FP16 is not supported on CPU; using FP32 instead\n",
            "  warnings.warn(\"FP16 is not supported on CPU; using FP32 instead\")\n",
            "/usr/local/lib/python3.10/dist-packages/whisper/transcribe.py:126: UserWarning: FP16 is not supported on CPU; using FP32 instead\n",
            "  warnings.warn(\"FP16 is not supported on CPU; using FP32 instead\")\n",
            "/usr/local/lib/python3.10/dist-packages/whisper/transcribe.py:126: UserWarning: FP16 is not supported on CPU; using FP32 instead\n",
            "  warnings.warn(\"FP16 is not supported on CPU; using FP32 instead\")\n",
            "/usr/local/lib/python3.10/dist-packages/whisper/transcribe.py:126: UserWarning: FP16 is not supported on CPU; using FP32 instead\n",
            "  warnings.warn(\"FP16 is not supported on CPU; using FP32 instead\")\n",
            "/usr/local/lib/python3.10/dist-packages/whisper/transcribe.py:126: UserWarning: FP16 is not supported on CPU; using FP32 instead\n",
            "  warnings.warn(\"FP16 is not supported on CPU; using FP32 instead\")\n",
            "/usr/local/lib/python3.10/dist-packages/whisper/transcribe.py:126: UserWarning: FP16 is not supported on CPU; using FP32 instead\n",
            "  warnings.warn(\"FP16 is not supported on CPU; using FP32 instead\")\n",
            "/usr/local/lib/python3.10/dist-packages/whisper/transcribe.py:126: UserWarning: FP16 is not supported on CPU; using FP32 instead\n",
            "  warnings.warn(\"FP16 is not supported on CPU; using FP32 instead\")\n",
            "/usr/local/lib/python3.10/dist-packages/whisper/transcribe.py:126: UserWarning: FP16 is not supported on CPU; using FP32 instead\n",
            "  warnings.warn(\"FP16 is not supported on CPU; using FP32 instead\")\n",
            "/usr/local/lib/python3.10/dist-packages/whisper/transcribe.py:126: UserWarning: FP16 is not supported on CPU; using FP32 instead\n",
            "  warnings.warn(\"FP16 is not supported on CPU; using FP32 instead\")\n",
            "/usr/local/lib/python3.10/dist-packages/whisper/transcribe.py:126: UserWarning: FP16 is not supported on CPU; using FP32 instead\n",
            "  warnings.warn(\"FP16 is not supported on CPU; using FP32 instead\")\n",
            "/usr/local/lib/python3.10/dist-packages/whisper/transcribe.py:126: UserWarning: FP16 is not supported on CPU; using FP32 instead\n",
            "  warnings.warn(\"FP16 is not supported on CPU; using FP32 instead\")\n",
            "/usr/local/lib/python3.10/dist-packages/whisper/transcribe.py:126: UserWarning: FP16 is not supported on CPU; using FP32 instead\n",
            "  warnings.warn(\"FP16 is not supported on CPU; using FP32 instead\")\n",
            "/usr/local/lib/python3.10/dist-packages/whisper/transcribe.py:126: UserWarning: FP16 is not supported on CPU; using FP32 instead\n",
            "  warnings.warn(\"FP16 is not supported on CPU; using FP32 instead\")\n",
            "/usr/local/lib/python3.10/dist-packages/whisper/transcribe.py:126: UserWarning: FP16 is not supported on CPU; using FP32 instead\n",
            "  warnings.warn(\"FP16 is not supported on CPU; using FP32 instead\")\n",
            "/usr/local/lib/python3.10/dist-packages/whisper/transcribe.py:126: UserWarning: FP16 is not supported on CPU; using FP32 instead\n",
            "  warnings.warn(\"FP16 is not supported on CPU; using FP32 instead\")\n",
            "/usr/local/lib/python3.10/dist-packages/whisper/transcribe.py:126: UserWarning: FP16 is not supported on CPU; using FP32 instead\n",
            "  warnings.warn(\"FP16 is not supported on CPU; using FP32 instead\")\n",
            "/usr/local/lib/python3.10/dist-packages/whisper/transcribe.py:126: UserWarning: FP16 is not supported on CPU; using FP32 instead\n",
            "  warnings.warn(\"FP16 is not supported on CPU; using FP32 instead\")\n",
            "/usr/local/lib/python3.10/dist-packages/whisper/transcribe.py:126: UserWarning: FP16 is not supported on CPU; using FP32 instead\n",
            "  warnings.warn(\"FP16 is not supported on CPU; using FP32 instead\")\n",
            "/usr/local/lib/python3.10/dist-packages/whisper/transcribe.py:126: UserWarning: FP16 is not supported on CPU; using FP32 instead\n",
            "  warnings.warn(\"FP16 is not supported on CPU; using FP32 instead\")\n",
            "/usr/local/lib/python3.10/dist-packages/whisper/transcribe.py:126: UserWarning: FP16 is not supported on CPU; using FP32 instead\n",
            "  warnings.warn(\"FP16 is not supported on CPU; using FP32 instead\")\n",
            "/usr/local/lib/python3.10/dist-packages/whisper/transcribe.py:126: UserWarning: FP16 is not supported on CPU; using FP32 instead\n",
            "  warnings.warn(\"FP16 is not supported on CPU; using FP32 instead\")\n",
            "/usr/local/lib/python3.10/dist-packages/whisper/transcribe.py:126: UserWarning: FP16 is not supported on CPU; using FP32 instead\n",
            "  warnings.warn(\"FP16 is not supported on CPU; using FP32 instead\")\n",
            "/usr/local/lib/python3.10/dist-packages/whisper/transcribe.py:126: UserWarning: FP16 is not supported on CPU; using FP32 instead\n",
            "  warnings.warn(\"FP16 is not supported on CPU; using FP32 instead\")\n",
            "/usr/local/lib/python3.10/dist-packages/whisper/transcribe.py:126: UserWarning: FP16 is not supported on CPU; using FP32 instead\n",
            "  warnings.warn(\"FP16 is not supported on CPU; using FP32 instead\")\n",
            "/usr/local/lib/python3.10/dist-packages/whisper/transcribe.py:126: UserWarning: FP16 is not supported on CPU; using FP32 instead\n",
            "  warnings.warn(\"FP16 is not supported on CPU; using FP32 instead\")\n",
            "/usr/local/lib/python3.10/dist-packages/whisper/transcribe.py:126: UserWarning: FP16 is not supported on CPU; using FP32 instead\n",
            "  warnings.warn(\"FP16 is not supported on CPU; using FP32 instead\")\n",
            "/usr/local/lib/python3.10/dist-packages/whisper/transcribe.py:126: UserWarning: FP16 is not supported on CPU; using FP32 instead\n",
            "  warnings.warn(\"FP16 is not supported on CPU; using FP32 instead\")\n",
            "/usr/local/lib/python3.10/dist-packages/whisper/transcribe.py:126: UserWarning: FP16 is not supported on CPU; using FP32 instead\n",
            "  warnings.warn(\"FP16 is not supported on CPU; using FP32 instead\")\n",
            "/usr/local/lib/python3.10/dist-packages/whisper/transcribe.py:126: UserWarning: FP16 is not supported on CPU; using FP32 instead\n",
            "  warnings.warn(\"FP16 is not supported on CPU; using FP32 instead\")\n"
          ]
        },
        {
          "output_type": "stream",
          "name": "stdout",
          "text": [
            "Final Transcribed Text:\n",
            "  Good morning or good afternoon everyone and welcome to another paperless lunch and learn webinar. Today's webinar will be discussed in what is the manufacturing execution or otherwise known as MES. We chose this topic today because either the confusion or maybe just understanding but a lot of our interaction with our customers and meet factories in the hospital.  question what is an MES system? Not a lot of people know what an MES system is or can find all the piece of puzzles that go into an MES system. So let's start off with today with a quick definition of what an MES system is. Why is it important to me? How does it play with all the other systems within my business? And what are the advantages and core functions of an MES system? And then people will show you an MES system and how it can actually help.  or accomplish the core functions as well as benefits of NINYES. So getting into it here, we look at a manufacturing execution system. There's really three kind of things it's trying to convey. So connect with monitors, controls, pretty much anything that goes on in the command spectrum from the data perspective, you know, users or machines, etc. And then you think about the main goal of a manufacturing execution system to improve your body.  online to improve your production output out there on the shop wall. We'll look at some like industry standards out there. There's a company out there called hide and seek, which is kind of like GART, which it purposes to go and evaluate systems and give an output of, you know, where does that display is, value system, business, etc. Definition from hide and seek for one of the main fetch executions, comes with three components. It's a top down version.  which is really just ERP-centric. It focuses on your ERP data and the needs of ERP that's pretty much one direction. Then the second category that we put in the essence is the bottom-up category, which is machine-centric, which is looking at your speeds and speeds of your machines as far as what's going into it, the temperature, how many pieces are being imported, etc. Then third category that applies to MS. It's just inside of...  which is really based on the worker-centric version of NES, which is going to correct visibility for what easily worked on from an ERP perspective, out there on the shop floor, to communicate down and up from the bottom-up version, which is machines, that's really focused on that user and that two-way communication. Capeless NES, that's where it fits in that inside out version. We're really focused on the workers up in the shop floor, they can see...  simple for them to get information for what they should be doing in the factory today, as well as making it simple for them to report all the activities that they're doing throughout the day that other areas of your business take advantage of. Looking at MES, now where does it fit with other systems? How does it play with MES? Right? We have that machine learning down below, which is your SCADA and stuff where they want to wear it, etc. and actually communicate it in machine learning, MES, then in the middle.  with ERP and your business intelligence on top. You think about that, and the essence critical part of your solution is that it communicates both between your upper level business intelligence and ERP as well as your bottom level of your machines out there in the shop for you. Think about it from a more granular details in this expanded little bit further. You need to look at this chart here, and obviously you've got the nine plants on pretty, so everybody knows that. But it also shows, and the ass out here, isalam Sh glossues, sex wall dresses, as they address that booming business administration. It also shows, and the compressed fermented consumables, which show, and the Future, to apply to a graduated range infrastructure. And you recognise that their health is poor. They stated that the agenda of thosealthiness  to show your machine layers, as well as your ear can wear. You can think about the data that's flowing between all these layers and yes, that's where it comes into place. That critical piece in the middle that says, I'm going to communicate down and up the chain, not only to machines, but also to workers out there to shop for all the pertinent information as far as what needs to be packed, but also what has been done so that my other business application could take advantage of that real time after the information to...  make better business decisions. Get into the core function and features of an MES. So think about obviously who, what, when, where, how, right? Those kind of things are all my core functions. You can be broken down, you know what? When do I need to work on something? What am I supposed to do? How am I supposed to manufacture that? Who is actually responsible for this work area, what tools, what people, etc. And then obviously, you know, how do we actually do  kind of expanding this into favorite all the different features or functions of an advanced system. And we've broken down to these categories. We have data collection and obviously acquisition which is just saying I want to know what's going on over the shop floor. I want to collect information for what's paid process, what's being worked on. Operation schedule. Looking at a schedule for what should be made fast to build around the shop floor.  whether that comes from the AP system or how to make source, everybody has a schedule for what should be back around four. And it needs to be broken down into more detailed issues as far as what work here is, are presented with the schedule that that individual is stationed. And that's an important piece because you have to obviously work on the right things at the right time in order to actually increase part on time. This batching production needs. So I need my group per cost.  the form of a finished good, because in the form of a sub-sub-sub-example, you form a raw material. But you're dispatching this production unit out to the shop where, again, in sequence, as well as reporting what was done against each one of those production units. Production tracking in genealogy is just point, an indicator of a track that can be expanded into many different kinds of track movements, as far as where it is in process, if it's track status, if it's a track, if it's a track, if it's a track, if it's a track, if it's a track, if it's a track, if it's a track, if it's a track, if it's a track, if it's a track, if it's a track, if it's a track, if it's a track, if it's a track, if it's a track, if it's a track, if it's a track, if it's a track, if it's a track, if it's a track, if it's a track, if it's a track, if it's a track, if it's a track, if it's a track, if it's a track, if it's a track, if it's a track, if it's a track, if it's a track, if it's a track, if it's a track, if it's a track, if it's a track, if it's a track, if it's a track, if it's a track, if it's a track, if  working on it, track what inventory went into it, what inventory came out of it. You can get down to a very granular level where you're looking at gene-on-genology, which is looking at maybe the backslide information for components that went into an environment that's fashionized and shows up. Or you can even go one left when you're lower, go to the serial number, which is unique identity against these parts that you're paying back to, as well as the parts that you're putting into that serialized end-type. So those things are very, very...  staff and resource management. Obviously you want to know who's in the building, who's scheduled to work at North Fort Center, you know, that are those skills for those workers for change and job, instead of be wanting to understand not only who's here and what's working on, but also how well they're doing. You know, I actually, going ahead or behind schedule on the job that is currently at my work space process management, you do it.  expand process management with management in the business. You can get about how it should talk to you in fact. You want to communicate that obviously with engineers and put together a design of a product in fact, and steps that have to be in fact. That's the process you want to control the management of that process. You'll get a performance analysis. Performance analysis can broken down into, you know, how well is this job performance? Performance analysis can broken down into, you know,  that we actually change whether that's the joy, whether that's the job itself, there's a lot of factors that go into performance analysis. And being able to actually look at the identity details for each one of those areas, how well it's doing, can lead to some huge benefits with an any inspection. Performance analysis. I actually, I talked about that one at the end of the day.  Just the management of maintenance for machines, quality, against a job, against machines, the agency component of a sub-assembly of finished item, and then document using all the supporting information that needs to be communicated to and from the shop floor. Again, think about it as a MES solution. Think about these core culture features. You know, it's not just tracking information about what happened out there on the shop floor.  also retrieving information and also communicating information out there to shop for and all the other business applications. Take a look quickly at a brief workbook. How does you think about planners and engineers on the side there? An engineer with aggers can actually tell you what roadie steps, how does this item get assembled, just to whatever details you want to go down. Planners are seen in places they know what I hear is what I have.  on the schedule. Here's my current portfolio and this could be very automated for format, meaning the software application, because it's the bulk of your planning and maybe you have a planner above that, just to review and tweak that plan that was created by your software application. But all that information then goes into your MES application, right? And then back in turn, there's obviously data and data that's communicated out to the production floor. And you go out to the...  a shift supervisor, which can further tweak that mind if you give it the Indian responsibility to say, you know what? I know based on my information out in the forward this job, you know, run knob because I don't have people, I don't have resources for material for an machine, it was actually running slower, so I hope that I can change things up. Or maybe they're even going more granular level saying that it makes more sense to run and use to job back back if things were as slow as...  are set up setups and we reduce overall setup time if I actually run these two jobs back back. So that's the production information that can be communicated up to shop floor to supervisors. And then the operators on the floor are obviously going to make a faction. So we're going to act to look at the individual tasks that need to be done at the individual work centers. We're going to look at the parts that immediately process as far as how do I assemble something, like back to something. So they're ultimately.  they're going to produce a product. And that product could be a, again, self-assembled item, or it could be finished, I don't know, or it could just be a working process step. And then we get it all on the last little thing here, which is looking at inspection volume. And that's why I look at that working process as a component, if you, or a step-of-the-manufactured process. That means we test it, because you may want to test in process, things rather than just testing the end item  So all this information is from operators and quality inspectors and machines as well. And obviously go back into the NES system as updating what is currently going on on out in shop floor and then to communicate that, not only to communicate that to a NES application, but also to communicate that to all your other business applications. So you're planning engine, you're purchasing engines, what's the pilot's needs  and business are updated based on that information and something you shop for with that information that you have better tool in order to make better business decisions. You didn't even know why is it MES important. You know, in two key factors really are making sure you have accurate and visit real-time information that this holds to everybody. So really giving many factors at real-time, accurate and visual information to everybody and have a scope of what's moving away.  but I want to make sure that that hits home. And that's the important. I mean, if you look at that software systems up there, you'll go and wide-light it, and that's the right. And I just want that just to capture the collect data that is maybe used or not used. If I've not used, then why collect it? But you really want to use this MES information to further improve your business. And once the machine down, how much scrap have I had, what quality is just that? And running for schedule, set up.  Died in a little deeper here. And I'll think about MES and how it happenizes the production of them for. It's really helping production before by having everybody up to date with that real-time information. It's current conditions. Obviously, you know, key indicators, you know, stack like red, green, and yellow, right? Obviously red means it's a strong green, something's good, yellow means them in the mornings. Those are the correct conditions.  of the shop floor and that's back like can be across many different areas. It's not just for that machine that runs but maybe it's actually an operator or maybe it's actually material. Maybe it's the overall order for the overall end-line. MES can also be used to help reduce set-up times. You think about capturing information out there in the shop road. Without an NES system, you have no idea how much set-up time is actually being accumulated for given items. Here's where you can...  capture them, and then once it's captured, you can monitor or do some analysis over that information to figure how much set of time is being reported or individual jobs, individual work sections or individual employees as well. So you can then look at how much time it's being set up to say, you know, this seems to be a little bit out of whack, I actually puts processes in place in order for me to try to reduce it. Maybe I'm always going, you know, to one item to another item.  and that transition between those two items is quite large, I think, that he did change my planning to it. That's your cost. I'm thinking about labor costs, publishing machine costs, scrap costs, etc. Having that accurate cost information can help the business obviously about the value of having an accurate cost. You can then have access to accurate costs of your end item.  So you know that you're making margin that you expect to make for the profit that you're wanting to make. Increasing machine cup pack. When you're about machine up, then, you know, one of the most key elements of most famous actions are the machines and how they be utilized. I'd say, you know, give examples of fine examples of different companies that you go out to where they think, yeah, I need a new machine and then realize that the new's announces about the machine you want.  They're not utilizing machines for the post-concoming. So they don't really need a new machine. They just make sure that that machine is public running as much as time as possible throughout the day. Think about reducing waste. There's a lot of waste with these batches. And I'm saying pretty, there's probably gone on a lean journey at 140 for another or still going on a lean journey. Today, we're just saying I want to reduce waste, which is one of the things.  different types of waste and get eliminated or reduced by the my business. We think about it, you know, qualities of the time of waste. We just talked about that on a machine uptime or down thing. That's a way. That's a way to talk about operator utilization. Talk about productivity as far as how might be, sorry, producing items to a new fashioner. Talk about efficiency. Efficiency is looking at the amount of pieces completed good compared to the amount of pieces that work.  completed poorly or scrap pieces. Those are all forms of information that can be collected through an MES system, as well as communicated through that MES to other areas, which allows it to then further dive into what I have, but it can be so many of the quality issues on of my shop floor, and how do I need to actually reduce those? The better managing inventory...  tools in any MES system. In fact, part of one of those core functions that we added out there, as far as inventory. You know, inventory is a big dollar value in fashion companies, and being able to manage that correctly not only gives you the ability to reduce overall cost to visit, but also planning to think about today's world and the supply chain that we're living in, where the order something on Amazon today is not new.  that's the expectation that's going to be in driven throughout the world today, that's being able to manage those individuals so we have the right material on hand today to manufacture the goods that you need to make that should be so that you can meet non-time deliverables. Those are all playing a part, but also you don't want to just increase your inventory on hand-quining so much that there are always there meaning that the inventory is more cost within enjoys. And you obviously want to try to improve that supply chain.  Some additional benefits of MES, reducing psychotimes is obviously eliminating the data entry which would process. Let's just go through each one of these one more detail. Now you think about manufacturing psychotimes, that was in the front of time it takes to manufacture something. If you have real-time information or how long it took to manufacture something, how much downtime that within process I have lent you that has heated up one operation around the set and then you can start working.  Next operation, we're out of set, zone two hours and two days later, back in altitude, it's really good insight as far as how to reduce your overall psychotherapy. Eliminate data entry and reduce data entry. Data entry is a necessary evil, right? We wanna give that information in, but data entry can come in multiple facets. You can be as simple as scanning a barcode, an item that could be your data entry versus actually trying to type in the item number, andしい fashion order of the operation.  in my whole idea and everything else. So you have to enter information, and you have to capture some how. So the data entry is a necessary e-board, yes, you will. For information to populate in MDS as well as you can hold on to all business. But let's reduce and eliminate and make it simple. You think about data entry, it's not only from human perspective, but actually scanning something, or entering something, or keyboard. It also can be something coming from a machine. So I can have it TLC.  sensor on the machine that is actually due to data entry form. Think about reducing overall work and process, right? We can recover this space a little bit already. But work and process is the amount of items you have out there. Again, how much weight time do I have between operation? What's my productivity efficiency on each one of those? Reducing paperwork. Today's world, right? We've been through electronics for getting ours.  statements, other statements, bills, and everything else electronically. Let's reduce paper on the shop floor. No, I just reduce it in the cost perspective. So it does have cost perspective to print out that paper, advantage that paper, and just if you should distribute that paper in the house. But now you think about the other cost of that line. You know, if I have paper work out there in the shop floor, that is locating that working on the wrong revision for that engineered item. I'm working on the wrong job. I have.  that it's supposed to be usable, not there. So that paperwork, you reduce it now, you put it into an online form. Everything is real-time. The engineer changes that, revision of that, everybody knows about it. I have additional instructions, I have to test instructions, or set up instructions or things like that. Everybody knows about it today. So it's value and the process of reducing paper just besides the cost of printing. Reducing lead text.  Again, back to the cycle times and we tend to go together, right? How much time do I need head up to make back to something or purchase something from my vendors? It includes product quality, the thing about MES and product quality. If you're testing things to help the manufacturing process at the point where it actually needs to be tested, your quality immediately will increase rather than just testing it at the time. We can height up or run these three stages.  And this cannot only just be for the manufacturer and property cost, we for your purchase site. And then taking that information and having metrics across to say, this is the number one deep back that I've received or this is the number one work center that is producing the errors which were non conformances out there on my shop floor. That goes a long way to improving quality but also reducing your...  and you're on time delivering. It remains lost paperwork. It kind of goes in the hand with the user paper, but I think if I use paperwork, what do I do? Right, that's what we print in. We just distributed it out to the shop, or nobody knows what's in the work earn. And a lot of waste and stuff. In powerings, the people out in the floor to do the things that they know what they need to do. This is a real critical. It's kind of that the point of entering, right? I want to empower those people to...  tell me what their actually currently working on, tell me what they've done. Communicate them to actually look at information regarding what is in front of them to make a fraction. That really empowers them to actually take ownership of tasks in front of them, which is obviously to improve your entire company. I've produced a planning process, and they're obviously increasing your entire company. You think about a planning process, right? Your planning based on what do you know today? So the sooner you know it as well as...  more accurate information that you have, the better your plan will become. It's about when I'm actually wanting to purchase items by the main faction process out there and I'm assuming items at the time we finished items reported completely, I do not know my true on-hand inventory until that item is reported completely. So now if you run into finding engine, it's going to think you have more material on hand than what you really do have on it. And likewise if you do the other spectrum, I actually see...  or relieve all indian dirt when the order is released up front, it's going to look like you don't have to trace your money engines out of your spare time to get behind. So the accurate information and real time information for not only what is available for raw material and stuff of assemble items as well as finished goods, but also the steps and manufacturing process basically greatly improved the whole money back. And then just as a summary obviously the company as  a hole is approved by knowing this information real time, more importantly having the accurate. Let's take a look now at Paglus here. How does Paglus accomplish a lot of the benefits and functions that we just talked about, right? In the Paglus world, let's take a look back, maybe just communicating information out to the shop floor. Where I've got, you know, my orders out there, where I've got my entire bottle of tea, all my routies, all my attachments.  for a work area or for a job. I can use a further dive in, look at drawings or look at pictures of what you need. Or you can even insert a video for what is manufacturing or how to assemble something, what materials to use, how to set up a machine. It's pretty much endless as far as the information that you can communicate out to the shop so that when they're recording, they're actually recording again.  what these expect is that whole process improvement out there in the shop floor is pretty, pretty improved. Next thing, let's look at, I mean, just a working process and stuff out there in the shop floor. And you have a lot of different activities and events that can happen. You know, and again, make it simple to talk about the eliminated paper. We also talking about using keystrokes for data entry, right, the use of that data entry footprint. And here's where you can actually look at  the job that are scheduled with my work center action, and a lot of different actions against any one of those jobs. In actions can be anywhere from consuming the raw material that goes into that order, because we actually consume the raw material that is consumed at that step in the main fashion concept. It also produces a dispatch list to say what should be work done and in what order it should be work done, giving you indicators of what events are going well and to go on poorly.  red and green indicators are throughout the application. Again, giving that real-time visibility into accurate information out there on the shop floor. There's a ton of different action buttons that can be taken from a labor perspective of material perspective, a quality perspective, conbound inventory management, transferring material from location to location, lots of alerts and notifications can be sent in.  all this says that I'm actually had a schedule on behind schedule, looking at parts that don't have the parts available. Things I covered before, but just to accentuate them here a little bit, you think about all the recording, you know, the quantity, the labor, the people who worked on it, the quality tests that were recording, all of those pieces are things that you would enter in through, you know, this is just one version of the paperless space.  used to share the information from what we worked on, but also input the information for what was actually accomplished out there on the shop floor. Tons of different benefits here from the supervisor, the shared plant manager, customer service, fails, whoever you want to give access to 32, to go and look at activity out there and shop work. We have the touchscreen kind of UI for the operators.  use it that way with the scanner. You also have a browser navigation from a supervisor, the manager's level where they can actually go in and look at manufacturing for information and look at a few of times statuses for how long, how far along in the process I am against any given manufacturing order. Drill into the details and look at all the operations and see the statuses and progress within each operation. Drill into the details and see the statuses and progress within each operation.  different philomotirals, and say what is available, what is being seen, what's required for this order as well as this operation stuff. Many different inquiries into information within papers can give you insight into how your main fashion process is going on there in the shop. Looking at different types of conva. Obviously red green and yellow would be fine for anybody in the floor, right up to you. Critical world.  that state degree is a good thing. You'd love it for everything to be green, but we all know that in a way in fashion the system can have the red topic. And that's fine. It's just how fast can you react to that red situation? In this example on screen here, I'm looking at a inventory situation where item number 1,000 is actually in jeopardy of starving in work area of material. So that's what we want.  to react to those things quickly. You know, anything that is red or yellow, you'd like to be able to react to it right now so that you can keep your machines, your people working on the job that they keep working on, as well as ultimately completing that item, the effective duty, so that you shift the validity of customer on time. So all these things that we're talking about, play up into that overall, the quick effectiveness, your on time delivery, your overall cost of your item.  that manufacturing is key to this, gives you insight into the college real time right now so you can correct them and improve your time of delivery, etc. Another example is just like looking at maybe things that may pop up there's a lot of different analyzers and charts out there from material. I can build into one of the items that was controlled through a conbond technology and realizing that I have evolved through my first two.  containers, quite pretty good, but they never resolved through my second two containers. Just indicator to maybe the material manager saying that, you know what, we've improved our supply chain or maybe our demand has gone down, that we've never get to those last two containers. So that may be okay because if the place is back I want to keep on hand, or maybe that's the sign that I'm carrying more intermediaries or whatever needs to carry, and I can start to reduce the inventory arginal right now to obviously keep my bottom right.  recently held in Illinois for a visiting at Cusmer and one of their drivers for 2020 was to reduce inventory by two million dollars. You think about that right? Obviously two million dollars. That means they have you know done some analysis internally that says we have more than two million dollars of extra inventory on how can we complete this? You think about what that does for your bottom line. It's just incredible right? So we're using two of  like an MESA to help them identify that they have access to knowledge of inventory, but then further drilling and interesting of what items are specifically targeted to say, let's reduce the, again, those could be any type of items. They could be purchased items, they could be your components, they could be your sub-subbell items, things you make to stack and you want to keep on the shelf for further items down the line, it could be your  combination that helps you drill into the figure out which items you're actually carrying more of and you can drive that cost down. There's a lot of difference alerts and revocations in thinking about how to do these things, right? How do I communicate? We have shown you the red and green and yellow. That's great if somebody's looking on the screen. If somebody's not looking on the screen, I'd like to be able to send a message for that. Fashion that says, hey, we have a critical situation. There's an notification on workshare123 of this job.  running behind schedule lower than expected run rate, it's not going to be completed based on expected duty. That's just one type of alert notification. I could have another one for material that I do not have material in stock or in the location and I'm expecting it by the time I need it so I need to notify somebody that material is not here in this different location. So I have to get there before we saw job use. We work on and helping you reduce.  a lot of those waste that are in any new vacuum vacuum process. There's wait times, set up time, you know, material, machines, employees, etc. There's different types of dashboards and things of that that can be presented inside of papers as well. And it's about a big monitor above a worker that says, you know what, this is the job you're working on, this work's there. You've been running it for an hour and nine minutes, I've expected three pieces, but no pieces have actually been written.  the court is that. The obviously shows crack there's love it just come I mean what that comes to the supervisor or as well To the operator as they're looking at that monitor above their workers saying you know what I should have to do the pieces by now I haven't really seen it any so it's a self-managing type of tool Now they're gonna obviously go get the help that they need in order to you know machine back up and running with the cheerleading etc but it also can be communicated to the  You can have other different types of dashboards out there as well. That will kind of show you multiple pieces of information. Obviously, the expected versus actual downtime with the zoning machines that are currently down and how long they've been down. You can throw up a historical chart of the downtime across the number of the core centers, just to give you that visibility into what is happening out there on the shop floor. And these dashboards can be big monitors out there.  shop floor above work areas, they could be on a supervisor's desk, they could be on energy's desk. You know, it doesn't matter where they are, they are used to communicate real time events out there for shop floor and also give you some little peek to where your problems are as well as historically how well you've been doing. Another example of dashboard is just, there are many different types of charts, you know, you could have a job in the fisheries, downtown and sometimes completion, ODE, or just a rocket.  that's the best thing. You have the different values within OE like availability or productivity or quality because those individual values that really make up those values. So you know your quality is really taken as they get. That's something you need to address today. That's not a lot of cost. It's currently have quality issues. If you're availability is one of that, maybe a bad number. That's not a big support. Because you don't have the demand.  know that machine was down for stuff of maintenance, et cetera. So there's a lot of different reasons to guide into the details of the fleet. But again, you can have these different dashboards. So a lot of different information out there to help you manage your shop floor better. Think about why we started this webinar and lunch here. So I understand what an NES solution is, right? How does it play within my listening other systems? And what benefits do you have?  get out of it. There has to be a benefit otherwise you wish. You see here the benefits are very large. You expect so many benefits that come from every aspect of the main fashion whether it's scheduling jobs, whether it's communicating what to work on a job, whether it's reporting the information in a very simple fashion, whether it is actually getting alerts notifications or indicators that I have problems over at the shop floor. That's what I'm  benefit because you can react to them today rather than really talk to models, production, data, meaning, or waiting for a week or waiting to customer get your product and find out there's quality. So there's a lot of benefits that could go into an MES solution. There's a lot of reasons that every manufacturing company should invoke and turn on parts of an aim. You don't have to turn on everything. You can turn on just different parts. You want to be focused on quality, secure and quality, secure and focus.  I may be getting more accurate rates and cost-earnings and you should turn on pieces of the application to give you better values for how much it costs and how long it takes to manufacture. So think about an MES system as a bunch of different tools, functions that you can turn on to improve your overall business. That's it for this presentation. I'll open it up for any questions. I'll read my chat box here.  See if there's any questions. If you want, you can just put those in the questions area. I'll give it a minute or two. As always, you can submit your questions to the paper list. As well, you can go to our website at www.pickleteloc.com or in the description.  information systems engineering, which is iac-e-rp.com. All right, thank you very much everyone for attending. We will put this broadcast out on our website so if you want to download it and view it at a later time or send it off to maybe some of your coworkers, that's fine as well. Have a great day. \n"
          ]
        }
      ]
    },
    {
      "cell_type": "markdown",
      "source": [
        "Clean the Transcribed Text\n",
        "Remove unnecessary noise like punctuation, stopwords, and convert to lowercase."
      ],
      "metadata": {
        "id": "e79kdAfQVA0-"
      }
    },
    {
      "cell_type": "code",
      "source": [
        "import nltk\n",
        "import string\n",
        "from nltk.corpus import stopwords\n",
        "from nltk.tokenize import word_tokenize\n",
        "\n",
        "# Download NLTK resources\n",
        "nltk.download('punkt')\n",
        "nltk.download('stopwords')\n",
        "\n",
        "# Stopwords and cleaning function\n",
        "stop_words = set(stopwords.words('english'))\n",
        "\n",
        "def clean_text(text):\n",
        "    text = text.lower()  # Convert to lowercase\n",
        "    text = ''.join([char for char in text if char not in string.punctuation])  # Remove punctuation\n",
        "    words = word_tokenize(text)  # Tokenize\n",
        "    words = [word for word in words if word not in stop_words]  # Remove stopwords\n",
        "    return ' '.join(words)\n",
        "\n",
        "# Clean the transcribed text\n",
        "cleaned_text = clean_text(transcribed_text if len(chunk_paths) == 0 else final_transcribed_text)\n",
        "print(\"Cleaned Transcribed Text:\\n\", cleaned_text)\n"
      ],
      "metadata": {
        "colab": {
          "base_uri": "https://localhost:8080/"
        },
        "id": "_Dtme3a-U36f",
        "outputId": "1b8e35fa-a33b-4a88-ddc7-b975bc3c5b22"
      },
      "execution_count": null,
      "outputs": [
        {
          "output_type": "stream",
          "name": "stdout",
          "text": [
            "Cleaned Transcribed Text:\n",
            " good morning good afternoon everyone welcome another paperless lunch learn webinar todays webinar discussed manufacturing execution otherwise known mes chose topic today either confusion maybe understanding lot interaction customers meet factories hospital question mes system lot people know mes system find piece puzzles go mes system lets start today quick definition mes system important play systems within business advantages core functions mes system people show mes system actually help accomplish core functions well benefits ninyes getting look manufacturing execution system theres really three kind things trying convey connect monitors controls pretty much anything goes command spectrum data perspective know users machines etc think main goal manufacturing execution system improve body online improve production output shop wall well look like industry standards theres company called hide seek kind like gart purposes go evaluate systems give output know display value system business etc definition hide seek one main fetch executions comes three components top version really erpcentric focuses erp data needs erp thats pretty much one direction second category put essence bottomup category machinecentric looking speeds speeds machines far whats going temperature many pieces imported etc third category applies ms inside really based workercentric version nes going correct visibility easily worked erp perspective shop floor communicate bottomup version machines thats really focused user twoway communication capeless nes thats fits inside version really focused workers shop floor see simple get information factory today well making simple report activities theyre throughout day areas business take advantage looking mes fit systems play mes right machine learning scada stuff want wear etc actually communicate machine learning mes middle erp business intelligence top think essence critical part solution communicates upper level business intelligence erp well bottom level machines shop think granular details expanded little bit need look chart obviously youve got nine plants pretty everybody knows also shows ass isalam sh glossues sex wall dresses address booming business administration also shows compressed fermented consumables show future apply graduated range infrastructure recognise health poor stated agenda thosealthiness show machine layers well ear wear think data thats flowing layers yes thats comes place critical piece middle says im going communicate chain machines also workers shop pertinent information far needs packed also done business application could take advantage real time information make better business decisions get core function features mes think obviously right kind things core functions broken know need work something supposed supposed manufacture actually responsible work area tools people etc obviously know actually kind expanding favorite different features functions advanced system weve broken categories data collection obviously acquisition saying want know whats going shop floor want collect information whats paid process whats worked operation schedule looking schedule made fast build around shop floor whether comes ap system make source everybody schedule back around four needs broken detailed issues far work presented schedule individual stationed thats important piece obviously work right things right time order actually increase part time batching production needs need group per cost form finished good form subsubsubexample form raw material youre dispatching production unit shop sequence well reporting done one production units production tracking genealogy point indicator track expanded many different kinds track movements far process track status track track track track track track track track track track track track track track track track track track track track track track track track track track track track track track track track track track track track track track working track inventory went inventory came get granular level youre looking geneongenology looking maybe backslide information components went environment thats fashionized shows even go one left youre lower go serial number unique identity parts youre paying back well parts youre putting serialized endtype things staff resource management obviously want know whos building whos scheduled work north fort center know skills workers change job instead wanting understand whos whats working also well theyre know actually going ahead behind schedule job currently work space process management expand process management management business get talk fact want communicate obviously engineers put together design product fact steps fact thats process want control management process youll get performance analysis performance analysis broken know well job performance performance analysis broken know actually change whether thats joy whether thats job theres lot factors go performance analysis able actually look identity details one areas well lead huge benefits inspection performance analysis actually talked one end day management maintenance machines quality job machines agency component subassembly finished item document using supporting information needs communicated shop floor think mes solution think core culture features know tracking information happened shop floor also retrieving information also communicating information shop business applications take look quickly brief workbook think planners engineers side engineer aggers actually tell roadie steps item get assembled whatever details want go planners seen places know hear schedule heres current portfolio could automated format meaning software application bulk planning maybe planner review tweak plan created software application information goes mes application right back turn theres obviously data data thats communicated production floor go shift supervisor tweak mind give indian responsibility say know know based information forward job know run knob dont people dont resources material machine actually running slower hope change things maybe theyre even going granular level saying makes sense run use job back back things slow set setups reduce overall setup time actually run two jobs back back thats production information communicated shop floor supervisors operators floor obviously going make faction going act look individual tasks need done individual work centers going look parts immediately process far assemble something like back something theyre ultimately theyre going produce product product could selfassembled item could finished dont know could working process step get last little thing looking inspection volume thats look working process component stepofthemanufactured process means test may want test process things rather testing end item information operators quality inspectors machines well obviously go back nes system updating currently going shop floor communicate communicate nes application also communicate business applications youre planning engine youre purchasing engines whats pilots needs business updated based information something shop information better tool order make better business decisions didnt even know mes important know two key factors really making sure accurate visit realtime information holds everybody really giving many factors realtime accurate visual information everybody scope whats moving away want make sure hits home thats important mean look software systems youll go widelight thats right want capture collect data maybe used used ive used collect really want use mes information improve business machine much scrap quality running schedule set died little deeper ill think mes happenizes production really helping production everybody date realtime information current conditions obviously know key indicators know stack like red green yellow right obviously red means strong green somethings good yellow means mornings correct conditions shop floor thats back like across many different areas machine runs maybe actually operator maybe actually material maybe overall order overall endline mes also used help reduce setup times think capturing information shop road without nes system idea much setup time actually accumulated given items heres capture captured monitor analysis information figure much set time reported individual jobs individual work sections individual employees well look much time set say know seems little bit whack actually puts processes place order try reduce maybe im always going know one item another item transition two items quite large think change planning thats cost im thinking labor costs publishing machine costs scrap costs etc accurate cost information help business obviously value accurate cost access accurate costs end item know youre making margin expect make profit youre wanting make increasing machine cup pack youre machine know one key elements famous actions machines utilized id say know give examples fine examples different companies go think yeah need new machine realize news announces machine want theyre utilizing machines postconcoming dont really need new machine make sure machine public running much time possible throughout day think reducing waste theres lot waste batches im saying pretty theres probably gone lean journey 140 another still going lean journey today saying want reduce waste one things different types waste get eliminated reduced business think know qualities time waste talked machine uptime thing thats way thats way talk operator utilization talk productivity far might sorry producing items new fashioner talk efficiency efficiency looking amount pieces completed good compared amount pieces work completed poorly scrap pieces forms information collected mes system well communicated mes areas allows dive many quality issues shop floor need actually reduce better managing inventory tools mes system fact part one core functions added far inventory know inventory big dollar value fashion companies able manage correctly gives ability reduce overall cost visit also planning think todays world supply chain living order something amazon today new thats expectation thats going driven throughout world today thats able manage individuals right material hand today manufacture goods need make meet nontime deliverables playing part also dont want increase inventory handquining much always meaning inventory cost within enjoys obviously want try improve supply chain additional benefits mes reducing psychotimes obviously eliminating data entry would process lets go one one detail think manufacturing psychotimes front time takes manufacture something realtime information long took manufacture something much downtime within process lent heated one operation around set start working next operation set zone two hours two days later back altitude really good insight far reduce overall psychotherapy eliminate data entry reduce data entry data entry necessary evil right wan na give information data entry come multiple facets simple scanning barcode item could data entry versus actually trying type item number andしい fashion order operation whole idea everything else enter information capture data entry necessary eboard yes information populate mds well hold business lets reduce eliminate make simple think data entry human perspective actually scanning something entering something keyboard also something coming machine tlc sensor machine actually due data entry form think reducing overall work process right recover space little bit already work process amount items much weight time operation whats productivity efficiency one reducing paperwork todays world right weve electronics getting statements statements bills everything else electronically lets reduce paper shop floor reduce cost perspective cost perspective print paper advantage paper distribute paper house think cost line know paper work shop floor locating working wrong revision engineered item im working wrong job supposed usable paperwork reduce put online form everything realtime engineer changes revision everybody knows additional instructions test instructions set instructions things like everybody knows today value process reducing paper besides cost printing reducing lead text back cycle times tend go together right much time need head make back something purchase something vendors includes product quality thing mes product quality youre testing things help manufacturing process point actually needs tested quality immediately increase rather testing time height run three stages manufacturer property cost purchase site taking information metrics across say number one deep back ive received number one work center producing errors non conformances shop floor goes long way improving quality also reducing youre time delivering remains lost paperwork kind goes hand user paper think use paperwork right thats print distributed shop nobody knows whats work earn lot waste stuff powerings people floor things know need real critical kind point entering right want empower people tell actually currently working tell theyve done communicate actually look information regarding front make fraction really empowers actually take ownership tasks front obviously improve entire company ive produced planning process theyre obviously increasing entire company think planning process right planning based know today sooner know well accurate information better plan become im actually wanting purchase items main faction process im assuming items time finished items reported completely know true onhand inventory item reported completely run finding engine going think material hand really likewise spectrum actually see relieve indian dirt order released front going look like dont trace money engines spare time get behind accurate information real time information available raw material stuff assemble items well finished goods also steps manufacturing process basically greatly improved whole money back summary obviously company hole approved knowing information real time importantly accurate lets take look paglus paglus accomplish lot benefits functions talked right paglus world lets take look back maybe communicating information shop floor ive got know orders ive got entire bottle tea routies attachments work area job use dive look drawings look pictures need even insert video manufacturing assemble something materials use set machine pretty much endless far information communicate shop theyre recording theyre actually recording expect whole process improvement shop floor pretty pretty improved next thing lets look mean working process stuff shop floor lot different activities events happen know make simple talk eliminated paper also talking using keystrokes data entry right use data entry footprint heres actually look job scheduled work center action lot different actions one jobs actions anywhere consuming raw material goes order actually consume raw material consumed step main fashion concept also produces dispatch list say work done order work done giving indicators events going well go poorly red green indicators throughout application giving realtime visibility accurate information shop floor theres ton different action buttons taken labor perspective material perspective quality perspective conbound inventory management transferring material location location lots alerts notifications sent says im actually schedule behind schedule looking parts dont parts available things covered accentuate little bit think recording know quantity labor people worked quality tests recording pieces things would enter know one version paperless space used share information worked also input information actually accomplished shop floor tons different benefits supervisor shared plant manager customer service fails whoever want give access 32 go look activity shop work touchscreen kind ui operators use way scanner also browser navigation supervisor managers level actually go look manufacturing information look times statuses long far along process given manufacturing order drill details look operations see statuses progress within operation drill details see statuses progress within operation different philomotirals say available seen whats required order well operation stuff many different inquiries information within papers give insight main fashion process going shop looking different types conva obviously red green yellow would fine anybody floor right critical world state degree good thing youd love everything green know way fashion system red topic thats fine fast react red situation example screen im looking inventory situation item number 1000 actually jeopardy starving work area material thats want react things quickly know anything red yellow youd like able react right keep machines people working job keep working well ultimately completing item effective duty shift validity customer time things talking play overall quick effectiveness time delivery overall cost item manufacturing key gives insight college real time right correct improve time delivery etc another example like looking maybe things may pop theres lot different analyzers charts material build one items controlled conbond technology realizing evolved first two containers quite pretty good never resolved second two containers indicator maybe material manager saying know weve improved supply chain maybe demand gone weve never get last two containers may okay place back want keep hand maybe thats sign im carrying intermediaries whatever needs carry start reduce inventory arginal right obviously keep bottom right recently held illinois visiting cusmer one drivers 2020 reduce inventory two million dollars think right obviously two million dollars means know done analysis internally says two million dollars extra inventory complete think bottom line incredible right using two like mesa help identify access knowledge inventory drilling interesting items specifically targeted say lets reduce could type items could purchased items could components could subsubbell items things make stack want keep shelf items line could combination helps drill figure items youre actually carrying drive cost theres lot difference alerts revocations thinking things right communicate shown red green yellow thats great somebodys looking screen somebodys looking screen id like able send message fashion says hey critical situation theres notification workshare123 job running behind schedule lower expected run rate going completed based expected duty thats one type alert notification could another one material material stock location im expecting time need need notify somebody material different location get saw job use work helping reduce lot waste new vacuum vacuum process theres wait times set time know material machines employees etc theres different types dashboards things presented inside papers well big monitor worker says know job youre working works youve running hour nine minutes ive expected three pieces pieces actually written court obviously shows crack theres love come mean comes supervisor well operator theyre looking monitor workers saying know pieces havent really seen selfmanaging type tool theyre gon na obviously go get help need order know machine back running cheerleading etc also communicated different types dashboards well kind show multiple pieces information obviously expected versus actual downtime zoning machines currently long theyve throw historical chart downtime across number core centers give visibility happening shop floor dashboards big monitors shop floor work areas could supervisors desk could energys desk know doesnt matter used communicate real time events shop floor also give little peek problems well historically well youve another example dashboard many different types charts know could job fisheries downtown sometimes completion ode rocket thats best thing different values within oe like availability productivity quality individual values really make values know quality really taken get thats something need address today thats lot cost currently quality issues youre availability one maybe bad number thats big support dont demand know machine stuff maintenance et cetera theres lot different reasons guide details fleet different dashboards lot different information help manage shop floor better think started webinar lunch understand nes solution right play within listening systems benefits get benefit otherwise wish see benefits large expect many benefits come every aspect main fashion whether scheduling jobs whether communicating work job whether reporting information simple fashion whether actually getting alerts notifications indicators problems shop floor thats im benefit react today rather really talk models production data meaning waiting week waiting customer get product find theres quality theres lot benefits could go mes solution theres lot reasons every manufacturing company invoke turn parts aim dont turn everything turn different parts want focused quality secure quality secure focus may getting accurate rates costearnings turn pieces application give better values much costs long takes manufacture think mes system bunch different tools functions turn improve overall business thats presentation ill open questions ill read chat box see theres questions want put questions area ill give minute two always submit questions paper list well go website wwwpickleteloccom description information systems engineering iacerpcom right thank much everyone attending put broadcast website want download view later time send maybe coworkers thats fine well great day\n"
          ]
        },
        {
          "output_type": "stream",
          "name": "stderr",
          "text": [
            "[nltk_data] Downloading package punkt to /root/nltk_data...\n",
            "[nltk_data]   Package punkt is already up-to-date!\n",
            "[nltk_data] Downloading package stopwords to /root/nltk_data...\n",
            "[nltk_data]   Package stopwords is already up-to-date!\n"
          ]
        }
      ]
    },
    {
      "cell_type": "markdown",
      "source": [
        "Saving the Transcribed Text\n",
        "If you want to save the transcribed or cleaned text into a file for later use, use the following code:\n",
        "\n",
        "Save the Raw Transcription:"
      ],
      "metadata": {
        "id": "cEy48thaVuIu"
      }
    },
    {
      "cell_type": "code",
      "source": [
        "raw_text_path = '/content/drive/MyDrive/MES_Files/transcribed_text.txt'\n",
        "with open(raw_text_path, 'w') as f:\n",
        "    f.write(transcribed_text if len(chunk_paths) == 0 else final_transcribed_text)\n",
        "print(f\"Transcribed text saved at {raw_text_path}\")\n"
      ],
      "metadata": {
        "colab": {
          "base_uri": "https://localhost:8080/"
        },
        "id": "Mzc2oipFVFFY",
        "outputId": "fda1502b-b09e-4a60-bb3c-f893b29340a1"
      },
      "execution_count": null,
      "outputs": [
        {
          "output_type": "stream",
          "name": "stdout",
          "text": [
            "Transcribed text saved at /content/drive/MyDrive/MES_Files/transcribed_text.txt\n"
          ]
        }
      ]
    },
    {
      "cell_type": "markdown",
      "source": [
        "Save the Cleaned Transcription:\n",
        "python\n",
        "Copy code\n"
      ],
      "metadata": {
        "id": "YL05hGP6Vxgr"
      }
    },
    {
      "cell_type": "code",
      "source": [
        "cleaned_text_path = '/content/drive/MyDrive/MES_Files/cleaned_transcribed_text.txt'\n",
        "with open(cleaned_text_path, 'w') as f:\n",
        "    f.write(cleaned_text)\n",
        "print(f\"Cleaned transcribed text saved at {cleaned_text_path}\")\n"
      ],
      "metadata": {
        "colab": {
          "base_uri": "https://localhost:8080/"
        },
        "id": "eLrlvXLIVweJ",
        "outputId": "486db36f-a7af-41d7-cfe9-18b8a0c87a97"
      },
      "execution_count": null,
      "outputs": [
        {
          "output_type": "stream",
          "name": "stdout",
          "text": [
            "Cleaned transcribed text saved at /content/drive/MyDrive/MES_Files/cleaned_transcribed_text.txt\n"
          ]
        }
      ]
    },
    {
      "cell_type": "code",
      "source": [
        "!pip install sentence-transformers\n"
      ],
      "metadata": {
        "colab": {
          "base_uri": "https://localhost:8080/"
        },
        "collapsed": true,
        "id": "xTIIvmyLie_q",
        "outputId": "908c78a0-86be-499e-851b-7a43ec26799d"
      },
      "execution_count": null,
      "outputs": [
        {
          "output_type": "stream",
          "name": "stdout",
          "text": [
            "Requirement already satisfied: sentence-transformers in /usr/local/lib/python3.10/dist-packages (3.2.1)\n",
            "Requirement already satisfied: transformers<5.0.0,>=4.41.0 in /usr/local/lib/python3.10/dist-packages (from sentence-transformers) (4.46.2)\n",
            "Requirement already satisfied: tqdm in /usr/local/lib/python3.10/dist-packages (from sentence-transformers) (4.66.6)\n",
            "Requirement already satisfied: torch>=1.11.0 in /usr/local/lib/python3.10/dist-packages (from sentence-transformers) (2.5.1+cu121)\n",
            "Requirement already satisfied: scikit-learn in /usr/local/lib/python3.10/dist-packages (from sentence-transformers) (1.5.2)\n",
            "Requirement already satisfied: scipy in /usr/local/lib/python3.10/dist-packages (from sentence-transformers) (1.13.1)\n",
            "Requirement already satisfied: huggingface-hub>=0.20.0 in /usr/local/lib/python3.10/dist-packages (from sentence-transformers) (0.26.2)\n",
            "Requirement already satisfied: Pillow in /usr/local/lib/python3.10/dist-packages (from sentence-transformers) (11.0.0)\n",
            "Requirement already satisfied: filelock in /usr/local/lib/python3.10/dist-packages (from huggingface-hub>=0.20.0->sentence-transformers) (3.16.1)\n",
            "Requirement already satisfied: fsspec>=2023.5.0 in /usr/local/lib/python3.10/dist-packages (from huggingface-hub>=0.20.0->sentence-transformers) (2024.10.0)\n",
            "Requirement already satisfied: packaging>=20.9 in /usr/local/lib/python3.10/dist-packages (from huggingface-hub>=0.20.0->sentence-transformers) (24.2)\n",
            "Requirement already satisfied: pyyaml>=5.1 in /usr/local/lib/python3.10/dist-packages (from huggingface-hub>=0.20.0->sentence-transformers) (6.0.2)\n",
            "Requirement already satisfied: requests in /usr/local/lib/python3.10/dist-packages (from huggingface-hub>=0.20.0->sentence-transformers) (2.32.3)\n",
            "Requirement already satisfied: typing-extensions>=3.7.4.3 in /usr/local/lib/python3.10/dist-packages (from huggingface-hub>=0.20.0->sentence-transformers) (4.12.2)\n",
            "Requirement already satisfied: networkx in /usr/local/lib/python3.10/dist-packages (from torch>=1.11.0->sentence-transformers) (3.4.2)\n",
            "Requirement already satisfied: jinja2 in /usr/local/lib/python3.10/dist-packages (from torch>=1.11.0->sentence-transformers) (3.1.4)\n",
            "Requirement already satisfied: sympy==1.13.1 in /usr/local/lib/python3.10/dist-packages (from torch>=1.11.0->sentence-transformers) (1.13.1)\n",
            "Requirement already satisfied: mpmath<1.4,>=1.1.0 in /usr/local/lib/python3.10/dist-packages (from sympy==1.13.1->torch>=1.11.0->sentence-transformers) (1.3.0)\n",
            "Requirement already satisfied: numpy>=1.17 in /usr/local/lib/python3.10/dist-packages (from transformers<5.0.0,>=4.41.0->sentence-transformers) (1.26.4)\n",
            "Requirement already satisfied: regex!=2019.12.17 in /usr/local/lib/python3.10/dist-packages (from transformers<5.0.0,>=4.41.0->sentence-transformers) (2024.9.11)\n",
            "Requirement already satisfied: safetensors>=0.4.1 in /usr/local/lib/python3.10/dist-packages (from transformers<5.0.0,>=4.41.0->sentence-transformers) (0.4.5)\n",
            "Requirement already satisfied: tokenizers<0.21,>=0.20 in /usr/local/lib/python3.10/dist-packages (from transformers<5.0.0,>=4.41.0->sentence-transformers) (0.20.3)\n",
            "Requirement already satisfied: joblib>=1.2.0 in /usr/local/lib/python3.10/dist-packages (from scikit-learn->sentence-transformers) (1.4.2)\n",
            "Requirement already satisfied: threadpoolctl>=3.1.0 in /usr/local/lib/python3.10/dist-packages (from scikit-learn->sentence-transformers) (3.5.0)\n",
            "Requirement already satisfied: MarkupSafe>=2.0 in /usr/local/lib/python3.10/dist-packages (from jinja2->torch>=1.11.0->sentence-transformers) (3.0.2)\n",
            "Requirement already satisfied: charset-normalizer<4,>=2 in /usr/local/lib/python3.10/dist-packages (from requests->huggingface-hub>=0.20.0->sentence-transformers) (3.4.0)\n",
            "Requirement already satisfied: idna<4,>=2.5 in /usr/local/lib/python3.10/dist-packages (from requests->huggingface-hub>=0.20.0->sentence-transformers) (3.10)\n",
            "Requirement already satisfied: urllib3<3,>=1.21.1 in /usr/local/lib/python3.10/dist-packages (from requests->huggingface-hub>=0.20.0->sentence-transformers) (2.2.3)\n",
            "Requirement already satisfied: certifi>=2017.4.17 in /usr/local/lib/python3.10/dist-packages (from requests->huggingface-hub>=0.20.0->sentence-transformers) (2024.8.30)\n"
          ]
        }
      ]
    },
    {
      "cell_type": "markdown",
      "source": [
        " FAISS VECTOR DATABASE"
      ],
      "metadata": {
        "id": "yZT8-Dddkt7O"
      }
    },
    {
      "cell_type": "markdown",
      "source": [
        "\n",
        "**Using B5/BART transformer**"
      ],
      "metadata": {
        "id": "QiplTJkxhiop"
      }
    },
    {
      "cell_type": "code",
      "source": [
        "!pip install sentence-transformers transformers faiss-cpu\n"
      ],
      "metadata": {
        "colab": {
          "base_uri": "https://localhost:8080/"
        },
        "collapsed": true,
        "id": "NlHm2yWQhnyS",
        "outputId": "e326d117-70aa-4560-ba8c-c15d9ac25f80"
      },
      "execution_count": 5,
      "outputs": [
        {
          "output_type": "stream",
          "name": "stdout",
          "text": [
            "Requirement already satisfied: sentence-transformers in /usr/local/lib/python3.10/dist-packages (3.2.1)\n",
            "Requirement already satisfied: transformers in /usr/local/lib/python3.10/dist-packages (4.46.2)\n",
            "Collecting faiss-cpu\n",
            "  Downloading faiss_cpu-1.9.0.post1-cp310-cp310-manylinux_2_17_x86_64.manylinux2014_x86_64.whl.metadata (4.4 kB)\n",
            "Requirement already satisfied: tqdm in /usr/local/lib/python3.10/dist-packages (from sentence-transformers) (4.66.6)\n",
            "Requirement already satisfied: torch>=1.11.0 in /usr/local/lib/python3.10/dist-packages (from sentence-transformers) (2.5.1+cu121)\n",
            "Requirement already satisfied: scikit-learn in /usr/local/lib/python3.10/dist-packages (from sentence-transformers) (1.5.2)\n",
            "Requirement already satisfied: scipy in /usr/local/lib/python3.10/dist-packages (from sentence-transformers) (1.13.1)\n",
            "Requirement already satisfied: huggingface-hub>=0.20.0 in /usr/local/lib/python3.10/dist-packages (from sentence-transformers) (0.26.2)\n",
            "Requirement already satisfied: Pillow in /usr/local/lib/python3.10/dist-packages (from sentence-transformers) (11.0.0)\n",
            "Requirement already satisfied: filelock in /usr/local/lib/python3.10/dist-packages (from transformers) (3.16.1)\n",
            "Requirement already satisfied: numpy>=1.17 in /usr/local/lib/python3.10/dist-packages (from transformers) (1.26.4)\n",
            "Requirement already satisfied: packaging>=20.0 in /usr/local/lib/python3.10/dist-packages (from transformers) (24.2)\n",
            "Requirement already satisfied: pyyaml>=5.1 in /usr/local/lib/python3.10/dist-packages (from transformers) (6.0.2)\n",
            "Requirement already satisfied: regex!=2019.12.17 in /usr/local/lib/python3.10/dist-packages (from transformers) (2024.9.11)\n",
            "Requirement already satisfied: requests in /usr/local/lib/python3.10/dist-packages (from transformers) (2.32.3)\n",
            "Requirement already satisfied: safetensors>=0.4.1 in /usr/local/lib/python3.10/dist-packages (from transformers) (0.4.5)\n",
            "Requirement already satisfied: tokenizers<0.21,>=0.20 in /usr/local/lib/python3.10/dist-packages (from transformers) (0.20.3)\n",
            "Requirement already satisfied: fsspec>=2023.5.0 in /usr/local/lib/python3.10/dist-packages (from huggingface-hub>=0.20.0->sentence-transformers) (2024.10.0)\n",
            "Requirement already satisfied: typing-extensions>=3.7.4.3 in /usr/local/lib/python3.10/dist-packages (from huggingface-hub>=0.20.0->sentence-transformers) (4.12.2)\n",
            "Requirement already satisfied: networkx in /usr/local/lib/python3.10/dist-packages (from torch>=1.11.0->sentence-transformers) (3.4.2)\n",
            "Requirement already satisfied: jinja2 in /usr/local/lib/python3.10/dist-packages (from torch>=1.11.0->sentence-transformers) (3.1.4)\n",
            "Requirement already satisfied: sympy==1.13.1 in /usr/local/lib/python3.10/dist-packages (from torch>=1.11.0->sentence-transformers) (1.13.1)\n",
            "Requirement already satisfied: mpmath<1.4,>=1.1.0 in /usr/local/lib/python3.10/dist-packages (from sympy==1.13.1->torch>=1.11.0->sentence-transformers) (1.3.0)\n",
            "Requirement already satisfied: charset-normalizer<4,>=2 in /usr/local/lib/python3.10/dist-packages (from requests->transformers) (3.4.0)\n",
            "Requirement already satisfied: idna<4,>=2.5 in /usr/local/lib/python3.10/dist-packages (from requests->transformers) (3.10)\n",
            "Requirement already satisfied: urllib3<3,>=1.21.1 in /usr/local/lib/python3.10/dist-packages (from requests->transformers) (2.2.3)\n",
            "Requirement already satisfied: certifi>=2017.4.17 in /usr/local/lib/python3.10/dist-packages (from requests->transformers) (2024.8.30)\n",
            "Requirement already satisfied: joblib>=1.2.0 in /usr/local/lib/python3.10/dist-packages (from scikit-learn->sentence-transformers) (1.4.2)\n",
            "Requirement already satisfied: threadpoolctl>=3.1.0 in /usr/local/lib/python3.10/dist-packages (from scikit-learn->sentence-transformers) (3.5.0)\n",
            "Requirement already satisfied: MarkupSafe>=2.0 in /usr/local/lib/python3.10/dist-packages (from jinja2->torch>=1.11.0->sentence-transformers) (3.0.2)\n",
            "Downloading faiss_cpu-1.9.0.post1-cp310-cp310-manylinux_2_17_x86_64.manylinux2014_x86_64.whl (27.5 MB)\n",
            "\u001b[2K   \u001b[90m━━━━━━━━━━━━━━━━━━━━━━━━━━━━━━━━━━━━━━━━\u001b[0m \u001b[32m27.5/27.5 MB\u001b[0m \u001b[31m42.7 MB/s\u001b[0m eta \u001b[36m0:00:00\u001b[0m\n",
            "\u001b[?25hInstalling collected packages: faiss-cpu\n",
            "Successfully installed faiss-cpu-1.9.0.post1\n"
          ]
        }
      ]
    },
    {
      "cell_type": "code",
      "source": [
        "!pip install PyPDF2"
      ],
      "metadata": {
        "colab": {
          "base_uri": "https://localhost:8080/"
        },
        "collapsed": true,
        "id": "RPPbChYykd8L",
        "outputId": "f443850a-34b5-4ac2-fec1-c517b489647b"
      },
      "execution_count": 12,
      "outputs": [
        {
          "output_type": "stream",
          "name": "stdout",
          "text": [
            "Collecting PyPDF2\n",
            "  Downloading pypdf2-3.0.1-py3-none-any.whl.metadata (6.8 kB)\n",
            "Downloading pypdf2-3.0.1-py3-none-any.whl (232 kB)\n",
            "\u001b[2K   \u001b[90m━━━━━━━━━━━━━━━━━━━━━━━━━━━━━━━━━━━━━━━━\u001b[0m \u001b[32m232.6/232.6 kB\u001b[0m \u001b[31m3.9 MB/s\u001b[0m eta \u001b[36m0:00:00\u001b[0m\n",
            "\u001b[?25hInstalling collected packages: PyPDF2\n",
            "Successfully installed PyPDF2-3.0.1\n"
          ]
        }
      ]
    },
    {
      "cell_type": "code",
      "source": [
        "!pip install SpeechRecognition"
      ],
      "metadata": {
        "colab": {
          "base_uri": "https://localhost:8080/"
        },
        "collapsed": true,
        "id": "R9Yol3qykmsu",
        "outputId": "2bcefef6-8287-4fd6-a178-63edec859168"
      },
      "execution_count": 14,
      "outputs": [
        {
          "output_type": "stream",
          "name": "stdout",
          "text": [
            "Collecting SpeechRecognition\n",
            "  Downloading SpeechRecognition-3.11.0-py2.py3-none-any.whl.metadata (28 kB)\n",
            "Requirement already satisfied: requests>=2.26.0 in /usr/local/lib/python3.10/dist-packages (from SpeechRecognition) (2.32.3)\n",
            "Requirement already satisfied: typing-extensions in /usr/local/lib/python3.10/dist-packages (from SpeechRecognition) (4.12.2)\n",
            "Requirement already satisfied: charset-normalizer<4,>=2 in /usr/local/lib/python3.10/dist-packages (from requests>=2.26.0->SpeechRecognition) (3.4.0)\n",
            "Requirement already satisfied: idna<4,>=2.5 in /usr/local/lib/python3.10/dist-packages (from requests>=2.26.0->SpeechRecognition) (3.10)\n",
            "Requirement already satisfied: urllib3<3,>=1.21.1 in /usr/local/lib/python3.10/dist-packages (from requests>=2.26.0->SpeechRecognition) (2.2.3)\n",
            "Requirement already satisfied: certifi>=2017.4.17 in /usr/local/lib/python3.10/dist-packages (from requests>=2.26.0->SpeechRecognition) (2024.8.30)\n",
            "Downloading SpeechRecognition-3.11.0-py2.py3-none-any.whl (32.8 MB)\n",
            "\u001b[2K   \u001b[90m━━━━━━━━━━━━━━━━━━━━━━━━━━━━━━━━━━━━━━━━\u001b[0m \u001b[32m32.8/32.8 MB\u001b[0m \u001b[31m15.7 MB/s\u001b[0m eta \u001b[36m0:00:00\u001b[0m\n",
            "\u001b[?25hInstalling collected packages: SpeechRecognition\n",
            "Successfully installed SpeechRecognition-3.11.0\n"
          ]
        }
      ]
    },
    {
      "cell_type": "code",
      "source": [
        "import numpy as np\n",
        "import faiss\n",
        "\n",
        "# Paths to pre-generated embeddings\n",
        "embeddings_audio_path = \"/content/drive/MyDrive/MES_Files/embeddings_audio.npy\"\n",
        "embeddings_pdf_path = \"/content/drive/MyDrive/MES_Files/embeddings_pdf.npy\"\n",
        "embeddings_txt_path = \"/content/drive/MyDrive/MES_Files/embeddings_txt.npy\"\n",
        "\n",
        "# Load embeddings\n",
        "embeddings_audio = np.load(embeddings_audio_path).astype('float32')\n",
        "embeddings_pdf = np.load(embeddings_pdf_path).astype('float32')\n",
        "embeddings_txt = np.load(embeddings_txt_path).astype('float32')\n",
        "\n",
        "# Combine embeddings into one array\n",
        "embeddings = np.vstack([embeddings_audio, embeddings_pdf, embeddings_txt])\n",
        "\n",
        "# Check the shape of the embeddings to ensure consistency\n",
        "print(f\"Embeddings shape: {embeddings.shape}\")\n"
      ],
      "metadata": {
        "colab": {
          "base_uri": "https://localhost:8080/"
        },
        "id": "3KlE5libi9qt",
        "outputId": "8eab00e3-aefc-4b22-be2a-1f8a32b22c39"
      },
      "execution_count": 17,
      "outputs": [
        {
          "output_type": "stream",
          "name": "stdout",
          "text": [
            "Embeddings shape: (3, 384)\n"
          ]
        }
      ]
    },
    {
      "cell_type": "code",
      "source": [
        "# Initialize FAISS index\n",
        "embedding_dim = embeddings.shape[1]  # Assuming all embeddings have the same dimension\n",
        "faiss_index = faiss.IndexFlatL2(embedding_dim)  # Using L2 (Euclidean) distance\n",
        "faiss_index.add(embeddings)\n",
        "\n",
        "# Mapping embeddings to document paths\n",
        "document_paths = [\n",
        "    \"/content/drive/MyDrive/MES_Files/embeddings_audio.npy\",\n",
        "    \"/content/drive/MyDrive/MES_Files/embeddings_pdf.npy\",\n",
        "    \"/content/drive/MyDrive/MES_Files/embeddings_txt.npy\"\n",
        "]\n",
        "\n",
        "# Create a mapping from index to document path\n",
        "doc_mapping = {i: path for i, path in enumerate(document_paths)}\n",
        "\n",
        "print(\"FAISS index built and embeddings stored.\")\n"
      ],
      "metadata": {
        "colab": {
          "base_uri": "https://localhost:8080/"
        },
        "id": "nKxrNzlakyGr",
        "outputId": "d2a75062-353b-43f2-9933-5e8cf8c84483"
      },
      "execution_count": 18,
      "outputs": [
        {
          "output_type": "stream",
          "name": "stdout",
          "text": [
            "FAISS index built and embeddings stored.\n"
          ]
        }
      ]
    },
    {
      "cell_type": "code",
      "source": [
        "from sentence_transformers import SentenceTransformer\n",
        "\n",
        "# Load a pre-trained model for the query embedding\n",
        "query_model = SentenceTransformer('all-MiniLM-L6-v2')\n",
        "\n",
        "def get_relevant_documents(query, faiss_index, doc_mapping, top_k=3):\n",
        "    \"\"\"\n",
        "    Retrieve the most relevant document paths for a query using FAISS.\n",
        "    \"\"\"\n",
        "    # Convert the query to an embedding\n",
        "    query_embedding = query_model.encode(query).astype('float32')\n",
        "\n",
        "    # Perform the FAISS search\n",
        "    distances, indices = faiss_index.search(query_embedding.reshape(1, -1), top_k)\n",
        "\n",
        "    # Get the retrieved document paths\n",
        "    retrieved_docs = [doc_mapping[idx] for idx in indices[0]]\n",
        "\n",
        "    return retrieved_docs, distances[0]\n",
        "\n",
        "# User query\n",
        "query = \"What is the process of material management in MES?\"\n",
        "\n",
        "# Retrieve relevant documents based on the query\n",
        "retrieved_docs, distances = get_relevant_documents(query, faiss_index, doc_mapping)\n",
        "\n",
        "print(\"Retrieved Document Paths:\", retrieved_docs)\n",
        "print(\"Distances:\", distances)\n"
      ],
      "metadata": {
        "colab": {
          "base_uri": "https://localhost:8080/"
        },
        "id": "XNqidQmvlise",
        "outputId": "5690c677-eb35-4770-92b9-7a92ad3c6c30"
      },
      "execution_count": 19,
      "outputs": [
        {
          "output_type": "stream",
          "name": "stdout",
          "text": [
            "Retrieved Document Paths: ['/content/drive/MyDrive/MES_Files/embeddings_txt.npy', '/content/drive/MyDrive/MES_Files/embeddings_audio.npy', '/content/drive/MyDrive/MES_Files/embeddings_pdf.npy']\n",
            "Distances: [0.94111496 1.2923467  1.2929051 ]\n"
          ]
        }
      ]
    },
    {
      "cell_type": "code",
      "source": [
        "from transformers import T5ForConditionalGeneration, T5Tokenizer\n",
        "\n",
        "def read_file_content(file_path):\n",
        "    \"\"\"\n",
        "    Dummy function to read content from various document formats.\n",
        "    Replace with actual content reading code.\n",
        "    \"\"\"\n",
        "    # For text, pdf, and audio (depending on your content type)\n",
        "    # Here, simply simulate text reading\n",
        "    try:\n",
        "        if file_path.endswith('.txt'):\n",
        "            with open(file_path, 'r') as file:\n",
        "                return file.read()\n",
        "        elif file_path.endswith('.pdf'):\n",
        "            # Use a PDF reader here\n",
        "            return \"Sample PDF content about material management in MES.\"\n",
        "        elif file_path.endswith('.mp4'):\n",
        "            # Audio/video files processing (just for placeholder)\n",
        "            return \"Sample audio content about material management in MES.\"\n",
        "        else:\n",
        "            return \"No content found.\"\n",
        "    except Exception as e:\n",
        "        return str(e)\n",
        "\n",
        "def generate_response_from_documents_with_weighted_content(query, retrieved_docs, distances, model_name='t5-small'):\n",
        "    \"\"\"\n",
        "    Generate a response using a transformer model based on the query and retrieved documents, considering their relevance (distances).\n",
        "    \"\"\"\n",
        "    # Read content of retrieved documents\n",
        "    retrieved_content = [read_file_content(doc) for doc in retrieved_docs]  # You can adjust the `read_file_content` to load real content if needed.\n",
        "\n",
        "    # Print the retrieved content for debugging\n",
        "    print(\"Retrieved Content:\", retrieved_content)\n",
        "\n",
        "    # Weight the content based on distance (inverse of distance: smaller distance = more weight)\n",
        "    weighted_content = []\n",
        "    for doc_content, dist in zip(retrieved_content, distances):\n",
        "        weight = 1 / (dist + 1e-5)  # To avoid division by zero, we add a small value to the distance\n",
        "        weighted_content.append((doc_content, weight))\n",
        "\n",
        "    # Sort the documents by their weight (most relevant document first)\n",
        "    weighted_content = sorted(weighted_content, key=lambda x: x[1], reverse=True)\n",
        "\n",
        "    # Combine the weighted content\n",
        "    combined_content = \" \".join([doc[0] for doc in weighted_content])\n",
        "\n",
        "    # Print the combined content for debugging\n",
        "    print(\"Combined Content:\", combined_content)\n",
        "\n",
        "    # Load T5 model and tokenizer\n",
        "    tokenizer = T5Tokenizer.from_pretrained(model_name)\n",
        "    model = T5ForConditionalGeneration.from_pretrained(model_name)\n",
        "\n",
        "    # Combine query and weighted content\n",
        "    input_text = f\"Query: {query} Context: {combined_content}\"\n",
        "\n",
        "    # Tokenize input\n",
        "    inputs = tokenizer.encode(input_text, return_tensors='pt', max_length=512, truncation=True)\n",
        "\n",
        "    # Generate response\n",
        "    outputs = model.generate(inputs, max_length=150, num_beams=5, early_stopping=True)\n",
        "    response = tokenizer.decode(outputs[0], skip_special_tokens=True)\n",
        "\n",
        "    return response\n",
        "\n",
        "# Example for testing\n",
        "retrieved_docs = [\"/content/drive/MyDrive/MES_text.txt\", \"/content/drive/MyDrive/MES_gmpua.pdf\", \"/content/drive/MyDrive/Manufacturing Execution System - What is it.mp4\"]\n",
        "distances = [0.94111496, 1.2923467, 1.2929051]  # Use the distances you obtained from FAISS\n",
        "\n",
        "query = \"What is process of material management in MES?\"\n",
        "\n",
        "# Generate response based on retrieved documents with weighted content\n",
        "response = generate_response_from_documents_with_weighted_content(query, retrieved_docs, distances)\n",
        "\n",
        "print(\"Generated Response:\", response)\n"
      ],
      "metadata": {
        "colab": {
          "base_uri": "https://localhost:8080/"
        },
        "id": "VX15BVLqlnCe",
        "outputId": "71200840-46c6-4515-92d8-1700dd0905f7"
      },
      "execution_count": 22,
      "outputs": [
        {
          "output_type": "stream",
          "name": "stdout",
          "text": [
            "Retrieved Content: ['Manufacturing Execution System (MES) in the Chemical Industry\\n\\nA Manufacturing Execution System (MES) is a software solution that manages and optimizes manufacturing operations. In the chemical industry, MES plays a crucial role in ensuring product quality, improving efficiency, and complying with regulatory standards.\\n\\nKey Features of a Chemical Industry MES\\n\\nProduction Planning and Scheduling:\\nCreates detailed production schedules based on demand forecasts and resource availability.\\nOptimizes production sequences to minimize downtime and maximize throughput.\\nReal-time Monitoring and Control:\\nTracks key process parameters like temperature, pressure, and flow rates.\\nDetects and alerts operators to potential issues, enabling timely corrective actions.\\nQuality Management:\\nEnforces quality standards and specifications.\\nCollects and analyzes quality data to identify trends and improve processes.\\nMaterial Management:\\nManages raw material inventory and usage.\\nTracks the movement of materials through the production process.\\nLabor Management:\\nTracks employee productivity and performance.\\nManages labor costs and schedules.\\nDocument Management:\\nStores and manages production documents, such as procedures, work instructions, and quality records.\\nRegulatory Compliance:\\nEnsures adherence to industry regulations and standards (e.g., FDA, EPA).\\nGenerates reports and documentation required for audits and inspections.\\nBenefits of Implementing a MES in the Chemical Industry\\n\\nImproved Efficiency:\\nOptimizes production processes and reduces downtime.\\nIncreases overall equipment effectiveness (OEE).\\nEnhanced Quality:\\nImproves product quality and consistency.\\nReduces product defects and recalls.\\nIncreased Productivity:\\nMaximizes production output and minimizes waste.\\nBetter Decision-Making:\\nProvides real-time data and analytics to support informed decision-making.\\nRegulatory Compliance:\\nEnsures adherence to industry regulations and standards.\\nReduced Costs:\\nOptimizes resource utilization and minimizes operational costs.\\nBy implementing a robust MES solution, chemical manufacturers can achieve significant improvements in productivity, quality, and compliance.\\nIntegration with Other Systems:\\n\\nERP: Seamless integration with Enterprise Resource Planning (ERP) systems to share information on production orders, materials, and inventory.\\nSCADA: Integration with Supervisory Control and Data Acquisition (SCADA) systems for real-time monitoring and control of process equipment.\\nLIMS: Integration with Laboratory Information Management Systems (LIMS) for efficient management of laboratory data and analysis.\\nData Analytics and Predictive Maintenance:\\n\\nData Analytics: Leveraging advanced analytics techniques to extract valuable insights from production data.\\nPredictive Maintenance: Using historical data and machine learning to predict equipment failures and schedule maintenance proactively.\\nCybersecurity:\\n\\nImplementing robust cybersecurity measures to protect sensitive production data and prevent cyberattacks.\\nEnsuring compliance with industry standards like ISA-95 and GAMP 5.\\nFuture Trends in Chemical Industry MES:\\n\\nIoT and IIoT: Utilizing IoT devices to collect real-time data from various sources, enabling more accurate and timely decision-making.\\nDigital Twin Technology: Creating digital replicas of physical assets to simulate and optimize production processes.\\nArtificial Intelligence and Machine Learning: Employing AI and ML algorithms to improve predictive maintenance, quality control, and overall operational efficiency.\\nBy embracing these advanced technologies and strategies, chemical manufacturers can further optimize their MES solutions and gain a competitive edge in the market.', 'Sample PDF content about material management in MES.', 'Sample audio content about material management in MES.']\n",
            "Combined Content: Manufacturing Execution System (MES) in the Chemical Industry\n",
            "\n",
            "A Manufacturing Execution System (MES) is a software solution that manages and optimizes manufacturing operations. In the chemical industry, MES plays a crucial role in ensuring product quality, improving efficiency, and complying with regulatory standards.\n",
            "\n",
            "Key Features of a Chemical Industry MES\n",
            "\n",
            "Production Planning and Scheduling:\n",
            "Creates detailed production schedules based on demand forecasts and resource availability.\n",
            "Optimizes production sequences to minimize downtime and maximize throughput.\n",
            "Real-time Monitoring and Control:\n",
            "Tracks key process parameters like temperature, pressure, and flow rates.\n",
            "Detects and alerts operators to potential issues, enabling timely corrective actions.\n",
            "Quality Management:\n",
            "Enforces quality standards and specifications.\n",
            "Collects and analyzes quality data to identify trends and improve processes.\n",
            "Material Management:\n",
            "Manages raw material inventory and usage.\n",
            "Tracks the movement of materials through the production process.\n",
            "Labor Management:\n",
            "Tracks employee productivity and performance.\n",
            "Manages labor costs and schedules.\n",
            "Document Management:\n",
            "Stores and manages production documents, such as procedures, work instructions, and quality records.\n",
            "Regulatory Compliance:\n",
            "Ensures adherence to industry regulations and standards (e.g., FDA, EPA).\n",
            "Generates reports and documentation required for audits and inspections.\n",
            "Benefits of Implementing a MES in the Chemical Industry\n",
            "\n",
            "Improved Efficiency:\n",
            "Optimizes production processes and reduces downtime.\n",
            "Increases overall equipment effectiveness (OEE).\n",
            "Enhanced Quality:\n",
            "Improves product quality and consistency.\n",
            "Reduces product defects and recalls.\n",
            "Increased Productivity:\n",
            "Maximizes production output and minimizes waste.\n",
            "Better Decision-Making:\n",
            "Provides real-time data and analytics to support informed decision-making.\n",
            "Regulatory Compliance:\n",
            "Ensures adherence to industry regulations and standards.\n",
            "Reduced Costs:\n",
            "Optimizes resource utilization and minimizes operational costs.\n",
            "By implementing a robust MES solution, chemical manufacturers can achieve significant improvements in productivity, quality, and compliance.\n",
            "Integration with Other Systems:\n",
            "\n",
            "ERP: Seamless integration with Enterprise Resource Planning (ERP) systems to share information on production orders, materials, and inventory.\n",
            "SCADA: Integration with Supervisory Control and Data Acquisition (SCADA) systems for real-time monitoring and control of process equipment.\n",
            "LIMS: Integration with Laboratory Information Management Systems (LIMS) for efficient management of laboratory data and analysis.\n",
            "Data Analytics and Predictive Maintenance:\n",
            "\n",
            "Data Analytics: Leveraging advanced analytics techniques to extract valuable insights from production data.\n",
            "Predictive Maintenance: Using historical data and machine learning to predict equipment failures and schedule maintenance proactively.\n",
            "Cybersecurity:\n",
            "\n",
            "Implementing robust cybersecurity measures to protect sensitive production data and prevent cyberattacks.\n",
            "Ensuring compliance with industry standards like ISA-95 and GAMP 5.\n",
            "Future Trends in Chemical Industry MES:\n",
            "\n",
            "IoT and IIoT: Utilizing IoT devices to collect real-time data from various sources, enabling more accurate and timely decision-making.\n",
            "Digital Twin Technology: Creating digital replicas of physical assets to simulate and optimize production processes.\n",
            "Artificial Intelligence and Machine Learning: Employing AI and ML algorithms to improve predictive maintenance, quality control, and overall operational efficiency.\n",
            "By embracing these advanced technologies and strategies, chemical manufacturers can further optimize their MES solutions and gain a competitive edge in the market. Sample PDF content about material management in MES. Sample audio content about material management in MES.\n",
            "Generated Response: : What is process of material management in MES? Context: Manufacturing Execution System (MES) in the Chemical Industry A Manufacturing Execution System (MES) in the Chemical Industry A Manufacturing Execution System (MES) is a software solution that manages and optimizes manufacturing operations. In the chemical industry, MES plays a crucial role in ensuring product quality, improving efficiency, and complying with regulatory standards. Key Features of a Manufacturing Execution System (MES) in the Chemical Industry Improved Efficiency: Optimiz\n"
          ]
        }
      ]
    },
    {
      "cell_type": "code",
      "source": [
        "!pip install torch"
      ],
      "metadata": {
        "colab": {
          "base_uri": "https://localhost:8080/"
        },
        "collapsed": true,
        "id": "P6OW4bBUo8Nv",
        "outputId": "a7fd2076-4338-4668-b60e-5777427db5ca"
      },
      "execution_count": 25,
      "outputs": [
        {
          "output_type": "stream",
          "name": "stdout",
          "text": [
            "Requirement already satisfied: torch in /usr/local/lib/python3.10/dist-packages (2.5.1+cu121)\n",
            "Requirement already satisfied: filelock in /usr/local/lib/python3.10/dist-packages (from torch) (3.16.1)\n",
            "Requirement already satisfied: typing-extensions>=4.8.0 in /usr/local/lib/python3.10/dist-packages (from torch) (4.12.2)\n",
            "Requirement already satisfied: networkx in /usr/local/lib/python3.10/dist-packages (from torch) (3.4.2)\n",
            "Requirement already satisfied: jinja2 in /usr/local/lib/python3.10/dist-packages (from torch) (3.1.4)\n",
            "Requirement already satisfied: fsspec in /usr/local/lib/python3.10/dist-packages (from torch) (2024.10.0)\n",
            "Requirement already satisfied: sympy==1.13.1 in /usr/local/lib/python3.10/dist-packages (from torch) (1.13.1)\n",
            "Requirement already satisfied: mpmath<1.4,>=1.1.0 in /usr/local/lib/python3.10/dist-packages (from sympy==1.13.1->torch) (1.3.0)\n",
            "Requirement already satisfied: MarkupSafe>=2.0 in /usr/local/lib/python3.10/dist-packages (from jinja2->torch) (3.0.2)\n"
          ]
        }
      ]
    },
    {
      "cell_type": "code",
      "source": [
        "import numpy as np\n",
        "import faiss\n",
        "from transformers import BertTokenizer, BertModel, pipeline\n",
        "from sklearn.metrics.pairwise import cosine_similarity\n",
        "import torch # Import the torch module\n",
        "\n",
        "\n",
        "# Load pre-existing embeddings (assumed to be already generated and stored in FAISS)\n",
        "embeddings_audio = np.load(\"/content/drive/MyDrive/MES_Files/embeddings_audio.npy\")\n",
        "embeddings_pdf = np.load(\"/content/drive/MyDrive/MES_Files/embeddings_pdf.npy\")\n",
        "embeddings_txt = np.load(\"/content/drive/MyDrive/MES_Files/embeddings_txt.npy\")\n",
        "\n",
        "# Combine embeddings from different formats into one vector database\n",
        "embeddings = np.concatenate([embeddings_audio, embeddings_pdf, embeddings_txt], axis=0)\n",
        "\n",
        "# FAISS index creation and loading\n",
        "# Get the dimension of the embeddings\n",
        "embedding_dim = embeddings.shape[1]\n",
        "index = faiss.IndexFlatL2(embedding_dim)  # Initialize with the correct dimension\n",
        "index.add(embeddings)\n",
        "\n",
        "# User query (you can replace this with the dynamic input)\n",
        "query = \"What is the process of material management in MES?\"\n",
        "\n",
        "# Step 1: Convert query into embeddings using a transformer model\n",
        "tokenizer = BertTokenizer.from_pretrained(\"bert-base-uncased\")\n",
        "model = BertModel.from_pretrained(\"bert-base-uncased\")\n",
        "\n",
        "# Tokenize and get embeddings for the query\n",
        "inputs = tokenizer(query, return_tensors=\"pt\", padding=True, truncation=True, max_length=512)\n",
        "with torch.no_grad():\n",
        "    query_embedding = model(**inputs).last_hidden_state.mean(dim=1).cpu().numpy()\n",
        "\n",
        "# Reshape or reduce the dimensionality of the query_embedding to match the FAISS index dimension\n",
        "query_embedding = query_embedding[:, :embedding_dim] # Assuming you want to keep the first 384 dimensions\n",
        "\n",
        "\n",
        "# Step 2: Perform cosine similarity search with FAISS index\n",
        "distances, indices = index.search(query_embedding, k=3)  # Retrieve top 3 most relevant results\n",
        "\n",
        "# Step 3: Retrieve and filter the content based on similarity scores\n",
        "# Assuming you have corresponding documents or content at these indices\n",
        "document_paths = [\"/content/drive/MyDrive/MES_text.txt\", \"/content/drive/MyDrive/MES_gmpua.pdf\", \"/content/drive/MyDrive/Manufacturing Execution System - What is it.mp4\"]\n",
        "\n",
        "# Function to load content based on file type\n",
        "def load_content(file_path):\n",
        "    if file_path.endswith(\".txt\"):\n",
        "        with open(file_path, \"r\") as f:\n",
        "            return f.read()\n",
        "    elif file_path.endswith(\".pdf\"):\n",
        "        # Example: Use a PDF reading library like PyMuPDF or PyPDF2 to extract text from PDFs\n",
        "        from PyPDF2 import PdfReader\n",
        "        reader = PdfReader(file_path)\n",
        "        return \" \".join([page.extract_text() for page in reader.pages])\n",
        "    elif file_path.endswith(\".mp4\"):\n",
        "        # Use an audio-to-text model (like Speech-to-Text) or extract metadata\n",
        "        return \"Sample audio content about material management in MES.\"\n",
        "    else:\n",
        "        return \"\"\n",
        "\n",
        "# Retrieve content for the most similar documents\n",
        "retrieved_content = [load_content(document_paths[i]) for i in indices[0]]\n",
        "\n",
        "# Combine content (filter based on relevance to material management)\n",
        "combined_content = \"\"\n",
        "for content in retrieved_content:\n",
        "    if \"material management\" in content.lower():\n",
        "        combined_content += content + \"\\n\"\n",
        "\n",
        "# Step 4: Generate response using the combined relevant content\n",
        "# Here, we can use a BART model or any other summarization model to summarize the retrieved content.\n",
        "summarizer = pipeline(\"summarization\", model=\"facebook/bart-large-cnn\")\n",
        "summary = summarizer(combined_content, max_length=150, min_length=50, do_sample=False)\n",
        "\n",
        "# Print the"
      ],
      "metadata": {
        "colab": {
          "base_uri": "https://localhost:8080/",
          "height": 209,
          "referenced_widgets": [
            "ad807ff8c70b4d498c919155f14e8b30",
            "46f06fe1658c4651acd94e20166d81b2",
            "cf269fa2124f487399d453a970a43fc1",
            "78c19fee2d1e4181b1b23f21a476b1f3",
            "0d9a469619bd4dbfad50b4258f593c45",
            "4c38814747ea419295e807c10ef1697a",
            "257e1852c82f424a970785e3982a8a5b",
            "bbfdf2e6203a4035b6c9600af1076837",
            "405bbd8be0e94293945d79b5309bdb5d",
            "916fcfd0f885495597676a2ca2ab26fe",
            "a54ad39fa8ba42f4bb4b4b535536964b",
            "9c00d700e0a940f49b7e0fcb62028f33",
            "90df0c0e1ea74a3fb88a8fe618be05f9",
            "068f79f5db264da6ba9de20a43bb1ed9",
            "c0a5257438874cb2b0b6cba1dd7936c3",
            "3b32c97430d54f0c9635426ef9a20002",
            "8dc949832e254b08ba0348a90d8c8fc2",
            "36b97583544c4c38bf76489115f7fd91",
            "95cf6b80ac594e8cafcbea2499089f64",
            "074f7b6f6552409c83ed8464080b13e5",
            "d7d63b345b0b4279af55f9ac6d4b2994",
            "9ed774f98d9946c29079fea17bdfbfe6",
            "aa1f1a0664c7467294552e5f3da6dd2b",
            "0a64da69b8264097bedae588f2b5a3c8",
            "4eb1d402f99c4b8f8d96a7f583019005",
            "2475253cf4924596bb01f862d0cf132a",
            "c4203a14d18b41eaa3a2ecf1a636cff0",
            "b99a805b092e447da4e9379318338144",
            "0417f541db81435f9318802a08510bd8",
            "56f4e26bad1b44ecb0c7604bce5b5e8a",
            "98c01c5364784efc9db0bd7368e731f2",
            "1986ddf590d740a99f4eec58e7e1705f",
            "4bca58dd70bb4245aafe0dc6f8ec140a",
            "8146cbaf63d74d2ab737ea3ce28653d2",
            "54688ba75f5e4ed1ad4a0576384fbc48",
            "bf9e8edfe6694220a5f5a1557a77d406",
            "23c863b49670429591cce2f6056574e8",
            "2546736a85294382b53d11f2a506e029",
            "148554247f874a20a6611cd12c9cea75",
            "e02828b53b134b799e60e7767c073648",
            "88d37a933f394e0e92a240c4508f6ad4",
            "c43b40ed85f04551bcd55e7b491f9659",
            "b1a5df2d1ddd4c0fbf6985dc6e65ec8a",
            "3bcbad2bfda34824ac6e4dca26444782",
            "2aea2c780ccf43f0bfcc60d2dd37337d",
            "41a6caeedfbe4a07a18e2beea87fbb7e",
            "118390cdb04742b99ae7e827609db484",
            "807a42de8ead4fd1903de7df56deace4",
            "5a4443c0e32e4294b2fd786a86810c66",
            "0e0bab4a14c34a848b1dcf0b6b38f002",
            "db2dd36f0107458c8143a24ba544c4af",
            "24964d3216da4142824791b198ae58f6",
            "d904c55083af45ddbe6ec7585a2c707f",
            "c9df0fce10ac41f0962ab057c302c2cb",
            "896bd339f3134872816677c883825f07",
            "75f9056a70204c15b61437ad22fa2193",
            "81b241e4b2e84b559c733b9f5c6a100b",
            "4cc45ff4cb844aaea94e0f556ba40df0",
            "62277edf071e47c2b58fc29a9797a23b",
            "f3c20fdf7ab34fcdab768111faf4a5b2",
            "ab8546ea515848578cffc1d9e9216bf1",
            "7057988bd86042898243d97e60ff3fd3",
            "2987e06d996a4d9a8085f30e0f0a79cc",
            "d82158815d4548b5ae282d2ae1b669ba",
            "b6661f7836634bc6a6da81055243c390",
            "023589f7814842289a82bdabba8c5a06"
          ]
        },
        "id": "WO3zAPx-mMTW",
        "outputId": "fa443299-26e1-48dc-82f0-5ad60366e075"
      },
      "execution_count": 27,
      "outputs": [
        {
          "output_type": "display_data",
          "data": {
            "text/plain": [
              "config.json:   0%|          | 0.00/1.58k [00:00<?, ?B/s]"
            ],
            "application/vnd.jupyter.widget-view+json": {
              "version_major": 2,
              "version_minor": 0,
              "model_id": "ad807ff8c70b4d498c919155f14e8b30"
            }
          },
          "metadata": {}
        },
        {
          "output_type": "display_data",
          "data": {
            "text/plain": [
              "model.safetensors:   0%|          | 0.00/1.63G [00:00<?, ?B/s]"
            ],
            "application/vnd.jupyter.widget-view+json": {
              "version_major": 2,
              "version_minor": 0,
              "model_id": "9c00d700e0a940f49b7e0fcb62028f33"
            }
          },
          "metadata": {}
        },
        {
          "output_type": "display_data",
          "data": {
            "text/plain": [
              "generation_config.json:   0%|          | 0.00/363 [00:00<?, ?B/s]"
            ],
            "application/vnd.jupyter.widget-view+json": {
              "version_major": 2,
              "version_minor": 0,
              "model_id": "aa1f1a0664c7467294552e5f3da6dd2b"
            }
          },
          "metadata": {}
        },
        {
          "output_type": "display_data",
          "data": {
            "text/plain": [
              "vocab.json:   0%|          | 0.00/899k [00:00<?, ?B/s]"
            ],
            "application/vnd.jupyter.widget-view+json": {
              "version_major": 2,
              "version_minor": 0,
              "model_id": "8146cbaf63d74d2ab737ea3ce28653d2"
            }
          },
          "metadata": {}
        },
        {
          "output_type": "display_data",
          "data": {
            "text/plain": [
              "merges.txt:   0%|          | 0.00/456k [00:00<?, ?B/s]"
            ],
            "application/vnd.jupyter.widget-view+json": {
              "version_major": 2,
              "version_minor": 0,
              "model_id": "2aea2c780ccf43f0bfcc60d2dd37337d"
            }
          },
          "metadata": {}
        },
        {
          "output_type": "display_data",
          "data": {
            "text/plain": [
              "tokenizer.json:   0%|          | 0.00/1.36M [00:00<?, ?B/s]"
            ],
            "application/vnd.jupyter.widget-view+json": {
              "version_major": 2,
              "version_minor": 0,
              "model_id": "75f9056a70204c15b61437ad22fa2193"
            }
          },
          "metadata": {}
        }
      ]
    },
    {
      "cell_type": "code",
      "source": [
        "# Print the final response\n",
        "generated_response = f\"Query: {query}\\nContext: {combined_content}\\nSummary: {summary[0]['summary_text']}\"\n",
        "print(generated_response)"
      ],
      "metadata": {
        "colab": {
          "base_uri": "https://localhost:8080/"
        },
        "id": "BVKAIyVTo4BQ",
        "outputId": "ee83511c-ed94-4e0e-a3af-2a4e265b092b"
      },
      "execution_count": 28,
      "outputs": [
        {
          "output_type": "stream",
          "name": "stdout",
          "text": [
            "Query: What is the process of material management in MES?\n",
            "Context: Sample audio content about material management in MES.\n",
            "Manufacturing Execution System (MES) in the Chemical Industry\n",
            "\n",
            "A Manufacturing Execution System (MES) is a software solution that manages and optimizes manufacturing operations. In the chemical industry, MES plays a crucial role in ensuring product quality, improving efficiency, and complying with regulatory standards.\n",
            "\n",
            "Key Features of a Chemical Industry MES\n",
            "\n",
            "Production Planning and Scheduling:\n",
            "Creates detailed production schedules based on demand forecasts and resource availability.\n",
            "Optimizes production sequences to minimize downtime and maximize throughput.\n",
            "Real-time Monitoring and Control:\n",
            "Tracks key process parameters like temperature, pressure, and flow rates.\n",
            "Detects and alerts operators to potential issues, enabling timely corrective actions.\n",
            "Quality Management:\n",
            "Enforces quality standards and specifications.\n",
            "Collects and analyzes quality data to identify trends and improve processes.\n",
            "Material Management:\n",
            "Manages raw material inventory and usage.\n",
            "Tracks the movement of materials through the production process.\n",
            "Labor Management:\n",
            "Tracks employee productivity and performance.\n",
            "Manages labor costs and schedules.\n",
            "Document Management:\n",
            "Stores and manages production documents, such as procedures, work instructions, and quality records.\n",
            "Regulatory Compliance:\n",
            "Ensures adherence to industry regulations and standards (e.g., FDA, EPA).\n",
            "Generates reports and documentation required for audits and inspections.\n",
            "Benefits of Implementing a MES in the Chemical Industry\n",
            "\n",
            "Improved Efficiency:\n",
            "Optimizes production processes and reduces downtime.\n",
            "Increases overall equipment effectiveness (OEE).\n",
            "Enhanced Quality:\n",
            "Improves product quality and consistency.\n",
            "Reduces product defects and recalls.\n",
            "Increased Productivity:\n",
            "Maximizes production output and minimizes waste.\n",
            "Better Decision-Making:\n",
            "Provides real-time data and analytics to support informed decision-making.\n",
            "Regulatory Compliance:\n",
            "Ensures adherence to industry regulations and standards.\n",
            "Reduced Costs:\n",
            "Optimizes resource utilization and minimizes operational costs.\n",
            "By implementing a robust MES solution, chemical manufacturers can achieve significant improvements in productivity, quality, and compliance.\n",
            "Integration with Other Systems:\n",
            "\n",
            "ERP: Seamless integration with Enterprise Resource Planning (ERP) systems to share information on production orders, materials, and inventory.\n",
            "SCADA: Integration with Supervisory Control and Data Acquisition (SCADA) systems for real-time monitoring and control of process equipment.\n",
            "LIMS: Integration with Laboratory Information Management Systems (LIMS) for efficient management of laboratory data and analysis.\n",
            "Data Analytics and Predictive Maintenance:\n",
            "\n",
            "Data Analytics: Leveraging advanced analytics techniques to extract valuable insights from production data.\n",
            "Predictive Maintenance: Using historical data and machine learning to predict equipment failures and schedule maintenance proactively.\n",
            "Cybersecurity:\n",
            "\n",
            "Implementing robust cybersecurity measures to protect sensitive production data and prevent cyberattacks.\n",
            "Ensuring compliance with industry standards like ISA-95 and GAMP 5.\n",
            "Future Trends in Chemical Industry MES:\n",
            "\n",
            "IoT and IIoT: Utilizing IoT devices to collect real-time data from various sources, enabling more accurate and timely decision-making.\n",
            "Digital Twin Technology: Creating digital replicas of physical assets to simulate and optimize production processes.\n",
            "Artificial Intelligence and Machine Learning: Employing AI and ML algorithms to improve predictive maintenance, quality control, and overall operational efficiency.\n",
            "By embracing these advanced technologies and strategies, chemical manufacturers can further optimize their MES solutions and gain a competitive edge in the market.\n",
            "\n",
            "Summary: Manufacturing Execution System (MES) in the Chemical Industry is a software solution that manages and optimizes manufacturing operations. In the chemical industry, MES plays a crucial role in ensuring product quality, improving efficiency, and complying with regulatory standards.\n"
          ]
        }
      ]
    },
    {
      "cell_type": "markdown",
      "source": [
        "Streamlit Deployment\n",
        "\n",
        "\n",
        "\n",
        "---\n",
        "\n"
      ],
      "metadata": {
        "id": "JiQFW0kWpwCE"
      }
    }
  ]
}